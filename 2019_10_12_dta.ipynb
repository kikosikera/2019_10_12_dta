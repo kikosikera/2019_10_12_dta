{
  "nbformat": 4,
  "nbformat_minor": 0,
  "metadata": {
    "colab": {
      "name": "2019_10_12_dta.ipynb",
      "provenance": [],
      "collapsed_sections": [],
      "toc_visible": true,
      "include_colab_link": true
    },
    "kernelspec": {
      "name": "python3",
      "display_name": "Python 3"
    }
  },
  "cells": [
    {
      "cell_type": "markdown",
      "metadata": {
        "id": "view-in-github",
        "colab_type": "text"
      },
      "source": [
        "<a href=\"https://colab.research.google.com/github/kikosikera/2019_10_12_dta/blob/master/2019_10_12_dta.ipynb\" target=\"_parent\"><img src=\"https://colab.research.google.com/assets/colab-badge.svg\" alt=\"Open In Colab\"/></a>"
      ]
    },
    {
      "cell_type": "markdown",
      "metadata": {
        "id": "bwTk4U7-_tuw",
        "colab_type": "text"
      },
      "source": [
        "## Bank CDM Data: A Decision Tree Approach\n",
        "\n",
        "#### > Summary > Categorical Data > Classification > Build the Data Model > Predictions \n",
        "\n",
        "### A Data-Driven decision using a Classification Model\n",
        "- The data is related with consumer direct marketing campaigns (phone calls) of a banking institution. \n",
        "- This study seeks results predicting if the client will subscribe (yes/no) to a term deposit through by building a Decision Tree."
      ]
    },
    {
      "cell_type": "code",
      "metadata": {
        "id": "nv2l0CBLRA6S",
        "colab_type": "code",
        "colab": {}
      },
      "source": [
        "# Source: https://archive.ics.uci.edu/ml/datasets.php\n",
        "# Folder: 'Bank+Marketing'"
      ],
      "execution_count": 0,
      "outputs": []
    },
    {
      "cell_type": "markdown",
      "metadata": {
        "id": "tNg884ALRRlu",
        "colab_type": "text"
      },
      "source": [
        "### Import Libraries and Datasets"
      ]
    },
    {
      "cell_type": "code",
      "metadata": {
        "id": "s_XSJLAxRauM",
        "colab_type": "code",
        "colab": {}
      },
      "source": [
        "import pandas as pd\n",
        "import numpy as np\n",
        "import matplotlib.pyplot as plt\n",
        "import seaborn as sns\n",
        "from sklearn.cluster import KMeans\n",
        "from sklearn import datasets\n",
        "from io import StringIO\n",
        "from sklearn.tree import export_graphviz\n",
        "from sklearn.model_selection import train_test_split\n",
        "from sklearn import tree\n",
        "from sklearn import metrics\n",
        "%matplotlib inline"
      ],
      "execution_count": 0,
      "outputs": []
    },
    {
      "cell_type": "code",
      "metadata": {
        "id": "YlTI_6xnRe20",
        "colab_type": "code",
        "outputId": "0872c415-c097-4a3e-d680-54f5be7a2be0",
        "colab": {
          "base_uri": "https://localhost:8080/",
          "height": 33
        }
      },
      "source": [
        "from google.colab import drive\n",
        "drive.mount('/content/drive')"
      ],
      "execution_count": 5,
      "outputs": [
        {
          "output_type": "stream",
          "text": [
            "Drive already mounted at /content/drive; to attempt to forcibly remount, call drive.mount(\"/content/drive\", force_remount=True).\n"
          ],
          "name": "stdout"
        }
      ]
    },
    {
      "cell_type": "code",
      "metadata": {
        "id": "ZjAFr0HbRq78",
        "colab_type": "code",
        "colab": {}
      },
      "source": [
        "# Load dataset file\n",
        "df_bank = pd.read_csv(\"/content/drive/My Drive/Colab Notebooks/Data/PROJ/2019_10_12_dta/Data/bank_cdm_dta.csv\", sep = ',', low_memory=False)"
      ],
      "execution_count": 0,
      "outputs": []
    },
    {
      "cell_type": "code",
      "metadata": {
        "id": "pJnARtx5SNUx",
        "colab_type": "code",
        "outputId": "0870cdaa-50bb-4abf-902b-a71b358cedde",
        "colab": {
          "base_uri": "https://localhost:8080/",
          "height": 616
        }
      },
      "source": [
        "df_bank.shape, list(df_bank), df_bank.notnull().sum()"
      ],
      "execution_count": 7,
      "outputs": [
        {
          "output_type": "execute_result",
          "data": {
            "text/plain": [
              "((11162, 17),\n",
              " ['age',\n",
              "  'job',\n",
              "  'marital',\n",
              "  'education',\n",
              "  'default',\n",
              "  'balance',\n",
              "  'housing',\n",
              "  'loan',\n",
              "  'contact',\n",
              "  'day',\n",
              "  'month',\n",
              "  'duration',\n",
              "  'campaign',\n",
              "  'pdays',\n",
              "  'previous',\n",
              "  'poutcome',\n",
              "  'deposit'],\n",
              " age          11162\n",
              " job          11162\n",
              " marital      11162\n",
              " education    11162\n",
              " default      11162\n",
              " balance      11162\n",
              " housing      11162\n",
              " loan         11162\n",
              " contact      11162\n",
              " day          11162\n",
              " month        11162\n",
              " duration     11162\n",
              " campaign     11162\n",
              " pdays        11162\n",
              " previous     11162\n",
              " poutcome     11162\n",
              " deposit      11162\n",
              " dtype: int64)"
            ]
          },
          "metadata": {
            "tags": []
          },
          "execution_count": 7
        }
      ]
    },
    {
      "cell_type": "code",
      "metadata": {
        "id": "664Srp1USSpN",
        "colab_type": "code",
        "outputId": "b7bc1a30-c6dc-4d87-abbf-64305ffe323e",
        "colab": {
          "base_uri": "https://localhost:8080/",
          "height": 197
        }
      },
      "source": [
        "df_bank.head()"
      ],
      "execution_count": 8,
      "outputs": [
        {
          "output_type": "execute_result",
          "data": {
            "text/html": [
              "<div>\n",
              "<style scoped>\n",
              "    .dataframe tbody tr th:only-of-type {\n",
              "        vertical-align: middle;\n",
              "    }\n",
              "\n",
              "    .dataframe tbody tr th {\n",
              "        vertical-align: top;\n",
              "    }\n",
              "\n",
              "    .dataframe thead th {\n",
              "        text-align: right;\n",
              "    }\n",
              "</style>\n",
              "<table border=\"1\" class=\"dataframe\">\n",
              "  <thead>\n",
              "    <tr style=\"text-align: right;\">\n",
              "      <th></th>\n",
              "      <th>age</th>\n",
              "      <th>job</th>\n",
              "      <th>marital</th>\n",
              "      <th>education</th>\n",
              "      <th>default</th>\n",
              "      <th>balance</th>\n",
              "      <th>housing</th>\n",
              "      <th>loan</th>\n",
              "      <th>contact</th>\n",
              "      <th>day</th>\n",
              "      <th>month</th>\n",
              "      <th>duration</th>\n",
              "      <th>campaign</th>\n",
              "      <th>pdays</th>\n",
              "      <th>previous</th>\n",
              "      <th>poutcome</th>\n",
              "      <th>deposit</th>\n",
              "    </tr>\n",
              "  </thead>\n",
              "  <tbody>\n",
              "    <tr>\n",
              "      <th>0</th>\n",
              "      <td>59</td>\n",
              "      <td>admin.</td>\n",
              "      <td>married</td>\n",
              "      <td>secondary</td>\n",
              "      <td>no</td>\n",
              "      <td>2343</td>\n",
              "      <td>yes</td>\n",
              "      <td>no</td>\n",
              "      <td>unknown</td>\n",
              "      <td>5</td>\n",
              "      <td>may</td>\n",
              "      <td>1042</td>\n",
              "      <td>1</td>\n",
              "      <td>-1</td>\n",
              "      <td>0</td>\n",
              "      <td>unknown</td>\n",
              "      <td>yes</td>\n",
              "    </tr>\n",
              "    <tr>\n",
              "      <th>1</th>\n",
              "      <td>56</td>\n",
              "      <td>admin.</td>\n",
              "      <td>married</td>\n",
              "      <td>secondary</td>\n",
              "      <td>no</td>\n",
              "      <td>45</td>\n",
              "      <td>no</td>\n",
              "      <td>no</td>\n",
              "      <td>unknown</td>\n",
              "      <td>5</td>\n",
              "      <td>may</td>\n",
              "      <td>1467</td>\n",
              "      <td>1</td>\n",
              "      <td>-1</td>\n",
              "      <td>0</td>\n",
              "      <td>unknown</td>\n",
              "      <td>yes</td>\n",
              "    </tr>\n",
              "    <tr>\n",
              "      <th>2</th>\n",
              "      <td>41</td>\n",
              "      <td>technician</td>\n",
              "      <td>married</td>\n",
              "      <td>secondary</td>\n",
              "      <td>no</td>\n",
              "      <td>1270</td>\n",
              "      <td>yes</td>\n",
              "      <td>no</td>\n",
              "      <td>unknown</td>\n",
              "      <td>5</td>\n",
              "      <td>may</td>\n",
              "      <td>1389</td>\n",
              "      <td>1</td>\n",
              "      <td>-1</td>\n",
              "      <td>0</td>\n",
              "      <td>unknown</td>\n",
              "      <td>yes</td>\n",
              "    </tr>\n",
              "    <tr>\n",
              "      <th>3</th>\n",
              "      <td>55</td>\n",
              "      <td>services</td>\n",
              "      <td>married</td>\n",
              "      <td>secondary</td>\n",
              "      <td>no</td>\n",
              "      <td>2476</td>\n",
              "      <td>yes</td>\n",
              "      <td>no</td>\n",
              "      <td>unknown</td>\n",
              "      <td>5</td>\n",
              "      <td>may</td>\n",
              "      <td>579</td>\n",
              "      <td>1</td>\n",
              "      <td>-1</td>\n",
              "      <td>0</td>\n",
              "      <td>unknown</td>\n",
              "      <td>yes</td>\n",
              "    </tr>\n",
              "    <tr>\n",
              "      <th>4</th>\n",
              "      <td>54</td>\n",
              "      <td>admin.</td>\n",
              "      <td>married</td>\n",
              "      <td>tertiary</td>\n",
              "      <td>no</td>\n",
              "      <td>184</td>\n",
              "      <td>no</td>\n",
              "      <td>no</td>\n",
              "      <td>unknown</td>\n",
              "      <td>5</td>\n",
              "      <td>may</td>\n",
              "      <td>673</td>\n",
              "      <td>2</td>\n",
              "      <td>-1</td>\n",
              "      <td>0</td>\n",
              "      <td>unknown</td>\n",
              "      <td>yes</td>\n",
              "    </tr>\n",
              "  </tbody>\n",
              "</table>\n",
              "</div>"
            ],
            "text/plain": [
              "   age         job  marital  education  ... pdays  previous poutcome deposit\n",
              "0   59      admin.  married  secondary  ...    -1         0  unknown     yes\n",
              "1   56      admin.  married  secondary  ...    -1         0  unknown     yes\n",
              "2   41  technician  married  secondary  ...    -1         0  unknown     yes\n",
              "3   55    services  married  secondary  ...    -1         0  unknown     yes\n",
              "4   54      admin.  married   tertiary  ...    -1         0  unknown     yes\n",
              "\n",
              "[5 rows x 17 columns]"
            ]
          },
          "metadata": {
            "tags": []
          },
          "execution_count": 8
        }
      ]
    },
    {
      "cell_type": "markdown",
      "metadata": {
        "id": "jEbijJfmSaDG",
        "colab_type": "text"
      },
      "source": [
        "## Summary of data\n",
        "- Input variables\n",
        "\n"
      ]
    },
    {
      "cell_type": "markdown",
      "metadata": {
        "id": "Gvu98fDJ4Kjg",
        "colab_type": "text"
      },
      "source": [
        "### Categorical Variables :\n",
        "<br>**[1] job      :** admin,technician, services, management, retired, blue-collar, unemployed, entrepreneur,\n",
        "               housemaid, unknown, self-employed, student\n",
        "<br>**[2] marital  :** married, single, divorced\n",
        "<br>**[3] education:** secondary, tertiary, primary, unknown\n",
        "<br>**[4] default  :** yes, no\n",
        "<br>**[5] housing  :** yes, no\n",
        "<br>**[6] loan     :** yes, no \n",
        "<br>**[7] deposit  :** yes, no **(Dependent Variable)**\n",
        "<br>**[8] contact  :** unknown, cellular, telephone\n",
        "<br>**[9] month    :** jan, feb, mar, apr, may, jun, jul, aug, sep, oct, nov, dec\n",
        "<br>**[10] poutcome:** unknown, other, failure, success\n",
        "\n",
        "### Numerical Variables:\n",
        "**[1] age \n",
        "<br>[2] balance\n",
        "<br>[3] day\n",
        "<br>[4] duration\n",
        "<br>[5] campaign\n",
        "<br>[6] pdays\n",
        "<br>[7] previous**"
      ]
    },
    {
      "cell_type": "code",
      "metadata": {
        "_cell_guid": "142f9bce-cf27-45c6-a776-0ad6e8c660c9",
        "_uuid": "f928d98a7f2c9fda54ee20d38b3d03101339e451",
        "id": "hS26bbhUmFBV",
        "colab_type": "code",
        "outputId": "d81d8fd6-2d2b-4344-eb6a-03e5a6979744",
        "colab": {
          "base_uri": "https://localhost:8080/",
          "height": 316
        }
      },
      "source": [
        "# Check if the data set contains any null values \n",
        "df_bank[df_bank.isnull().any(axis=1)].count()"
      ],
      "execution_count": 9,
      "outputs": [
        {
          "output_type": "execute_result",
          "data": {
            "text/plain": [
              "age          0\n",
              "job          0\n",
              "marital      0\n",
              "education    0\n",
              "default      0\n",
              "balance      0\n",
              "housing      0\n",
              "loan         0\n",
              "contact      0\n",
              "day          0\n",
              "month        0\n",
              "duration     0\n",
              "campaign     0\n",
              "pdays        0\n",
              "previous     0\n",
              "poutcome     0\n",
              "deposit      0\n",
              "dtype: int64"
            ]
          },
          "metadata": {
            "tags": []
          },
          "execution_count": 9
        }
      ]
    },
    {
      "cell_type": "code",
      "metadata": {
        "_cell_guid": "a484827c-4ca4-42ce-895a-8228f4b86c31",
        "_uuid": "8d03c75ae5115ebc97a26ac95408240177c7fc3f",
        "id": "PsckW-9MmFBZ",
        "colab_type": "code",
        "outputId": "2d63bc17-9f82-4179-bbbd-01a19379da23",
        "colab": {
          "base_uri": "https://localhost:8080/",
          "height": 287
        }
      },
      "source": [
        "df_bank.describe()"
      ],
      "execution_count": 10,
      "outputs": [
        {
          "output_type": "execute_result",
          "data": {
            "text/html": [
              "<div>\n",
              "<style scoped>\n",
              "    .dataframe tbody tr th:only-of-type {\n",
              "        vertical-align: middle;\n",
              "    }\n",
              "\n",
              "    .dataframe tbody tr th {\n",
              "        vertical-align: top;\n",
              "    }\n",
              "\n",
              "    .dataframe thead th {\n",
              "        text-align: right;\n",
              "    }\n",
              "</style>\n",
              "<table border=\"1\" class=\"dataframe\">\n",
              "  <thead>\n",
              "    <tr style=\"text-align: right;\">\n",
              "      <th></th>\n",
              "      <th>age</th>\n",
              "      <th>balance</th>\n",
              "      <th>day</th>\n",
              "      <th>duration</th>\n",
              "      <th>campaign</th>\n",
              "      <th>pdays</th>\n",
              "      <th>previous</th>\n",
              "    </tr>\n",
              "  </thead>\n",
              "  <tbody>\n",
              "    <tr>\n",
              "      <th>count</th>\n",
              "      <td>11162.000000</td>\n",
              "      <td>11162.000000</td>\n",
              "      <td>11162.000000</td>\n",
              "      <td>11162.000000</td>\n",
              "      <td>11162.000000</td>\n",
              "      <td>11162.000000</td>\n",
              "      <td>11162.000000</td>\n",
              "    </tr>\n",
              "    <tr>\n",
              "      <th>mean</th>\n",
              "      <td>41.231948</td>\n",
              "      <td>1528.538524</td>\n",
              "      <td>15.658036</td>\n",
              "      <td>371.993818</td>\n",
              "      <td>2.508421</td>\n",
              "      <td>51.330407</td>\n",
              "      <td>0.832557</td>\n",
              "    </tr>\n",
              "    <tr>\n",
              "      <th>std</th>\n",
              "      <td>11.913369</td>\n",
              "      <td>3225.413326</td>\n",
              "      <td>8.420740</td>\n",
              "      <td>347.128386</td>\n",
              "      <td>2.722077</td>\n",
              "      <td>108.758282</td>\n",
              "      <td>2.292007</td>\n",
              "    </tr>\n",
              "    <tr>\n",
              "      <th>min</th>\n",
              "      <td>18.000000</td>\n",
              "      <td>-6847.000000</td>\n",
              "      <td>1.000000</td>\n",
              "      <td>2.000000</td>\n",
              "      <td>1.000000</td>\n",
              "      <td>-1.000000</td>\n",
              "      <td>0.000000</td>\n",
              "    </tr>\n",
              "    <tr>\n",
              "      <th>25%</th>\n",
              "      <td>32.000000</td>\n",
              "      <td>122.000000</td>\n",
              "      <td>8.000000</td>\n",
              "      <td>138.000000</td>\n",
              "      <td>1.000000</td>\n",
              "      <td>-1.000000</td>\n",
              "      <td>0.000000</td>\n",
              "    </tr>\n",
              "    <tr>\n",
              "      <th>50%</th>\n",
              "      <td>39.000000</td>\n",
              "      <td>550.000000</td>\n",
              "      <td>15.000000</td>\n",
              "      <td>255.000000</td>\n",
              "      <td>2.000000</td>\n",
              "      <td>-1.000000</td>\n",
              "      <td>0.000000</td>\n",
              "    </tr>\n",
              "    <tr>\n",
              "      <th>75%</th>\n",
              "      <td>49.000000</td>\n",
              "      <td>1708.000000</td>\n",
              "      <td>22.000000</td>\n",
              "      <td>496.000000</td>\n",
              "      <td>3.000000</td>\n",
              "      <td>20.750000</td>\n",
              "      <td>1.000000</td>\n",
              "    </tr>\n",
              "    <tr>\n",
              "      <th>max</th>\n",
              "      <td>95.000000</td>\n",
              "      <td>81204.000000</td>\n",
              "      <td>31.000000</td>\n",
              "      <td>3881.000000</td>\n",
              "      <td>63.000000</td>\n",
              "      <td>854.000000</td>\n",
              "      <td>58.000000</td>\n",
              "    </tr>\n",
              "  </tbody>\n",
              "</table>\n",
              "</div>"
            ],
            "text/plain": [
              "                age       balance  ...         pdays      previous\n",
              "count  11162.000000  11162.000000  ...  11162.000000  11162.000000\n",
              "mean      41.231948   1528.538524  ...     51.330407      0.832557\n",
              "std       11.913369   3225.413326  ...    108.758282      2.292007\n",
              "min       18.000000  -6847.000000  ...     -1.000000      0.000000\n",
              "25%       32.000000    122.000000  ...     -1.000000      0.000000\n",
              "50%       39.000000    550.000000  ...     -1.000000      0.000000\n",
              "75%       49.000000   1708.000000  ...     20.750000      1.000000\n",
              "max       95.000000  81204.000000  ...    854.000000     58.000000\n",
              "\n",
              "[8 rows x 7 columns]"
            ]
          },
          "metadata": {
            "tags": []
          },
          "execution_count": 10
        }
      ]
    },
    {
      "cell_type": "code",
      "metadata": {
        "_cell_guid": "e6ba8fa2-01b7-4367-a270-f1920256d5fa",
        "_uuid": "7903e72092085d476e25da6c9d8c21944828860e",
        "id": "SnAMImD-mFBc",
        "colab_type": "code",
        "outputId": "a68c35f7-e45d-4fdc-fe8c-79d6ecddc1cb",
        "colab": {
          "base_uri": "https://localhost:8080/",
          "height": 283
        }
      },
      "source": [
        "# Boxplot for 'age'\n",
        "g = sns.boxplot(x=df_bank[\"age\"], color=\"purple\")"
      ],
      "execution_count": 11,
      "outputs": [
        {
          "output_type": "display_data",
          "data": {
            "image/png": "[encoded data removed]",
            "text/plain": [
              "<Figure size 432x288 with 1 Axes>"
            ]
          },
          "metadata": {
            "tags": []
          }
        }
      ]
    },
    {
      "cell_type": "code",
      "metadata": {
        "_cell_guid": "acc641bd-9106-4ad0-9bad-f2697c928a7b",
        "_uuid": "abb417d0393ff2fc1aabb4de00e3abdf62a6bee5",
        "id": "3mVJRBbBmFBf",
        "colab_type": "code",
        "outputId": "671f1c12-d457-4f3a-a89f-0755bc4c0f99",
        "colab": {
          "base_uri": "https://localhost:8080/",
          "height": 300
        }
      },
      "source": [
        "# Distribution of Age\n",
        "sns.distplot(df_bank.age, bins=100, color=\"purple\")"
      ],
      "execution_count": 12,
      "outputs": [
        {
          "output_type": "execute_result",
          "data": {
            "text/plain": [
              "<matplotlib.axes._subplots.AxesSubplot at 0x7fb2d888e860>"
            ]
          },
          "metadata": {
            "tags": []
          },
          "execution_count": 12
        },
        {
          "output_type": "display_data",
          "data": {
            "image/png": "[encoded data removed]",
            "text/plain": [
              "<Figure size 432x288 with 1 Axes>"
            ]
          },
          "metadata": {
            "tags": []
          }
        }
      ]
    },
    {
      "cell_type": "code",
      "metadata": {
        "_cell_guid": "adfd247f-d1ca-4d7e-8051-68953444c45e",
        "_uuid": "2dee5b84f833a8dadecc5ad650b51bccef68171e",
        "id": "mATPDjs2mFBi",
        "colab_type": "code",
        "outputId": "58ebc62a-27e6-45b6-9bcc-305571862ba5",
        "colab": {
          "base_uri": "https://localhost:8080/",
          "height": 283
        }
      },
      "source": [
        "# Boxplot for 'duration'\n",
        "g = sns.boxplot(x=df_bank[\"duration\"], color=\"purple\")"
      ],
      "execution_count": 13,
      "outputs": [
        {
          "output_type": "display_data",
          "data": {
            "image/png": "[encoded data removed]",
            "text/plain": [
              "<Figure size 432x288 with 1 Axes>"
            ]
          },
          "metadata": {
            "tags": []
          }
        }
      ]
    },
    {
      "cell_type": "code",
      "metadata": {
        "_cell_guid": "42f62c14-5580-4d61-93ae-183544f8aed7",
        "_uuid": "c4fea6ac4146428ee87a210f0bcd3cd6bc635a46",
        "id": "M5p4askTmFBl",
        "colab_type": "code",
        "outputId": "da45285c-538c-4b2d-ee1d-e9be84e8f0bd",
        "colab": {
          "base_uri": "https://localhost:8080/",
          "height": 300
        }
      },
      "source": [
        "sns.distplot(df_bank.duration, bins=100, color=\"purple\")"
      ],
      "execution_count": 14,
      "outputs": [
        {
          "output_type": "execute_result",
          "data": {
            "text/plain": [
              "<matplotlib.axes._subplots.AxesSubplot at 0x7fb2d888ec18>"
            ]
          },
          "metadata": {
            "tags": []
          },
          "execution_count": 14
        },
        {
          "output_type": "display_data",
          "data": {
            "image/png": "[encoded data removed]",
            "text/plain": [
              "<Figure size 432x288 with 1 Axes>"
            ]
          },
          "metadata": {
            "tags": []
          }
        }
      ]
    },
    {
      "cell_type": "markdown",
      "metadata": {
        "id": "Vab9tR1g6Goz",
        "colab_type": "text"
      },
      "source": [
        "## Convert categorical data"
      ]
    },
    {
      "cell_type": "code",
      "metadata": {
        "id": "YTnBpfwE6Zxb",
        "colab_type": "code",
        "colab": {}
      },
      "source": [
        "# Make a df copy for parsing\n",
        "df_bank_data = df_bank.copy()"
      ],
      "execution_count": 0,
      "outputs": []
    },
    {
      "cell_type": "markdown",
      "metadata": {
        "id": "t--bBeXZ_9f-",
        "colab_type": "text"
      },
      "source": [
        "#### 1. Job"
      ]
    },
    {
      "cell_type": "code",
      "metadata": {
        "id": "JZU3GN9l9eYd",
        "colab_type": "code",
        "outputId": "52f96106-d7b4-4756-ee57-761720a4ab92",
        "colab": {
          "base_uri": "https://localhost:8080/",
          "height": 137
        }
      },
      "source": [
        "df_bank_data.head(3)"
      ],
      "execution_count": 16,
      "outputs": [
        {
          "output_type": "execute_result",
          "data": {
            "text/html": [
              "<div>\n",
              "<style scoped>\n",
              "    .dataframe tbody tr th:only-of-type {\n",
              "        vertical-align: middle;\n",
              "    }\n",
              "\n",
              "    .dataframe tbody tr th {\n",
              "        vertical-align: top;\n",
              "    }\n",
              "\n",
              "    .dataframe thead th {\n",
              "        text-align: right;\n",
              "    }\n",
              "</style>\n",
              "<table border=\"1\" class=\"dataframe\">\n",
              "  <thead>\n",
              "    <tr style=\"text-align: right;\">\n",
              "      <th></th>\n",
              "      <th>age</th>\n",
              "      <th>job</th>\n",
              "      <th>marital</th>\n",
              "      <th>education</th>\n",
              "      <th>default</th>\n",
              "      <th>balance</th>\n",
              "      <th>housing</th>\n",
              "      <th>loan</th>\n",
              "      <th>contact</th>\n",
              "      <th>day</th>\n",
              "      <th>month</th>\n",
              "      <th>duration</th>\n",
              "      <th>campaign</th>\n",
              "      <th>pdays</th>\n",
              "      <th>previous</th>\n",
              "      <th>poutcome</th>\n",
              "      <th>deposit</th>\n",
              "    </tr>\n",
              "  </thead>\n",
              "  <tbody>\n",
              "    <tr>\n",
              "      <th>0</th>\n",
              "      <td>59</td>\n",
              "      <td>admin.</td>\n",
              "      <td>married</td>\n",
              "      <td>secondary</td>\n",
              "      <td>no</td>\n",
              "      <td>2343</td>\n",
              "      <td>yes</td>\n",
              "      <td>no</td>\n",
              "      <td>unknown</td>\n",
              "      <td>5</td>\n",
              "      <td>may</td>\n",
              "      <td>1042</td>\n",
              "      <td>1</td>\n",
              "      <td>-1</td>\n",
              "      <td>0</td>\n",
              "      <td>unknown</td>\n",
              "      <td>yes</td>\n",
              "    </tr>\n",
              "    <tr>\n",
              "      <th>1</th>\n",
              "      <td>56</td>\n",
              "      <td>admin.</td>\n",
              "      <td>married</td>\n",
              "      <td>secondary</td>\n",
              "      <td>no</td>\n",
              "      <td>45</td>\n",
              "      <td>no</td>\n",
              "      <td>no</td>\n",
              "      <td>unknown</td>\n",
              "      <td>5</td>\n",
              "      <td>may</td>\n",
              "      <td>1467</td>\n",
              "      <td>1</td>\n",
              "      <td>-1</td>\n",
              "      <td>0</td>\n",
              "      <td>unknown</td>\n",
              "      <td>yes</td>\n",
              "    </tr>\n",
              "    <tr>\n",
              "      <th>2</th>\n",
              "      <td>41</td>\n",
              "      <td>technician</td>\n",
              "      <td>married</td>\n",
              "      <td>secondary</td>\n",
              "      <td>no</td>\n",
              "      <td>1270</td>\n",
              "      <td>yes</td>\n",
              "      <td>no</td>\n",
              "      <td>unknown</td>\n",
              "      <td>5</td>\n",
              "      <td>may</td>\n",
              "      <td>1389</td>\n",
              "      <td>1</td>\n",
              "      <td>-1</td>\n",
              "      <td>0</td>\n",
              "      <td>unknown</td>\n",
              "      <td>yes</td>\n",
              "    </tr>\n",
              "  </tbody>\n",
              "</table>\n",
              "</div>"
            ],
            "text/plain": [
              "   age         job  marital  education  ... pdays  previous poutcome deposit\n",
              "0   59      admin.  married  secondary  ...    -1         0  unknown     yes\n",
              "1   56      admin.  married  secondary  ...    -1         0  unknown     yes\n",
              "2   41  technician  married  secondary  ...    -1         0  unknown     yes\n",
              "\n",
              "[3 rows x 17 columns]"
            ]
          },
          "metadata": {
            "tags": []
          },
          "execution_count": 16
        }
      ]
    },
    {
      "cell_type": "code",
      "metadata": {
        "id": "McNN6SRV6-JE",
        "colab_type": "code",
        "outputId": "aea262f3-8964-4abe-bbd5-5d137360c2dd",
        "colab": {
          "base_uri": "https://localhost:8080/",
          "height": 216
        }
      },
      "source": [
        "df_bank_data['job'].unique().tolist()"
      ],
      "execution_count": 17,
      "outputs": [
        {
          "output_type": "execute_result",
          "data": {
            "text/plain": [
              "['admin.',\n",
              " 'technician',\n",
              " 'services',\n",
              " 'management',\n",
              " 'retired',\n",
              " 'blue-collar',\n",
              " 'unemployed',\n",
              " 'entrepreneur',\n",
              " 'housemaid',\n",
              " 'unknown',\n",
              " 'self-employed',\n",
              " 'student']"
            ]
          },
          "metadata": {
            "tags": []
          },
          "execution_count": 17
        }
      ]
    },
    {
      "cell_type": "code",
      "metadata": {
        "id": "A6HX5sft9Fo4",
        "colab_type": "code",
        "outputId": "4af1f088-bd28-460a-ebea-11a89c4a8847",
        "colab": {
          "base_uri": "https://localhost:8080/",
          "height": 216
        }
      },
      "source": [
        "# Explore People who made a deposit VS Job category\n",
        "jobs = ['management','blue-collar','technician','admin.','services','retired','self-employed','student',\\\n",
        "        'unemployed','entrepreneur','housemaid','unknown']\n",
        "\n",
        "for j in jobs:\n",
        "    print(\"{:15} : {:5}\". format(j, len(df_bank_data[(df_bank_data.deposit == \"yes\") & (df_bank_data.job ==j)])))"
      ],
      "execution_count": 18,
      "outputs": [
        {
          "output_type": "stream",
          "text": [
            "management      :  1301\n",
            "blue-collar     :   708\n",
            "technician      :   840\n",
            "admin.          :   631\n",
            "services        :   369\n",
            "retired         :   516\n",
            "self-employed   :   187\n",
            "student         :   269\n",
            "unemployed      :   202\n",
            "entrepreneur    :   123\n",
            "housemaid       :   109\n",
            "unknown         :    34\n"
          ],
          "name": "stdout"
        }
      ]
    },
    {
      "cell_type": "code",
      "metadata": {
        "id": "yM8clGmG-Bxz",
        "colab_type": "code",
        "outputId": "35e92e26-92da-4dd7-e07e-e14b5179585a",
        "colab": {
          "base_uri": "https://localhost:8080/",
          "height": 233
        }
      },
      "source": [
        "# Different types of job categories and their counts\n",
        "df_bank_data.job.value_counts()"
      ],
      "execution_count": 19,
      "outputs": [
        {
          "output_type": "execute_result",
          "data": {
            "text/plain": [
              "management       2566\n",
              "blue-collar      1944\n",
              "technician       1823\n",
              "admin.           1334\n",
              "services          923\n",
              "retired           778\n",
              "self-employed     405\n",
              "student           360\n",
              "unemployed        357\n",
              "entrepreneur      328\n",
              "housemaid         274\n",
              "unknown            70\n",
              "Name: job, dtype: int64"
            ]
          },
          "metadata": {
            "tags": []
          },
          "execution_count": 19
        }
      ]
    },
    {
      "cell_type": "code",
      "metadata": {
        "id": "7IQOzMup-PFa",
        "colab_type": "code",
        "colab": {}
      },
      "source": [
        "# Combine similar jobs into categories\n",
        "df_bank_data['job'] = df_bank_data['job'].replace(['management', 'admin.'], 'white-collar')\n",
        "df_bank_data['job'] = df_bank_data['job'].replace(['services','housemaid'], 'pink-collar')\n",
        "df_bank_data['job'] = df_bank_data['job'].replace(['retired', 'student', 'unemployed', 'unknown'], 'other')"
      ],
      "execution_count": 0,
      "outputs": []
    },
    {
      "cell_type": "code",
      "metadata": {
        "id": "maso7VBV-Z14",
        "colab_type": "code",
        "outputId": "d9a802ca-c33a-4f60-df03-253aa805d7cc",
        "colab": {
          "base_uri": "https://localhost:8080/",
          "height": 150
        }
      },
      "source": [
        "# New value counts\n",
        "df_bank_data.job.value_counts()"
      ],
      "execution_count": 21,
      "outputs": [
        {
          "output_type": "execute_result",
          "data": {
            "text/plain": [
              "white-collar     3900\n",
              "blue-collar      1944\n",
              "technician       1823\n",
              "other            1565\n",
              "pink-collar      1197\n",
              "self-employed     405\n",
              "entrepreneur      328\n",
              "Name: job, dtype: int64"
            ]
          },
          "metadata": {
            "tags": []
          },
          "execution_count": 21
        }
      ]
    },
    {
      "cell_type": "markdown",
      "metadata": {
        "id": "u7uZj6Cp-lHP",
        "colab_type": "text"
      },
      "source": [
        "#### 2. Poutcome"
      ]
    },
    {
      "cell_type": "code",
      "metadata": {
        "colab_type": "code",
        "outputId": "c6b65cdd-9660-49af-8ad1-e286acf3ace9",
        "id": "f4B3sRXg_L4A",
        "colab": {
          "base_uri": "https://localhost:8080/",
          "height": 137
        }
      },
      "source": [
        "df_bank_data.head(3)"
      ],
      "execution_count": 22,
      "outputs": [
        {
          "output_type": "execute_result",
          "data": {
            "text/html": [
              "<div>\n",
              "<style scoped>\n",
              "    .dataframe tbody tr th:only-of-type {\n",
              "        vertical-align: middle;\n",
              "    }\n",
              "\n",
              "    .dataframe tbody tr th {\n",
              "        vertical-align: top;\n",
              "    }\n",
              "\n",
              "    .dataframe thead th {\n",
              "        text-align: right;\n",
              "    }\n",
              "</style>\n",
              "<table border=\"1\" class=\"dataframe\">\n",
              "  <thead>\n",
              "    <tr style=\"text-align: right;\">\n",
              "      <th></th>\n",
              "      <th>age</th>\n",
              "      <th>job</th>\n",
              "      <th>marital</th>\n",
              "      <th>education</th>\n",
              "      <th>default</th>\n",
              "      <th>balance</th>\n",
              "      <th>housing</th>\n",
              "      <th>loan</th>\n",
              "      <th>contact</th>\n",
              "      <th>day</th>\n",
              "      <th>month</th>\n",
              "      <th>duration</th>\n",
              "      <th>campaign</th>\n",
              "      <th>pdays</th>\n",
              "      <th>previous</th>\n",
              "      <th>poutcome</th>\n",
              "      <th>deposit</th>\n",
              "    </tr>\n",
              "  </thead>\n",
              "  <tbody>\n",
              "    <tr>\n",
              "      <th>0</th>\n",
              "      <td>59</td>\n",
              "      <td>white-collar</td>\n",
              "      <td>married</td>\n",
              "      <td>secondary</td>\n",
              "      <td>no</td>\n",
              "      <td>2343</td>\n",
              "      <td>yes</td>\n",
              "      <td>no</td>\n",
              "      <td>unknown</td>\n",
              "      <td>5</td>\n",
              "      <td>may</td>\n",
              "      <td>1042</td>\n",
              "      <td>1</td>\n",
              "      <td>-1</td>\n",
              "      <td>0</td>\n",
              "      <td>unknown</td>\n",
              "      <td>yes</td>\n",
              "    </tr>\n",
              "    <tr>\n",
              "      <th>1</th>\n",
              "      <td>56</td>\n",
              "      <td>white-collar</td>\n",
              "      <td>married</td>\n",
              "      <td>secondary</td>\n",
              "      <td>no</td>\n",
              "      <td>45</td>\n",
              "      <td>no</td>\n",
              "      <td>no</td>\n",
              "      <td>unknown</td>\n",
              "      <td>5</td>\n",
              "      <td>may</td>\n",
              "      <td>1467</td>\n",
              "      <td>1</td>\n",
              "      <td>-1</td>\n",
              "      <td>0</td>\n",
              "      <td>unknown</td>\n",
              "      <td>yes</td>\n",
              "    </tr>\n",
              "    <tr>\n",
              "      <th>2</th>\n",
              "      <td>41</td>\n",
              "      <td>technician</td>\n",
              "      <td>married</td>\n",
              "      <td>secondary</td>\n",
              "      <td>no</td>\n",
              "      <td>1270</td>\n",
              "      <td>yes</td>\n",
              "      <td>no</td>\n",
              "      <td>unknown</td>\n",
              "      <td>5</td>\n",
              "      <td>may</td>\n",
              "      <td>1389</td>\n",
              "      <td>1</td>\n",
              "      <td>-1</td>\n",
              "      <td>0</td>\n",
              "      <td>unknown</td>\n",
              "      <td>yes</td>\n",
              "    </tr>\n",
              "  </tbody>\n",
              "</table>\n",
              "</div>"
            ],
            "text/plain": [
              "   age           job  marital  education  ... pdays  previous poutcome deposit\n",
              "0   59  white-collar  married  secondary  ...    -1         0  unknown     yes\n",
              "1   56  white-collar  married  secondary  ...    -1         0  unknown     yes\n",
              "2   41    technician  married  secondary  ...    -1         0  unknown     yes\n",
              "\n",
              "[3 rows x 17 columns]"
            ]
          },
          "metadata": {
            "tags": []
          },
          "execution_count": 22
        }
      ]
    },
    {
      "cell_type": "code",
      "metadata": {
        "colab_type": "code",
        "outputId": "de0a98eb-68c3-4b57-d282-f34ada83b07b",
        "id": "2QDtfag3_L4H",
        "colab": {
          "base_uri": "https://localhost:8080/",
          "height": 33
        }
      },
      "source": [
        "df_bank_data['poutcome'].unique().tolist()"
      ],
      "execution_count": 23,
      "outputs": [
        {
          "output_type": "execute_result",
          "data": {
            "text/plain": [
              "['unknown', 'other', 'failure', 'success']"
            ]
          },
          "metadata": {
            "tags": []
          },
          "execution_count": 23
        }
      ]
    },
    {
      "cell_type": "code",
      "metadata": {
        "id": "APSqfNUn_TVu",
        "colab_type": "code",
        "outputId": "ea3dda29-403e-4328-8575-89bdcfca2f59",
        "colab": {
          "base_uri": "https://localhost:8080/",
          "height": 100
        }
      },
      "source": [
        "df_bank_data.poutcome.value_counts()"
      ],
      "execution_count": 24,
      "outputs": [
        {
          "output_type": "execute_result",
          "data": {
            "text/plain": [
              "unknown    8326\n",
              "failure    1228\n",
              "success    1071\n",
              "other       537\n",
              "Name: poutcome, dtype: int64"
            ]
          },
          "metadata": {
            "tags": []
          },
          "execution_count": 24
        }
      ]
    },
    {
      "cell_type": "code",
      "metadata": {
        "id": "mSROqyA-_Yc4",
        "colab_type": "code",
        "outputId": "342c339f-7c90-4f3a-f45f-14f0b1e1665a",
        "colab": {
          "base_uri": "https://localhost:8080/",
          "height": 83
        }
      },
      "source": [
        "# Combine 'unknown' and 'other' as 'other' isn't really match with either 'success' or 'failure'\n",
        "df_bank_data['poutcome'] = df_bank_data['poutcome'].replace(['other'] , 'unknown')\n",
        "df_bank_data.poutcome.value_counts()"
      ],
      "execution_count": 25,
      "outputs": [
        {
          "output_type": "execute_result",
          "data": {
            "text/plain": [
              "unknown    8863\n",
              "failure    1228\n",
              "success    1071\n",
              "Name: poutcome, dtype: int64"
            ]
          },
          "metadata": {
            "tags": []
          },
          "execution_count": 25
        }
      ]
    },
    {
      "cell_type": "markdown",
      "metadata": {
        "id": "ifW14f6p_uAO",
        "colab_type": "text"
      },
      "source": [
        "#### 3. Contact"
      ]
    },
    {
      "cell_type": "code",
      "metadata": {
        "colab_type": "code",
        "outputId": "1625431d-3a65-4424-82ce-14b10104db8f",
        "id": "OhHiozmgAHmX",
        "colab": {
          "base_uri": "https://localhost:8080/",
          "height": 33
        }
      },
      "source": [
        "df_bank_data['contact'].unique().tolist()"
      ],
      "execution_count": 26,
      "outputs": [
        {
          "output_type": "execute_result",
          "data": {
            "text/plain": [
              "['unknown', 'cellular', 'telephone']"
            ]
          },
          "metadata": {
            "tags": []
          },
          "execution_count": 26
        }
      ]
    },
    {
      "cell_type": "code",
      "metadata": {
        "id": "INMFwJ6OANRz",
        "colab_type": "code",
        "colab": {}
      },
      "source": [
        "# Drop 'contact', as every participant has been contacted. \n",
        "df_bank_data.drop('contact', axis=1, inplace=True)"
      ],
      "execution_count": 0,
      "outputs": []
    },
    {
      "cell_type": "code",
      "metadata": {
        "colab_type": "code",
        "outputId": "cd38bcb5-e782-4643-df27-11e9416f93d0",
        "id": "i0c-F92FAHmS",
        "colab": {
          "base_uri": "https://localhost:8080/",
          "height": 137
        }
      },
      "source": [
        "df_bank_data.head(3)"
      ],
      "execution_count": 28,
      "outputs": [
        {
          "output_type": "execute_result",
          "data": {
            "text/html": [
              "<div>\n",
              "<style scoped>\n",
              "    .dataframe tbody tr th:only-of-type {\n",
              "        vertical-align: middle;\n",
              "    }\n",
              "\n",
              "    .dataframe tbody tr th {\n",
              "        vertical-align: top;\n",
              "    }\n",
              "\n",
              "    .dataframe thead th {\n",
              "        text-align: right;\n",
              "    }\n",
              "</style>\n",
              "<table border=\"1\" class=\"dataframe\">\n",
              "  <thead>\n",
              "    <tr style=\"text-align: right;\">\n",
              "      <th></th>\n",
              "      <th>age</th>\n",
              "      <th>job</th>\n",
              "      <th>marital</th>\n",
              "      <th>education</th>\n",
              "      <th>default</th>\n",
              "      <th>balance</th>\n",
              "      <th>housing</th>\n",
              "      <th>loan</th>\n",
              "      <th>day</th>\n",
              "      <th>month</th>\n",
              "      <th>duration</th>\n",
              "      <th>campaign</th>\n",
              "      <th>pdays</th>\n",
              "      <th>previous</th>\n",
              "      <th>poutcome</th>\n",
              "      <th>deposit</th>\n",
              "    </tr>\n",
              "  </thead>\n",
              "  <tbody>\n",
              "    <tr>\n",
              "      <th>0</th>\n",
              "      <td>59</td>\n",
              "      <td>white-collar</td>\n",
              "      <td>married</td>\n",
              "      <td>secondary</td>\n",
              "      <td>no</td>\n",
              "      <td>2343</td>\n",
              "      <td>yes</td>\n",
              "      <td>no</td>\n",
              "      <td>5</td>\n",
              "      <td>may</td>\n",
              "      <td>1042</td>\n",
              "      <td>1</td>\n",
              "      <td>-1</td>\n",
              "      <td>0</td>\n",
              "      <td>unknown</td>\n",
              "      <td>yes</td>\n",
              "    </tr>\n",
              "    <tr>\n",
              "      <th>1</th>\n",
              "      <td>56</td>\n",
              "      <td>white-collar</td>\n",
              "      <td>married</td>\n",
              "      <td>secondary</td>\n",
              "      <td>no</td>\n",
              "      <td>45</td>\n",
              "      <td>no</td>\n",
              "      <td>no</td>\n",
              "      <td>5</td>\n",
              "      <td>may</td>\n",
              "      <td>1467</td>\n",
              "      <td>1</td>\n",
              "      <td>-1</td>\n",
              "      <td>0</td>\n",
              "      <td>unknown</td>\n",
              "      <td>yes</td>\n",
              "    </tr>\n",
              "    <tr>\n",
              "      <th>2</th>\n",
              "      <td>41</td>\n",
              "      <td>technician</td>\n",
              "      <td>married</td>\n",
              "      <td>secondary</td>\n",
              "      <td>no</td>\n",
              "      <td>1270</td>\n",
              "      <td>yes</td>\n",
              "      <td>no</td>\n",
              "      <td>5</td>\n",
              "      <td>may</td>\n",
              "      <td>1389</td>\n",
              "      <td>1</td>\n",
              "      <td>-1</td>\n",
              "      <td>0</td>\n",
              "      <td>unknown</td>\n",
              "      <td>yes</td>\n",
              "    </tr>\n",
              "  </tbody>\n",
              "</table>\n",
              "</div>"
            ],
            "text/plain": [
              "   age           job  marital  education  ... pdays  previous poutcome deposit\n",
              "0   59  white-collar  married  secondary  ...    -1         0  unknown     yes\n",
              "1   56  white-collar  married  secondary  ...    -1         0  unknown     yes\n",
              "2   41    technician  married  secondary  ...    -1         0  unknown     yes\n",
              "\n",
              "[3 rows x 16 columns]"
            ]
          },
          "metadata": {
            "tags": []
          },
          "execution_count": 28
        }
      ]
    },
    {
      "cell_type": "markdown",
      "metadata": {
        "id": "bt-dcnSXAaG5",
        "colab_type": "text"
      },
      "source": [
        "#### 4. Default"
      ]
    },
    {
      "cell_type": "code",
      "metadata": {
        "id": "s95IsCyEAxmu",
        "colab_type": "code",
        "outputId": "e045abdf-a26a-4e25-e591-dc763f393599",
        "colab": {
          "base_uri": "https://localhost:8080/",
          "height": 33
        }
      },
      "source": [
        "df_bank_data['default'].unique().tolist()"
      ],
      "execution_count": 29,
      "outputs": [
        {
          "output_type": "execute_result",
          "data": {
            "text/plain": [
              "['no', 'yes']"
            ]
          },
          "metadata": {
            "tags": []
          },
          "execution_count": 29
        }
      ]
    },
    {
      "cell_type": "code",
      "metadata": {
        "id": "Dbw9pnOjA7Yr",
        "colab_type": "code",
        "colab": {}
      },
      "source": [
        "# values for \"default\" : yes/no\n",
        "df_bank_data[\"default\"]\n",
        "df_bank_data['default_cat'] = df_bank_data['default'].map( {'yes':1, 'no':0} )\n",
        "df_bank_data.drop('default', axis=1,inplace = True)"
      ],
      "execution_count": 0,
      "outputs": []
    },
    {
      "cell_type": "code",
      "metadata": {
        "id": "lVhhMMRsBFfe",
        "colab_type": "code",
        "outputId": "6c58e513-0fef-4461-8fdd-1c392884124b",
        "colab": {
          "base_uri": "https://localhost:8080/",
          "height": 137
        }
      },
      "source": [
        "df_bank_data.head(3)"
      ],
      "execution_count": 31,
      "outputs": [
        {
          "output_type": "execute_result",
          "data": {
            "text/html": [
              "<div>\n",
              "<style scoped>\n",
              "    .dataframe tbody tr th:only-of-type {\n",
              "        vertical-align: middle;\n",
              "    }\n",
              "\n",
              "    .dataframe tbody tr th {\n",
              "        vertical-align: top;\n",
              "    }\n",
              "\n",
              "    .dataframe thead th {\n",
              "        text-align: right;\n",
              "    }\n",
              "</style>\n",
              "<table border=\"1\" class=\"dataframe\">\n",
              "  <thead>\n",
              "    <tr style=\"text-align: right;\">\n",
              "      <th></th>\n",
              "      <th>age</th>\n",
              "      <th>job</th>\n",
              "      <th>marital</th>\n",
              "      <th>education</th>\n",
              "      <th>balance</th>\n",
              "      <th>housing</th>\n",
              "      <th>loan</th>\n",
              "      <th>day</th>\n",
              "      <th>month</th>\n",
              "      <th>duration</th>\n",
              "      <th>campaign</th>\n",
              "      <th>pdays</th>\n",
              "      <th>previous</th>\n",
              "      <th>poutcome</th>\n",
              "      <th>deposit</th>\n",
              "      <th>default_cat</th>\n",
              "    </tr>\n",
              "  </thead>\n",
              "  <tbody>\n",
              "    <tr>\n",
              "      <th>0</th>\n",
              "      <td>59</td>\n",
              "      <td>white-collar</td>\n",
              "      <td>married</td>\n",
              "      <td>secondary</td>\n",
              "      <td>2343</td>\n",
              "      <td>yes</td>\n",
              "      <td>no</td>\n",
              "      <td>5</td>\n",
              "      <td>may</td>\n",
              "      <td>1042</td>\n",
              "      <td>1</td>\n",
              "      <td>-1</td>\n",
              "      <td>0</td>\n",
              "      <td>unknown</td>\n",
              "      <td>yes</td>\n",
              "      <td>0</td>\n",
              "    </tr>\n",
              "    <tr>\n",
              "      <th>1</th>\n",
              "      <td>56</td>\n",
              "      <td>white-collar</td>\n",
              "      <td>married</td>\n",
              "      <td>secondary</td>\n",
              "      <td>45</td>\n",
              "      <td>no</td>\n",
              "      <td>no</td>\n",
              "      <td>5</td>\n",
              "      <td>may</td>\n",
              "      <td>1467</td>\n",
              "      <td>1</td>\n",
              "      <td>-1</td>\n",
              "      <td>0</td>\n",
              "      <td>unknown</td>\n",
              "      <td>yes</td>\n",
              "      <td>0</td>\n",
              "    </tr>\n",
              "    <tr>\n",
              "      <th>2</th>\n",
              "      <td>41</td>\n",
              "      <td>technician</td>\n",
              "      <td>married</td>\n",
              "      <td>secondary</td>\n",
              "      <td>1270</td>\n",
              "      <td>yes</td>\n",
              "      <td>no</td>\n",
              "      <td>5</td>\n",
              "      <td>may</td>\n",
              "      <td>1389</td>\n",
              "      <td>1</td>\n",
              "      <td>-1</td>\n",
              "      <td>0</td>\n",
              "      <td>unknown</td>\n",
              "      <td>yes</td>\n",
              "      <td>0</td>\n",
              "    </tr>\n",
              "  </tbody>\n",
              "</table>\n",
              "</div>"
            ],
            "text/plain": [
              "   age           job  marital  ... poutcome  deposit default_cat\n",
              "0   59  white-collar  married  ...  unknown      yes           0\n",
              "1   56  white-collar  married  ...  unknown      yes           0\n",
              "2   41    technician  married  ...  unknown      yes           0\n",
              "\n",
              "[3 rows x 16 columns]"
            ]
          },
          "metadata": {
            "tags": []
          },
          "execution_count": 31
        }
      ]
    },
    {
      "cell_type": "markdown",
      "metadata": {
        "id": "fosPo8bNBK9y",
        "colab_type": "text"
      },
      "source": [
        "#### 5. Housing"
      ]
    },
    {
      "cell_type": "code",
      "metadata": {
        "id": "bjhRKdGDBUa1",
        "colab_type": "code",
        "outputId": "a189675b-b700-4cd1-d711-dea4ebbe2e85",
        "colab": {
          "base_uri": "https://localhost:8080/",
          "height": 33
        }
      },
      "source": [
        "df_bank_data['housing'].unique().tolist()"
      ],
      "execution_count": 32,
      "outputs": [
        {
          "output_type": "execute_result",
          "data": {
            "text/plain": [
              "['yes', 'no']"
            ]
          },
          "metadata": {
            "tags": []
          },
          "execution_count": 32
        }
      ]
    },
    {
      "cell_type": "code",
      "metadata": {
        "id": "H3s7JLiACTiv",
        "colab_type": "code",
        "colab": {}
      },
      "source": [
        "# values for \"housing\" : yes/no\n",
        "df_bank_data[\"housing_cat\"]=df_bank_data['housing'].map({'yes':1, 'no':0})\n",
        "df_bank_data.drop('housing', axis=1,inplace = True)"
      ],
      "execution_count": 0,
      "outputs": []
    },
    {
      "cell_type": "code",
      "metadata": {
        "id": "V5Yfg6xKCcDb",
        "colab_type": "code",
        "outputId": "e282eb0f-762e-4035-a0ca-e4980dd899fd",
        "colab": {
          "base_uri": "https://localhost:8080/",
          "height": 137
        }
      },
      "source": [
        "df_bank_data.head(3)"
      ],
      "execution_count": 34,
      "outputs": [
        {
          "output_type": "execute_result",
          "data": {
            "text/html": [
              "<div>\n",
              "<style scoped>\n",
              "    .dataframe tbody tr th:only-of-type {\n",
              "        vertical-align: middle;\n",
              "    }\n",
              "\n",
              "    .dataframe tbody tr th {\n",
              "        vertical-align: top;\n",
              "    }\n",
              "\n",
              "    .dataframe thead th {\n",
              "        text-align: right;\n",
              "    }\n",
              "</style>\n",
              "<table border=\"1\" class=\"dataframe\">\n",
              "  <thead>\n",
              "    <tr style=\"text-align: right;\">\n",
              "      <th></th>\n",
              "      <th>age</th>\n",
              "      <th>job</th>\n",
              "      <th>marital</th>\n",
              "      <th>education</th>\n",
              "      <th>balance</th>\n",
              "      <th>loan</th>\n",
              "      <th>day</th>\n",
              "      <th>month</th>\n",
              "      <th>duration</th>\n",
              "      <th>campaign</th>\n",
              "      <th>pdays</th>\n",
              "      <th>previous</th>\n",
              "      <th>poutcome</th>\n",
              "      <th>deposit</th>\n",
              "      <th>default_cat</th>\n",
              "      <th>housing_cat</th>\n",
              "    </tr>\n",
              "  </thead>\n",
              "  <tbody>\n",
              "    <tr>\n",
              "      <th>0</th>\n",
              "      <td>59</td>\n",
              "      <td>white-collar</td>\n",
              "      <td>married</td>\n",
              "      <td>secondary</td>\n",
              "      <td>2343</td>\n",
              "      <td>no</td>\n",
              "      <td>5</td>\n",
              "      <td>may</td>\n",
              "      <td>1042</td>\n",
              "      <td>1</td>\n",
              "      <td>-1</td>\n",
              "      <td>0</td>\n",
              "      <td>unknown</td>\n",
              "      <td>yes</td>\n",
              "      <td>0</td>\n",
              "      <td>1</td>\n",
              "    </tr>\n",
              "    <tr>\n",
              "      <th>1</th>\n",
              "      <td>56</td>\n",
              "      <td>white-collar</td>\n",
              "      <td>married</td>\n",
              "      <td>secondary</td>\n",
              "      <td>45</td>\n",
              "      <td>no</td>\n",
              "      <td>5</td>\n",
              "      <td>may</td>\n",
              "      <td>1467</td>\n",
              "      <td>1</td>\n",
              "      <td>-1</td>\n",
              "      <td>0</td>\n",
              "      <td>unknown</td>\n",
              "      <td>yes</td>\n",
              "      <td>0</td>\n",
              "      <td>0</td>\n",
              "    </tr>\n",
              "    <tr>\n",
              "      <th>2</th>\n",
              "      <td>41</td>\n",
              "      <td>technician</td>\n",
              "      <td>married</td>\n",
              "      <td>secondary</td>\n",
              "      <td>1270</td>\n",
              "      <td>no</td>\n",
              "      <td>5</td>\n",
              "      <td>may</td>\n",
              "      <td>1389</td>\n",
              "      <td>1</td>\n",
              "      <td>-1</td>\n",
              "      <td>0</td>\n",
              "      <td>unknown</td>\n",
              "      <td>yes</td>\n",
              "      <td>0</td>\n",
              "      <td>1</td>\n",
              "    </tr>\n",
              "  </tbody>\n",
              "</table>\n",
              "</div>"
            ],
            "text/plain": [
              "   age           job  marital  ... deposit  default_cat housing_cat\n",
              "0   59  white-collar  married  ...     yes            0           1\n",
              "1   56  white-collar  married  ...     yes            0           0\n",
              "2   41    technician  married  ...     yes            0           1\n",
              "\n",
              "[3 rows x 16 columns]"
            ]
          },
          "metadata": {
            "tags": []
          },
          "execution_count": 34
        }
      ]
    },
    {
      "cell_type": "markdown",
      "metadata": {
        "id": "Lj63g_DWC1ii",
        "colab_type": "text"
      },
      "source": [
        "#### 6. Loan"
      ]
    },
    {
      "cell_type": "code",
      "metadata": {
        "id": "UfapQQUCDC86",
        "colab_type": "code",
        "outputId": "c363c9d0-8ae3-4b14-fc72-cc18e7cd9611",
        "colab": {
          "base_uri": "https://localhost:8080/",
          "height": 33
        }
      },
      "source": [
        "df_bank_data['loan'].unique().tolist()"
      ],
      "execution_count": 35,
      "outputs": [
        {
          "output_type": "execute_result",
          "data": {
            "text/plain": [
              "['no', 'yes']"
            ]
          },
          "metadata": {
            "tags": []
          },
          "execution_count": 35
        }
      ]
    },
    {
      "cell_type": "code",
      "metadata": {
        "id": "TvKA8UFfC-B2",
        "colab_type": "code",
        "colab": {}
      },
      "source": [
        "# values for \"loan\" : yes/no\n",
        "df_bank_data[\"loan_cat\"] = df_bank_data['loan'].map({'yes':1, 'no':0})\n",
        "df_bank_data.drop('loan', axis=1, inplace=True)"
      ],
      "execution_count": 0,
      "outputs": []
    },
    {
      "cell_type": "code",
      "metadata": {
        "id": "hq3_ckXGDYGv",
        "colab_type": "code",
        "outputId": "16003152-4609-419e-8507-34c11fd681ee",
        "colab": {
          "base_uri": "https://localhost:8080/",
          "height": 137
        }
      },
      "source": [
        "df_bank_data.head(3)"
      ],
      "execution_count": 37,
      "outputs": [
        {
          "output_type": "execute_result",
          "data": {
            "text/html": [
              "<div>\n",
              "<style scoped>\n",
              "    .dataframe tbody tr th:only-of-type {\n",
              "        vertical-align: middle;\n",
              "    }\n",
              "\n",
              "    .dataframe tbody tr th {\n",
              "        vertical-align: top;\n",
              "    }\n",
              "\n",
              "    .dataframe thead th {\n",
              "        text-align: right;\n",
              "    }\n",
              "</style>\n",
              "<table border=\"1\" class=\"dataframe\">\n",
              "  <thead>\n",
              "    <tr style=\"text-align: right;\">\n",
              "      <th></th>\n",
              "      <th>age</th>\n",
              "      <th>job</th>\n",
              "      <th>marital</th>\n",
              "      <th>education</th>\n",
              "      <th>balance</th>\n",
              "      <th>day</th>\n",
              "      <th>month</th>\n",
              "      <th>duration</th>\n",
              "      <th>campaign</th>\n",
              "      <th>pdays</th>\n",
              "      <th>previous</th>\n",
              "      <th>poutcome</th>\n",
              "      <th>deposit</th>\n",
              "      <th>default_cat</th>\n",
              "      <th>housing_cat</th>\n",
              "      <th>loan_cat</th>\n",
              "    </tr>\n",
              "  </thead>\n",
              "  <tbody>\n",
              "    <tr>\n",
              "      <th>0</th>\n",
              "      <td>59</td>\n",
              "      <td>white-collar</td>\n",
              "      <td>married</td>\n",
              "      <td>secondary</td>\n",
              "      <td>2343</td>\n",
              "      <td>5</td>\n",
              "      <td>may</td>\n",
              "      <td>1042</td>\n",
              "      <td>1</td>\n",
              "      <td>-1</td>\n",
              "      <td>0</td>\n",
              "      <td>unknown</td>\n",
              "      <td>yes</td>\n",
              "      <td>0</td>\n",
              "      <td>1</td>\n",
              "      <td>0</td>\n",
              "    </tr>\n",
              "    <tr>\n",
              "      <th>1</th>\n",
              "      <td>56</td>\n",
              "      <td>white-collar</td>\n",
              "      <td>married</td>\n",
              "      <td>secondary</td>\n",
              "      <td>45</td>\n",
              "      <td>5</td>\n",
              "      <td>may</td>\n",
              "      <td>1467</td>\n",
              "      <td>1</td>\n",
              "      <td>-1</td>\n",
              "      <td>0</td>\n",
              "      <td>unknown</td>\n",
              "      <td>yes</td>\n",
              "      <td>0</td>\n",
              "      <td>0</td>\n",
              "      <td>0</td>\n",
              "    </tr>\n",
              "    <tr>\n",
              "      <th>2</th>\n",
              "      <td>41</td>\n",
              "      <td>technician</td>\n",
              "      <td>married</td>\n",
              "      <td>secondary</td>\n",
              "      <td>1270</td>\n",
              "      <td>5</td>\n",
              "      <td>may</td>\n",
              "      <td>1389</td>\n",
              "      <td>1</td>\n",
              "      <td>-1</td>\n",
              "      <td>0</td>\n",
              "      <td>unknown</td>\n",
              "      <td>yes</td>\n",
              "      <td>0</td>\n",
              "      <td>1</td>\n",
              "      <td>0</td>\n",
              "    </tr>\n",
              "  </tbody>\n",
              "</table>\n",
              "</div>"
            ],
            "text/plain": [
              "   age           job  marital  ... default_cat  housing_cat  loan_cat\n",
              "0   59  white-collar  married  ...           0            1         0\n",
              "1   56  white-collar  married  ...           0            0         0\n",
              "2   41    technician  married  ...           0            1         0\n",
              "\n",
              "[3 rows x 16 columns]"
            ]
          },
          "metadata": {
            "tags": []
          },
          "execution_count": 37
        }
      ]
    },
    {
      "cell_type": "markdown",
      "metadata": {
        "id": "31WAp6fCDbQz",
        "colab_type": "text"
      },
      "source": [
        "#### 7. Month, Day"
      ]
    },
    {
      "cell_type": "code",
      "metadata": {
        "id": "YFGInLhSDikK",
        "colab_type": "code",
        "outputId": "3555cb0a-3b6d-4f0a-f028-df8c0ae0f17c",
        "colab": {
          "base_uri": "https://localhost:8080/",
          "height": 216
        }
      },
      "source": [
        "# month: last contact month of year\n",
        "df_bank_data['month'].unique().tolist()"
      ],
      "execution_count": 38,
      "outputs": [
        {
          "output_type": "execute_result",
          "data": {
            "text/plain": [
              "['may',\n",
              " 'jun',\n",
              " 'jul',\n",
              " 'aug',\n",
              " 'oct',\n",
              " 'nov',\n",
              " 'dec',\n",
              " 'jan',\n",
              " 'feb',\n",
              " 'mar',\n",
              " 'apr',\n",
              " 'sep']"
            ]
          },
          "metadata": {
            "tags": []
          },
          "execution_count": 38
        }
      ]
    },
    {
      "cell_type": "code",
      "metadata": {
        "id": "Q_kLI56fD3rd",
        "colab_type": "code",
        "outputId": "e22e2f00-38d7-4e17-d4a5-7e647ff9beb2",
        "colab": {
          "base_uri": "https://localhost:8080/",
          "height": 533
        }
      },
      "source": [
        "# day  : last contact day of the month\n",
        "df_bank_data['day'].unique().tolist()"
      ],
      "execution_count": 39,
      "outputs": [
        {
          "output_type": "execute_result",
          "data": {
            "text/plain": [
              "[5,\n",
              " 6,\n",
              " 7,\n",
              " 8,\n",
              " 9,\n",
              " 12,\n",
              " 13,\n",
              " 14,\n",
              " 15,\n",
              " 16,\n",
              " 19,\n",
              " 20,\n",
              " 21,\n",
              " 23,\n",
              " 26,\n",
              " 27,\n",
              " 28,\n",
              " 29,\n",
              " 30,\n",
              " 2,\n",
              " 3,\n",
              " 4,\n",
              " 11,\n",
              " 17,\n",
              " 18,\n",
              " 24,\n",
              " 1,\n",
              " 10,\n",
              " 22,\n",
              " 25,\n",
              " 31]"
            ]
          },
          "metadata": {
            "tags": []
          },
          "execution_count": 39
        }
      ]
    },
    {
      "cell_type": "code",
      "metadata": {
        "id": "uteIstOrEHtk",
        "colab_type": "code",
        "colab": {}
      },
      "source": [
        "# Drop 'month' and 'day' as they don't have any intrinsic meaning\n",
        "df_bank_data.drop('month', axis=1, inplace=True)\n",
        "df_bank_data.drop('day', axis=1, inplace=True)"
      ],
      "execution_count": 0,
      "outputs": []
    },
    {
      "cell_type": "code",
      "metadata": {
        "id": "18XsKYkLEQzI",
        "colab_type": "code",
        "outputId": "5d0dcb32-9acf-4ab8-8812-dbf36c40be7a",
        "colab": {
          "base_uri": "https://localhost:8080/",
          "height": 137
        }
      },
      "source": [
        "df_bank_data.head(3)"
      ],
      "execution_count": 41,
      "outputs": [
        {
          "output_type": "execute_result",
          "data": {
            "text/html": [
              "<div>\n",
              "<style scoped>\n",
              "    .dataframe tbody tr th:only-of-type {\n",
              "        vertical-align: middle;\n",
              "    }\n",
              "\n",
              "    .dataframe tbody tr th {\n",
              "        vertical-align: top;\n",
              "    }\n",
              "\n",
              "    .dataframe thead th {\n",
              "        text-align: right;\n",
              "    }\n",
              "</style>\n",
              "<table border=\"1\" class=\"dataframe\">\n",
              "  <thead>\n",
              "    <tr style=\"text-align: right;\">\n",
              "      <th></th>\n",
              "      <th>age</th>\n",
              "      <th>job</th>\n",
              "      <th>marital</th>\n",
              "      <th>education</th>\n",
              "      <th>balance</th>\n",
              "      <th>duration</th>\n",
              "      <th>campaign</th>\n",
              "      <th>pdays</th>\n",
              "      <th>previous</th>\n",
              "      <th>poutcome</th>\n",
              "      <th>deposit</th>\n",
              "      <th>default_cat</th>\n",
              "      <th>housing_cat</th>\n",
              "      <th>loan_cat</th>\n",
              "    </tr>\n",
              "  </thead>\n",
              "  <tbody>\n",
              "    <tr>\n",
              "      <th>0</th>\n",
              "      <td>59</td>\n",
              "      <td>white-collar</td>\n",
              "      <td>married</td>\n",
              "      <td>secondary</td>\n",
              "      <td>2343</td>\n",
              "      <td>1042</td>\n",
              "      <td>1</td>\n",
              "      <td>-1</td>\n",
              "      <td>0</td>\n",
              "      <td>unknown</td>\n",
              "      <td>yes</td>\n",
              "      <td>0</td>\n",
              "      <td>1</td>\n",
              "      <td>0</td>\n",
              "    </tr>\n",
              "    <tr>\n",
              "      <th>1</th>\n",
              "      <td>56</td>\n",
              "      <td>white-collar</td>\n",
              "      <td>married</td>\n",
              "      <td>secondary</td>\n",
              "      <td>45</td>\n",
              "      <td>1467</td>\n",
              "      <td>1</td>\n",
              "      <td>-1</td>\n",
              "      <td>0</td>\n",
              "      <td>unknown</td>\n",
              "      <td>yes</td>\n",
              "      <td>0</td>\n",
              "      <td>0</td>\n",
              "      <td>0</td>\n",
              "    </tr>\n",
              "    <tr>\n",
              "      <th>2</th>\n",
              "      <td>41</td>\n",
              "      <td>technician</td>\n",
              "      <td>married</td>\n",
              "      <td>secondary</td>\n",
              "      <td>1270</td>\n",
              "      <td>1389</td>\n",
              "      <td>1</td>\n",
              "      <td>-1</td>\n",
              "      <td>0</td>\n",
              "      <td>unknown</td>\n",
              "      <td>yes</td>\n",
              "      <td>0</td>\n",
              "      <td>1</td>\n",
              "      <td>0</td>\n",
              "    </tr>\n",
              "  </tbody>\n",
              "</table>\n",
              "</div>"
            ],
            "text/plain": [
              "   age           job  marital  ... default_cat  housing_cat  loan_cat\n",
              "0   59  white-collar  married  ...           0            1         0\n",
              "1   56  white-collar  married  ...           0            0         0\n",
              "2   41    technician  married  ...           0            1         0\n",
              "\n",
              "[3 rows x 14 columns]"
            ]
          },
          "metadata": {
            "tags": []
          },
          "execution_count": 41
        }
      ]
    },
    {
      "cell_type": "markdown",
      "metadata": {
        "id": "DgIVH3vNEuuS",
        "colab_type": "text"
      },
      "source": [
        "#### 8. Deposit"
      ]
    },
    {
      "cell_type": "code",
      "metadata": {
        "id": "jA9clIDXE5dX",
        "colab_type": "code",
        "outputId": "7a02d742-4f0c-4be2-cb56-6eae3ffad407",
        "colab": {
          "base_uri": "https://localhost:8080/",
          "height": 33
        }
      },
      "source": [
        "df_bank_data['deposit'].unique().tolist()"
      ],
      "execution_count": 42,
      "outputs": [
        {
          "output_type": "execute_result",
          "data": {
            "text/plain": [
              "['yes', 'no']"
            ]
          },
          "metadata": {
            "tags": []
          },
          "execution_count": 42
        }
      ]
    },
    {
      "cell_type": "code",
      "metadata": {
        "id": "dzYVLhI-E93r",
        "colab_type": "code",
        "colab": {}
      },
      "source": [
        "# values for \"deposit\" : yes/no\n",
        "df_bank_data[\"deposit_cat\"] = df_bank_data['deposit'].map({'yes':1, 'no':0})\n",
        "df_bank_data.drop('deposit', axis=1, inplace=True)"
      ],
      "execution_count": 0,
      "outputs": []
    },
    {
      "cell_type": "code",
      "metadata": {
        "id": "esaKyGjWFL-1",
        "colab_type": "code",
        "outputId": "819eee66-1474-48fc-f1b6-94ae97269a0e",
        "colab": {
          "base_uri": "https://localhost:8080/",
          "height": 137
        }
      },
      "source": [
        "df_bank_data.head(3)"
      ],
      "execution_count": 44,
      "outputs": [
        {
          "output_type": "execute_result",
          "data": {
            "text/html": [
              "<div>\n",
              "<style scoped>\n",
              "    .dataframe tbody tr th:only-of-type {\n",
              "        vertical-align: middle;\n",
              "    }\n",
              "\n",
              "    .dataframe tbody tr th {\n",
              "        vertical-align: top;\n",
              "    }\n",
              "\n",
              "    .dataframe thead th {\n",
              "        text-align: right;\n",
              "    }\n",
              "</style>\n",
              "<table border=\"1\" class=\"dataframe\">\n",
              "  <thead>\n",
              "    <tr style=\"text-align: right;\">\n",
              "      <th></th>\n",
              "      <th>age</th>\n",
              "      <th>job</th>\n",
              "      <th>marital</th>\n",
              "      <th>education</th>\n",
              "      <th>balance</th>\n",
              "      <th>duration</th>\n",
              "      <th>campaign</th>\n",
              "      <th>pdays</th>\n",
              "      <th>previous</th>\n",
              "      <th>poutcome</th>\n",
              "      <th>default_cat</th>\n",
              "      <th>housing_cat</th>\n",
              "      <th>loan_cat</th>\n",
              "      <th>deposit_cat</th>\n",
              "    </tr>\n",
              "  </thead>\n",
              "  <tbody>\n",
              "    <tr>\n",
              "      <th>0</th>\n",
              "      <td>59</td>\n",
              "      <td>white-collar</td>\n",
              "      <td>married</td>\n",
              "      <td>secondary</td>\n",
              "      <td>2343</td>\n",
              "      <td>1042</td>\n",
              "      <td>1</td>\n",
              "      <td>-1</td>\n",
              "      <td>0</td>\n",
              "      <td>unknown</td>\n",
              "      <td>0</td>\n",
              "      <td>1</td>\n",
              "      <td>0</td>\n",
              "      <td>1</td>\n",
              "    </tr>\n",
              "    <tr>\n",
              "      <th>1</th>\n",
              "      <td>56</td>\n",
              "      <td>white-collar</td>\n",
              "      <td>married</td>\n",
              "      <td>secondary</td>\n",
              "      <td>45</td>\n",
              "      <td>1467</td>\n",
              "      <td>1</td>\n",
              "      <td>-1</td>\n",
              "      <td>0</td>\n",
              "      <td>unknown</td>\n",
              "      <td>0</td>\n",
              "      <td>0</td>\n",
              "      <td>0</td>\n",
              "      <td>1</td>\n",
              "    </tr>\n",
              "    <tr>\n",
              "      <th>2</th>\n",
              "      <td>41</td>\n",
              "      <td>technician</td>\n",
              "      <td>married</td>\n",
              "      <td>secondary</td>\n",
              "      <td>1270</td>\n",
              "      <td>1389</td>\n",
              "      <td>1</td>\n",
              "      <td>-1</td>\n",
              "      <td>0</td>\n",
              "      <td>unknown</td>\n",
              "      <td>0</td>\n",
              "      <td>1</td>\n",
              "      <td>0</td>\n",
              "      <td>1</td>\n",
              "    </tr>\n",
              "  </tbody>\n",
              "</table>\n",
              "</div>"
            ],
            "text/plain": [
              "   age           job  marital  ... housing_cat  loan_cat  deposit_cat\n",
              "0   59  white-collar  married  ...           1         0            1\n",
              "1   56  white-collar  married  ...           0         0            1\n",
              "2   41    technician  married  ...           1         0            1\n",
              "\n",
              "[3 rows x 14 columns]"
            ]
          },
          "metadata": {
            "tags": []
          },
          "execution_count": 44
        }
      ]
    },
    {
      "cell_type": "markdown",
      "metadata": {
        "id": "AkEKLWeTEXaV",
        "colab_type": "text"
      },
      "source": [
        "#### 9. Pdays"
      ]
    },
    {
      "cell_type": "code",
      "metadata": {
        "id": "0nf7fhucEfG-",
        "colab_type": "code",
        "outputId": "a37db769-b7fb-4953-d68d-f1aa31ccc1a9",
        "colab": {
          "base_uri": "https://localhost:8080/",
          "height": 1000
        }
      },
      "source": [
        "df_bank_data['pdays'].unique().tolist()"
      ],
      "execution_count": 45,
      "outputs": [
        {
          "output_type": "execute_result",
          "data": {
            "text/plain": [
              "[-1,\n",
              " 166,\n",
              " 91,\n",
              " 147,\n",
              " 170,\n",
              " 150,\n",
              " 171,\n",
              " 126,\n",
              " 182,\n",
              " 110,\n",
              " 198,\n",
              " 174,\n",
              " 175,\n",
              " 27,\n",
              " 128,\n",
              " 100,\n",
              " 177,\n",
              " 167,\n",
              " 122,\n",
              " 183,\n",
              " 195,\n",
              " 133,\n",
              " 178,\n",
              " 34,\n",
              " 10,\n",
              " 163,\n",
              " 184,\n",
              " 154,\n",
              " 99,\n",
              " 93,\n",
              " 2,\n",
              " 242,\n",
              " 272,\n",
              " 76,\n",
              " 160,\n",
              " 90,\n",
              " 196,\n",
              " 246,\n",
              " 238,\n",
              " 203,\n",
              " 268,\n",
              " 189,\n",
              " 267,\n",
              " 92,\n",
              " 9,\n",
              " 88,\n",
              " 85,\n",
              " 210,\n",
              " 257,\n",
              " 261,\n",
              " 270,\n",
              " 106,\n",
              " 199,\n",
              " 112,\n",
              " 41,\n",
              " 294,\n",
              " 231,\n",
              " 239,\n",
              " 302,\n",
              " 135,\n",
              " 307,\n",
              " 222,\n",
              " 138,\n",
              " 323,\n",
              " 141,\n",
              " 320,\n",
              " 264,\n",
              " 316,\n",
              " 315,\n",
              " 256,\n",
              " 146,\n",
              " 328,\n",
              " 74,\n",
              " 148,\n",
              " 327,\n",
              " 341,\n",
              " 145,\n",
              " 266,\n",
              " 234,\n",
              " 345,\n",
              " 318,\n",
              " 325,\n",
              " 274,\n",
              " 343,\n",
              " 260,\n",
              " 305,\n",
              " 344,\n",
              " 254,\n",
              " 180,\n",
              " 340,\n",
              " 82,\n",
              " 181,\n",
              " 278,\n",
              " 153,\n",
              " 4,\n",
              " 349,\n",
              " 334,\n",
              " 176,\n",
              " 87,\n",
              " 269,\n",
              " 86,\n",
              " 169,\n",
              " 83,\n",
              " 79,\n",
              " 6,\n",
              " 259,\n",
              " 13,\n",
              " 161,\n",
              " 350,\n",
              " 84,\n",
              " 80,\n",
              " 164,\n",
              " 22,\n",
              " 296,\n",
              " 66,\n",
              " 263,\n",
              " 333,\n",
              " 17,\n",
              " 89,\n",
              " 78,\n",
              " 286,\n",
              " 337,\n",
              " 364,\n",
              " 188,\n",
              " 342,\n",
              " 363,\n",
              " 352,\n",
              " 295,\n",
              " 353,\n",
              " 356,\n",
              " 288,\n",
              " 367,\n",
              " 366,\n",
              " 359,\n",
              " 347,\n",
              " 370,\n",
              " 284,\n",
              " 300,\n",
              " 306,\n",
              " 361,\n",
              " 287,\n",
              " 301,\n",
              " 355,\n",
              " 371,\n",
              " 292,\n",
              " 360,\n",
              " 358,\n",
              " 346,\n",
              " 357,\n",
              " 368,\n",
              " 312,\n",
              " 179,\n",
              " 329,\n",
              " 298,\n",
              " 372,\n",
              " 374,\n",
              " 375,\n",
              " 291,\n",
              " 95,\n",
              " 109,\n",
              " 94,\n",
              " 98,\n",
              " 186,\n",
              " 101,\n",
              " 187,\n",
              " 321,\n",
              " 40,\n",
              " 96,\n",
              " 21,\n",
              " 35,\n",
              " 97,\n",
              " 285,\n",
              " 103,\n",
              " 212,\n",
              " 293,\n",
              " 81,\n",
              " 38,\n",
              " 28,\n",
              " 67,\n",
              " 60,\n",
              " 120,\n",
              " 55,\n",
              " 113,\n",
              " 71,\n",
              " 119,\n",
              " 72,\n",
              " 20,\n",
              " 391,\n",
              " 50,\n",
              " 207,\n",
              " 105,\n",
              " 314,\n",
              " 211,\n",
              " 140,\n",
              " 104,\n",
              " 65,\n",
              " 395,\n",
              " 399,\n",
              " 49,\n",
              " 389,\n",
              " 386,\n",
              " 412,\n",
              " 62,\n",
              " 229,\n",
              " 385,\n",
              " 156,\n",
              " 63,\n",
              " 64,\n",
              " 69,\n",
              " 394,\n",
              " 70,\n",
              " 185,\n",
              " 102,\n",
              " 190,\n",
              " 461,\n",
              " 116,\n",
              " 422,\n",
              " 457,\n",
              " 430,\n",
              " 192,\n",
              " 462,\n",
              " 403,\n",
              " 191,\n",
              " 459,\n",
              " 397,\n",
              " 197,\n",
              " 173,\n",
              " 271,\n",
              " 428,\n",
              " 392,\n",
              " 193,\n",
              " 474,\n",
              " 475,\n",
              " 477,\n",
              " 130,\n",
              " 283,\n",
              " 157,\n",
              " 476,\n",
              " 131,\n",
              " 132,\n",
              " 129,\n",
              " 134,\n",
              " 114,\n",
              " 121,\n",
              " 107,\n",
              " 115,\n",
              " 58,\n",
              " 57,\n",
              " 143,\n",
              " 208,\n",
              " 335,\n",
              " 149,\n",
              " 139,\n",
              " 52,\n",
              " 75,\n",
              " 515,\n",
              " 111,\n",
              " 56,\n",
              " 194,\n",
              " 520,\n",
              " 213,\n",
              " 351,\n",
              " 273,\n",
              " 162,\n",
              " 378,\n",
              " 279,\n",
              " 200,\n",
              " 201,\n",
              " 310,\n",
              " 275,\n",
              " 127,\n",
              " 165,\n",
              " 309,\n",
              " 313,\n",
              " 216,\n",
              " 209,\n",
              " 282,\n",
              " 202,\n",
              " 436,\n",
              " 433,\n",
              " 142,\n",
              " 172,\n",
              " 281,\n",
              " 48,\n",
              " 276,\n",
              " 297,\n",
              " 280,\n",
              " 446,\n",
              " 558,\n",
              " 616,\n",
              " 561,\n",
              " 553,\n",
              " 555,\n",
              " 262,\n",
              " 265,\n",
              " 384,\n",
              " 388,\n",
              " 152,\n",
              " 390,\n",
              " 322,\n",
              " 205,\n",
              " 326,\n",
              " 478,\n",
              " 339,\n",
              " 155,\n",
              " 421,\n",
              " 223,\n",
              " 626,\n",
              " 426,\n",
              " 236,\n",
              " 206,\n",
              " 348,\n",
              " 595,\n",
              " 311,\n",
              " 648,\n",
              " 304,\n",
              " 521,\n",
              " 369,\n",
              " 449,\n",
              " 398,\n",
              " 53,\n",
              " 258,\n",
              " 479,\n",
              " 237,\n",
              " 425,\n",
              " 376,\n",
              " 224,\n",
              " 227,\n",
              " 225,\n",
              " 144,\n",
              " 586,\n",
              " 450,\n",
              " 424,\n",
              " 776,\n",
              " 251,\n",
              " 460,\n",
              " 683,\n",
              " 158,\n",
              " 529,\n",
              " 377,\n",
              " 415,\n",
              " 244,\n",
              " 407,\n",
              " 458,\n",
              " 532,\n",
              " 481,\n",
              " 445,\n",
              " 535,\n",
              " 784,\n",
              " 491,\n",
              " 440,\n",
              " 455,\n",
              " 277,\n",
              " 470,\n",
              " 1,\n",
              " 435,\n",
              " 437,\n",
              " 728,\n",
              " 414,\n",
              " 518,\n",
              " 308,\n",
              " 828,\n",
              " 31,\n",
              " 43,\n",
              " 761,\n",
              " 29,\n",
              " 44,\n",
              " 579,\n",
              " 466,\n",
              " 125,\n",
              " 504,\n",
              " 427,\n",
              " 749,\n",
              " 365,\n",
              " 769,\n",
              " 469,\n",
              " 587,\n",
              " 792,\n",
              " 854,\n",
              " 842,\n",
              " 603,\n",
              " 444,\n",
              " 232,\n",
              " 690,\n",
              " 137,\n",
              " 442,\n",
              " 541,\n",
              " 550,\n",
              " 73,\n",
              " 439,\n",
              " 420,\n",
              " 168,\n",
              " 243,\n",
              " 387,\n",
              " 204,\n",
              " 503,\n",
              " 124,\n",
              " 290,\n",
              " 77,\n",
              " 14,\n",
              " 221,\n",
              " 409,\n",
              " 782,\n",
              " 332,\n",
              " 330,\n",
              " 804,\n",
              " 551,\n",
              " 230,\n",
              " 405,\n",
              " 319,\n",
              " 37,\n",
              " 123,\n",
              " 417,\n",
              " 490,\n",
              " 463,\n",
              " 362,\n",
              " 805,\n",
              " 544,\n",
              " 472,\n",
              " 33,\n",
              " 495,\n",
              " 253,\n",
              " 36,\n",
              " 299,\n",
              " 324,\n",
              " 235,\n",
              " 401,\n",
              " 117,\n",
              " 68,\n",
              " 774,\n",
              " 228,\n",
              " 317,\n",
              " 255,\n",
              " 336,\n",
              " 233,\n",
              " 486,\n",
              " 5,\n",
              " 778,\n",
              " 771,\n",
              " 245,\n",
              " 42,\n",
              " 338,\n",
              " 354,\n",
              " 373,\n",
              " 772,\n",
              " 59,\n",
              " 247,\n",
              " 331,\n",
              " 61,\n",
              " 381,\n",
              " 108,\n",
              " 15,\n",
              " 8,\n",
              " 241,\n",
              " 136,\n",
              " 159,\n",
              " 250,\n",
              " 217,\n",
              " 12,\n",
              " 826,\n",
              " 594,\n",
              " 303,\n",
              " 151,\n",
              " 404,\n",
              " 717,\n",
              " 289,\n",
              " 252,\n",
              " 651,\n",
              " 214,\n",
              " 24,\n",
              " 701,\n",
              " 118]"
            ]
          },
          "metadata": {
            "tags": []
          },
          "execution_count": 45
        }
      ]
    },
    {
      "cell_type": "code",
      "metadata": {
        "id": "WGKarohsEnHp",
        "colab_type": "code",
        "outputId": "3bac754c-6b91-4b61-8a9d-9df559a23cfd",
        "colab": {
          "base_uri": "https://localhost:8080/",
          "height": 50
        }
      },
      "source": [
        "# pdays: number of days that passed by after the client was last contacted from a previous campaign\n",
        "#       -1 means client was not previously contacted\n",
        "\n",
        "print(\"Customers that have not been contacted before:\", len(df_bank_data[df_bank_data.pdays==-1]))\n",
        "print(\"Maximum values on padys    :\", df_bank_data['pdays'].max())"
      ],
      "execution_count": 46,
      "outputs": [
        {
          "output_type": "stream",
          "text": [
            "Customers that have not been contacted before: 8324\n",
            "Maximum values on padys    : 854\n"
          ],
          "name": "stdout"
        }
      ]
    },
    {
      "cell_type": "code",
      "metadata": {
        "_cell_guid": "27c4a40d-a6e7-455f-85ef-db661c2f3bf6",
        "_uuid": "4a5ce52f6514b2c6a98a05496f464958bb08e6d1",
        "id": "WVRkaksWmFCe",
        "colab_type": "code",
        "colab": {}
      },
      "source": [
        "# Map padys=-1 into a large value (10000 is used) to indicate that it is so far in the past that it has no effect\n",
        "df_bank_data.loc[df_bank_data['pdays'] == -1, 'pdays'] = 10000"
      ],
      "execution_count": 0,
      "outputs": []
    },
    {
      "cell_type": "code",
      "metadata": {
        "_cell_guid": "dc334f4c-7756-42d0-884e-c87c8c205b72",
        "_uuid": "32aed7514950db77534edf31950599dd2de13174",
        "id": "L6pzRNyemFCg",
        "colab_type": "code",
        "colab": {}
      },
      "source": [
        "# Create a new column: recent_pdays \n",
        "df_bank_data['recent_pdays'] = np.where(df_bank_data['pdays'], 1/df_bank_data.pdays, 1/df_bank_data.pdays)\n",
        "\n",
        "# Drop 'pdays'\n",
        "df_bank_data.drop('pdays', axis=1, inplace = True)"
      ],
      "execution_count": 0,
      "outputs": []
    },
    {
      "cell_type": "code",
      "metadata": {
        "_cell_guid": "d081cff8-2b59-449e-aa9d-c47b95bf9f3b",
        "_uuid": "0fd651329be4e215dfe12e7d0dcd825081fc22bb",
        "collapsed": true,
        "id": "6gZML7ZrmFCj",
        "colab_type": "code",
        "outputId": "7f03ff3a-6cc6-40fe-fd33-ed46f9915796",
        "colab": {
          "base_uri": "https://localhost:8080/",
          "height": 137
        }
      },
      "source": [
        "df_bank_data.head(3)"
      ],
      "execution_count": 49,
      "outputs": [
        {
          "output_type": "execute_result",
          "data": {
            "text/html": [
              "<div>\n",
              "<style scoped>\n",
              "    .dataframe tbody tr th:only-of-type {\n",
              "        vertical-align: middle;\n",
              "    }\n",
              "\n",
              "    .dataframe tbody tr th {\n",
              "        vertical-align: top;\n",
              "    }\n",
              "\n",
              "    .dataframe thead th {\n",
              "        text-align: right;\n",
              "    }\n",
              "</style>\n",
              "<table border=\"1\" class=\"dataframe\">\n",
              "  <thead>\n",
              "    <tr style=\"text-align: right;\">\n",
              "      <th></th>\n",
              "      <th>age</th>\n",
              "      <th>job</th>\n",
              "      <th>marital</th>\n",
              "      <th>education</th>\n",
              "      <th>balance</th>\n",
              "      <th>duration</th>\n",
              "      <th>campaign</th>\n",
              "      <th>previous</th>\n",
              "      <th>poutcome</th>\n",
              "      <th>default_cat</th>\n",
              "      <th>housing_cat</th>\n",
              "      <th>loan_cat</th>\n",
              "      <th>deposit_cat</th>\n",
              "      <th>recent_pdays</th>\n",
              "    </tr>\n",
              "  </thead>\n",
              "  <tbody>\n",
              "    <tr>\n",
              "      <th>0</th>\n",
              "      <td>59</td>\n",
              "      <td>white-collar</td>\n",
              "      <td>married</td>\n",
              "      <td>secondary</td>\n",
              "      <td>2343</td>\n",
              "      <td>1042</td>\n",
              "      <td>1</td>\n",
              "      <td>0</td>\n",
              "      <td>unknown</td>\n",
              "      <td>0</td>\n",
              "      <td>1</td>\n",
              "      <td>0</td>\n",
              "      <td>1</td>\n",
              "      <td>0.0001</td>\n",
              "    </tr>\n",
              "    <tr>\n",
              "      <th>1</th>\n",
              "      <td>56</td>\n",
              "      <td>white-collar</td>\n",
              "      <td>married</td>\n",
              "      <td>secondary</td>\n",
              "      <td>45</td>\n",
              "      <td>1467</td>\n",
              "      <td>1</td>\n",
              "      <td>0</td>\n",
              "      <td>unknown</td>\n",
              "      <td>0</td>\n",
              "      <td>0</td>\n",
              "      <td>0</td>\n",
              "      <td>1</td>\n",
              "      <td>0.0001</td>\n",
              "    </tr>\n",
              "    <tr>\n",
              "      <th>2</th>\n",
              "      <td>41</td>\n",
              "      <td>technician</td>\n",
              "      <td>married</td>\n",
              "      <td>secondary</td>\n",
              "      <td>1270</td>\n",
              "      <td>1389</td>\n",
              "      <td>1</td>\n",
              "      <td>0</td>\n",
              "      <td>unknown</td>\n",
              "      <td>0</td>\n",
              "      <td>1</td>\n",
              "      <td>0</td>\n",
              "      <td>1</td>\n",
              "      <td>0.0001</td>\n",
              "    </tr>\n",
              "  </tbody>\n",
              "</table>\n",
              "</div>"
            ],
            "text/plain": [
              "   age           job  marital  ... loan_cat  deposit_cat  recent_pdays\n",
              "0   59  white-collar  married  ...        0            1        0.0001\n",
              "1   56  white-collar  married  ...        0            1        0.0001\n",
              "2   41    technician  married  ...        0            1        0.0001\n",
              "\n",
              "[3 rows x 14 columns]"
            ]
          },
          "metadata": {
            "tags": []
          },
          "execution_count": 49
        }
      ]
    },
    {
      "cell_type": "code",
      "metadata": {
        "id": "Y3JcQjvQGxDE",
        "colab_type": "code",
        "outputId": "586641fd-8956-4b81-915b-499fd53fa88e",
        "colab": {
          "base_uri": "https://localhost:8080/",
          "height": 137
        }
      },
      "source": [
        "df_bank_data.tail(3)"
      ],
      "execution_count": 50,
      "outputs": [
        {
          "output_type": "execute_result",
          "data": {
            "text/html": [
              "<div>\n",
              "<style scoped>\n",
              "    .dataframe tbody tr th:only-of-type {\n",
              "        vertical-align: middle;\n",
              "    }\n",
              "\n",
              "    .dataframe tbody tr th {\n",
              "        vertical-align: top;\n",
              "    }\n",
              "\n",
              "    .dataframe thead th {\n",
              "        text-align: right;\n",
              "    }\n",
              "</style>\n",
              "<table border=\"1\" class=\"dataframe\">\n",
              "  <thead>\n",
              "    <tr style=\"text-align: right;\">\n",
              "      <th></th>\n",
              "      <th>age</th>\n",
              "      <th>job</th>\n",
              "      <th>marital</th>\n",
              "      <th>education</th>\n",
              "      <th>balance</th>\n",
              "      <th>duration</th>\n",
              "      <th>campaign</th>\n",
              "      <th>previous</th>\n",
              "      <th>poutcome</th>\n",
              "      <th>default_cat</th>\n",
              "      <th>housing_cat</th>\n",
              "      <th>loan_cat</th>\n",
              "      <th>deposit_cat</th>\n",
              "      <th>recent_pdays</th>\n",
              "    </tr>\n",
              "  </thead>\n",
              "  <tbody>\n",
              "    <tr>\n",
              "      <th>11159</th>\n",
              "      <td>32</td>\n",
              "      <td>technician</td>\n",
              "      <td>single</td>\n",
              "      <td>secondary</td>\n",
              "      <td>29</td>\n",
              "      <td>156</td>\n",
              "      <td>2</td>\n",
              "      <td>0</td>\n",
              "      <td>unknown</td>\n",
              "      <td>0</td>\n",
              "      <td>0</td>\n",
              "      <td>0</td>\n",
              "      <td>0</td>\n",
              "      <td>0.000100</td>\n",
              "    </tr>\n",
              "    <tr>\n",
              "      <th>11160</th>\n",
              "      <td>43</td>\n",
              "      <td>technician</td>\n",
              "      <td>married</td>\n",
              "      <td>secondary</td>\n",
              "      <td>0</td>\n",
              "      <td>9</td>\n",
              "      <td>2</td>\n",
              "      <td>5</td>\n",
              "      <td>failure</td>\n",
              "      <td>0</td>\n",
              "      <td>0</td>\n",
              "      <td>1</td>\n",
              "      <td>0</td>\n",
              "      <td>0.005814</td>\n",
              "    </tr>\n",
              "    <tr>\n",
              "      <th>11161</th>\n",
              "      <td>34</td>\n",
              "      <td>technician</td>\n",
              "      <td>married</td>\n",
              "      <td>secondary</td>\n",
              "      <td>0</td>\n",
              "      <td>628</td>\n",
              "      <td>1</td>\n",
              "      <td>0</td>\n",
              "      <td>unknown</td>\n",
              "      <td>0</td>\n",
              "      <td>0</td>\n",
              "      <td>0</td>\n",
              "      <td>0</td>\n",
              "      <td>0.000100</td>\n",
              "    </tr>\n",
              "  </tbody>\n",
              "</table>\n",
              "</div>"
            ],
            "text/plain": [
              "       age         job  marital  ... loan_cat  deposit_cat  recent_pdays\n",
              "11159   32  technician   single  ...        0            0      0.000100\n",
              "11160   43  technician  married  ...        1            0      0.005814\n",
              "11161   34  technician  married  ...        0            0      0.000100\n",
              "\n",
              "[3 rows x 14 columns]"
            ]
          },
          "metadata": {
            "tags": []
          },
          "execution_count": 50
        }
      ]
    },
    {
      "cell_type": "markdown",
      "metadata": {
        "id": "g7lNOwMAHImO",
        "colab_type": "text"
      },
      "source": [
        "#### 10. Convert to dummy values"
      ]
    },
    {
      "cell_type": "code",
      "metadata": {
        "id": "A41jCqdGo4Jg",
        "colab_type": "code",
        "outputId": "14b5ce71-86e2-4f88-fd27-dd144ad40598",
        "colab": {
          "base_uri": "https://localhost:8080/",
          "height": 234
        }
      },
      "source": [
        "# Convert categorical variables to dummies\n",
        "df_bank_with_dummies = pd.get_dummies(data=df_bank_data, columns = ['job', 'marital', 'education', 'poutcome'], \\\n",
        "                                   prefix = ['job', 'marital', 'education', 'poutcome'])\n",
        "df_bank_with_dummies.head()"
      ],
      "execution_count": 51,
      "outputs": [
        {
          "output_type": "execute_result",
          "data": {
            "text/html": [
              "<div>\n",
              "<style scoped>\n",
              "    .dataframe tbody tr th:only-of-type {\n",
              "        vertical-align: middle;\n",
              "    }\n",
              "\n",
              "    .dataframe tbody tr th {\n",
              "        vertical-align: top;\n",
              "    }\n",
              "\n",
              "    .dataframe thead th {\n",
              "        text-align: right;\n",
              "    }\n",
              "</style>\n",
              "<table border=\"1\" class=\"dataframe\">\n",
              "  <thead>\n",
              "    <tr style=\"text-align: right;\">\n",
              "      <th></th>\n",
              "      <th>age</th>\n",
              "      <th>balance</th>\n",
              "      <th>duration</th>\n",
              "      <th>campaign</th>\n",
              "      <th>previous</th>\n",
              "      <th>default_cat</th>\n",
              "      <th>housing_cat</th>\n",
              "      <th>loan_cat</th>\n",
              "      <th>deposit_cat</th>\n",
              "      <th>recent_pdays</th>\n",
              "      <th>job_blue-collar</th>\n",
              "      <th>job_entrepreneur</th>\n",
              "      <th>job_other</th>\n",
              "      <th>job_pink-collar</th>\n",
              "      <th>job_self-employed</th>\n",
              "      <th>job_technician</th>\n",
              "      <th>job_white-collar</th>\n",
              "      <th>marital_divorced</th>\n",
              "      <th>marital_married</th>\n",
              "      <th>marital_single</th>\n",
              "      <th>education_primary</th>\n",
              "      <th>education_secondary</th>\n",
              "      <th>education_tertiary</th>\n",
              "      <th>education_unknown</th>\n",
              "      <th>poutcome_failure</th>\n",
              "      <th>poutcome_success</th>\n",
              "      <th>poutcome_unknown</th>\n",
              "    </tr>\n",
              "  </thead>\n",
              "  <tbody>\n",
              "    <tr>\n",
              "      <th>0</th>\n",
              "      <td>59</td>\n",
              "      <td>2343</td>\n",
              "      <td>1042</td>\n",
              "      <td>1</td>\n",
              "      <td>0</td>\n",
              "      <td>0</td>\n",
              "      <td>1</td>\n",
              "      <td>0</td>\n",
              "      <td>1</td>\n",
              "      <td>0.0001</td>\n",
              "      <td>0</td>\n",
              "      <td>0</td>\n",
              "      <td>0</td>\n",
              "      <td>0</td>\n",
              "      <td>0</td>\n",
              "      <td>0</td>\n",
              "      <td>1</td>\n",
              "      <td>0</td>\n",
              "      <td>1</td>\n",
              "      <td>0</td>\n",
              "      <td>0</td>\n",
              "      <td>1</td>\n",
              "      <td>0</td>\n",
              "      <td>0</td>\n",
              "      <td>0</td>\n",
              "      <td>0</td>\n",
              "      <td>1</td>\n",
              "    </tr>\n",
              "    <tr>\n",
              "      <th>1</th>\n",
              "      <td>56</td>\n",
              "      <td>45</td>\n",
              "      <td>1467</td>\n",
              "      <td>1</td>\n",
              "      <td>0</td>\n",
              "      <td>0</td>\n",
              "      <td>0</td>\n",
              "      <td>0</td>\n",
              "      <td>1</td>\n",
              "      <td>0.0001</td>\n",
              "      <td>0</td>\n",
              "      <td>0</td>\n",
              "      <td>0</td>\n",
              "      <td>0</td>\n",
              "      <td>0</td>\n",
              "      <td>0</td>\n",
              "      <td>1</td>\n",
              "      <td>0</td>\n",
              "      <td>1</td>\n",
              "      <td>0</td>\n",
              "      <td>0</td>\n",
              "      <td>1</td>\n",
              "      <td>0</td>\n",
              "      <td>0</td>\n",
              "      <td>0</td>\n",
              "      <td>0</td>\n",
              "      <td>1</td>\n",
              "    </tr>\n",
              "    <tr>\n",
              "      <th>2</th>\n",
              "      <td>41</td>\n",
              "      <td>1270</td>\n",
              "      <td>1389</td>\n",
              "      <td>1</td>\n",
              "      <td>0</td>\n",
              "      <td>0</td>\n",
              "      <td>1</td>\n",
              "      <td>0</td>\n",
              "      <td>1</td>\n",
              "      <td>0.0001</td>\n",
              "      <td>0</td>\n",
              "      <td>0</td>\n",
              "      <td>0</td>\n",
              "      <td>0</td>\n",
              "      <td>0</td>\n",
              "      <td>1</td>\n",
              "      <td>0</td>\n",
              "      <td>0</td>\n",
              "      <td>1</td>\n",
              "      <td>0</td>\n",
              "      <td>0</td>\n",
              "      <td>1</td>\n",
              "      <td>0</td>\n",
              "      <td>0</td>\n",
              "      <td>0</td>\n",
              "      <td>0</td>\n",
              "      <td>1</td>\n",
              "    </tr>\n",
              "    <tr>\n",
              "      <th>3</th>\n",
              "      <td>55</td>\n",
              "      <td>2476</td>\n",
              "      <td>579</td>\n",
              "      <td>1</td>\n",
              "      <td>0</td>\n",
              "      <td>0</td>\n",
              "      <td>1</td>\n",
              "      <td>0</td>\n",
              "      <td>1</td>\n",
              "      <td>0.0001</td>\n",
              "      <td>0</td>\n",
              "      <td>0</td>\n",
              "      <td>0</td>\n",
              "      <td>1</td>\n",
              "      <td>0</td>\n",
              "      <td>0</td>\n",
              "      <td>0</td>\n",
              "      <td>0</td>\n",
              "      <td>1</td>\n",
              "      <td>0</td>\n",
              "      <td>0</td>\n",
              "      <td>1</td>\n",
              "      <td>0</td>\n",
              "      <td>0</td>\n",
              "      <td>0</td>\n",
              "      <td>0</td>\n",
              "      <td>1</td>\n",
              "    </tr>\n",
              "    <tr>\n",
              "      <th>4</th>\n",
              "      <td>54</td>\n",
              "      <td>184</td>\n",
              "      <td>673</td>\n",
              "      <td>2</td>\n",
              "      <td>0</td>\n",
              "      <td>0</td>\n",
              "      <td>0</td>\n",
              "      <td>0</td>\n",
              "      <td>1</td>\n",
              "      <td>0.0001</td>\n",
              "      <td>0</td>\n",
              "      <td>0</td>\n",
              "      <td>0</td>\n",
              "      <td>0</td>\n",
              "      <td>0</td>\n",
              "      <td>0</td>\n",
              "      <td>1</td>\n",
              "      <td>0</td>\n",
              "      <td>1</td>\n",
              "      <td>0</td>\n",
              "      <td>0</td>\n",
              "      <td>0</td>\n",
              "      <td>1</td>\n",
              "      <td>0</td>\n",
              "      <td>0</td>\n",
              "      <td>0</td>\n",
              "      <td>1</td>\n",
              "    </tr>\n",
              "  </tbody>\n",
              "</table>\n",
              "</div>"
            ],
            "text/plain": [
              "   age  balance  duration  ...  poutcome_failure  poutcome_success  poutcome_unknown\n",
              "0   59     2343      1042  ...                 0                 0                 1\n",
              "1   56       45      1467  ...                 0                 0                 1\n",
              "2   41     1270      1389  ...                 0                 0                 1\n",
              "3   55     2476       579  ...                 0                 0                 1\n",
              "4   54      184       673  ...                 0                 0                 1\n",
              "\n",
              "[5 rows x 27 columns]"
            ]
          },
          "metadata": {
            "tags": []
          },
          "execution_count": 51
        }
      ]
    },
    {
      "cell_type": "code",
      "metadata": {
        "id": "TlH5uI3NpsAE",
        "colab_type": "code",
        "outputId": "9551daae-69dc-4f9b-8358-c8501006ff2f",
        "colab": {
          "base_uri": "https://localhost:8080/",
          "height": 33
        }
      },
      "source": [
        "df_bank_with_dummies.shape"
      ],
      "execution_count": 52,
      "outputs": [
        {
          "output_type": "execute_result",
          "data": {
            "text/plain": [
              "(11162, 27)"
            ]
          },
          "metadata": {
            "tags": []
          },
          "execution_count": 52
        }
      ]
    },
    {
      "cell_type": "code",
      "metadata": {
        "id": "ZBjnHC6ypxmb",
        "colab_type": "code",
        "outputId": "e36d77c8-d622-4f9b-f4b5-7303f9cff21e",
        "colab": {
          "base_uri": "https://localhost:8080/",
          "height": 324
        }
      },
      "source": [
        "df_bank_with_dummies.describe()"
      ],
      "execution_count": 53,
      "outputs": [
        {
          "output_type": "execute_result",
          "data": {
            "text/html": [
              "<div>\n",
              "<style scoped>\n",
              "    .dataframe tbody tr th:only-of-type {\n",
              "        vertical-align: middle;\n",
              "    }\n",
              "\n",
              "    .dataframe tbody tr th {\n",
              "        vertical-align: top;\n",
              "    }\n",
              "\n",
              "    .dataframe thead th {\n",
              "        text-align: right;\n",
              "    }\n",
              "</style>\n",
              "<table border=\"1\" class=\"dataframe\">\n",
              "  <thead>\n",
              "    <tr style=\"text-align: right;\">\n",
              "      <th></th>\n",
              "      <th>age</th>\n",
              "      <th>balance</th>\n",
              "      <th>duration</th>\n",
              "      <th>campaign</th>\n",
              "      <th>previous</th>\n",
              "      <th>default_cat</th>\n",
              "      <th>housing_cat</th>\n",
              "      <th>loan_cat</th>\n",
              "      <th>deposit_cat</th>\n",
              "      <th>recent_pdays</th>\n",
              "      <th>job_blue-collar</th>\n",
              "      <th>job_entrepreneur</th>\n",
              "      <th>job_other</th>\n",
              "      <th>job_pink-collar</th>\n",
              "      <th>job_self-employed</th>\n",
              "      <th>job_technician</th>\n",
              "      <th>job_white-collar</th>\n",
              "      <th>marital_divorced</th>\n",
              "      <th>marital_married</th>\n",
              "      <th>marital_single</th>\n",
              "      <th>education_primary</th>\n",
              "      <th>education_secondary</th>\n",
              "      <th>education_tertiary</th>\n",
              "      <th>education_unknown</th>\n",
              "      <th>poutcome_failure</th>\n",
              "      <th>poutcome_success</th>\n",
              "      <th>poutcome_unknown</th>\n",
              "    </tr>\n",
              "  </thead>\n",
              "  <tbody>\n",
              "    <tr>\n",
              "      <th>count</th>\n",
              "      <td>11162.000000</td>\n",
              "      <td>11162.000000</td>\n",
              "      <td>11162.000000</td>\n",
              "      <td>11162.000000</td>\n",
              "      <td>11162.000000</td>\n",
              "      <td>11162.000000</td>\n",
              "      <td>11162.000000</td>\n",
              "      <td>11162.000000</td>\n",
              "      <td>11162.000000</td>\n",
              "      <td>11162.000000</td>\n",
              "      <td>11162.000000</td>\n",
              "      <td>11162.000000</td>\n",
              "      <td>11162.000000</td>\n",
              "      <td>11162.000000</td>\n",
              "      <td>11162.000000</td>\n",
              "      <td>11162.000000</td>\n",
              "      <td>11162.000000</td>\n",
              "      <td>11162.000000</td>\n",
              "      <td>11162.000000</td>\n",
              "      <td>11162.000000</td>\n",
              "      <td>11162.000000</td>\n",
              "      <td>11162.000000</td>\n",
              "      <td>11162.000000</td>\n",
              "      <td>11162.000000</td>\n",
              "      <td>11162.000000</td>\n",
              "      <td>11162.000000</td>\n",
              "      <td>11162.000000</td>\n",
              "    </tr>\n",
              "    <tr>\n",
              "      <th>mean</th>\n",
              "      <td>41.231948</td>\n",
              "      <td>1528.538524</td>\n",
              "      <td>371.993818</td>\n",
              "      <td>2.508421</td>\n",
              "      <td>0.832557</td>\n",
              "      <td>0.015051</td>\n",
              "      <td>0.473123</td>\n",
              "      <td>0.130801</td>\n",
              "      <td>0.473840</td>\n",
              "      <td>0.003124</td>\n",
              "      <td>0.174162</td>\n",
              "      <td>0.029385</td>\n",
              "      <td>0.140208</td>\n",
              "      <td>0.107239</td>\n",
              "      <td>0.036284</td>\n",
              "      <td>0.163322</td>\n",
              "      <td>0.349400</td>\n",
              "      <td>0.115839</td>\n",
              "      <td>0.568984</td>\n",
              "      <td>0.315176</td>\n",
              "      <td>0.134385</td>\n",
              "      <td>0.490593</td>\n",
              "      <td>0.330496</td>\n",
              "      <td>0.044526</td>\n",
              "      <td>0.110016</td>\n",
              "      <td>0.095951</td>\n",
              "      <td>0.794033</td>\n",
              "    </tr>\n",
              "    <tr>\n",
              "      <th>std</th>\n",
              "      <td>11.913369</td>\n",
              "      <td>3225.413326</td>\n",
              "      <td>347.128386</td>\n",
              "      <td>2.722077</td>\n",
              "      <td>2.292007</td>\n",
              "      <td>0.121761</td>\n",
              "      <td>0.499299</td>\n",
              "      <td>0.337198</td>\n",
              "      <td>0.499338</td>\n",
              "      <td>0.030686</td>\n",
              "      <td>0.379266</td>\n",
              "      <td>0.168892</td>\n",
              "      <td>0.347218</td>\n",
              "      <td>0.309431</td>\n",
              "      <td>0.187004</td>\n",
              "      <td>0.369676</td>\n",
              "      <td>0.476802</td>\n",
              "      <td>0.320047</td>\n",
              "      <td>0.495241</td>\n",
              "      <td>0.464607</td>\n",
              "      <td>0.341080</td>\n",
              "      <td>0.499934</td>\n",
              "      <td>0.470413</td>\n",
              "      <td>0.206270</td>\n",
              "      <td>0.312924</td>\n",
              "      <td>0.294537</td>\n",
              "      <td>0.404424</td>\n",
              "    </tr>\n",
              "    <tr>\n",
              "      <th>min</th>\n",
              "      <td>18.000000</td>\n",
              "      <td>-6847.000000</td>\n",
              "      <td>2.000000</td>\n",
              "      <td>1.000000</td>\n",
              "      <td>0.000000</td>\n",
              "      <td>0.000000</td>\n",
              "      <td>0.000000</td>\n",
              "      <td>0.000000</td>\n",
              "      <td>0.000000</td>\n",
              "      <td>0.000100</td>\n",
              "      <td>0.000000</td>\n",
              "      <td>0.000000</td>\n",
              "      <td>0.000000</td>\n",
              "      <td>0.000000</td>\n",
              "      <td>0.000000</td>\n",
              "      <td>0.000000</td>\n",
              "      <td>0.000000</td>\n",
              "      <td>0.000000</td>\n",
              "      <td>0.000000</td>\n",
              "      <td>0.000000</td>\n",
              "      <td>0.000000</td>\n",
              "      <td>0.000000</td>\n",
              "      <td>0.000000</td>\n",
              "      <td>0.000000</td>\n",
              "      <td>0.000000</td>\n",
              "      <td>0.000000</td>\n",
              "      <td>0.000000</td>\n",
              "    </tr>\n",
              "    <tr>\n",
              "      <th>25%</th>\n",
              "      <td>32.000000</td>\n",
              "      <td>122.000000</td>\n",
              "      <td>138.000000</td>\n",
              "      <td>1.000000</td>\n",
              "      <td>0.000000</td>\n",
              "      <td>0.000000</td>\n",
              "      <td>0.000000</td>\n",
              "      <td>0.000000</td>\n",
              "      <td>0.000000</td>\n",
              "      <td>0.000100</td>\n",
              "      <td>0.000000</td>\n",
              "      <td>0.000000</td>\n",
              "      <td>0.000000</td>\n",
              "      <td>0.000000</td>\n",
              "      <td>0.000000</td>\n",
              "      <td>0.000000</td>\n",
              "      <td>0.000000</td>\n",
              "      <td>0.000000</td>\n",
              "      <td>0.000000</td>\n",
              "      <td>0.000000</td>\n",
              "      <td>0.000000</td>\n",
              "      <td>0.000000</td>\n",
              "      <td>0.000000</td>\n",
              "      <td>0.000000</td>\n",
              "      <td>0.000000</td>\n",
              "      <td>0.000000</td>\n",
              "      <td>1.000000</td>\n",
              "    </tr>\n",
              "    <tr>\n",
              "      <th>50%</th>\n",
              "      <td>39.000000</td>\n",
              "      <td>550.000000</td>\n",
              "      <td>255.000000</td>\n",
              "      <td>2.000000</td>\n",
              "      <td>0.000000</td>\n",
              "      <td>0.000000</td>\n",
              "      <td>0.000000</td>\n",
              "      <td>0.000000</td>\n",
              "      <td>0.000000</td>\n",
              "      <td>0.000100</td>\n",
              "      <td>0.000000</td>\n",
              "      <td>0.000000</td>\n",
              "      <td>0.000000</td>\n",
              "      <td>0.000000</td>\n",
              "      <td>0.000000</td>\n",
              "      <td>0.000000</td>\n",
              "      <td>0.000000</td>\n",
              "      <td>0.000000</td>\n",
              "      <td>1.000000</td>\n",
              "      <td>0.000000</td>\n",
              "      <td>0.000000</td>\n",
              "      <td>0.000000</td>\n",
              "      <td>0.000000</td>\n",
              "      <td>0.000000</td>\n",
              "      <td>0.000000</td>\n",
              "      <td>0.000000</td>\n",
              "      <td>1.000000</td>\n",
              "    </tr>\n",
              "    <tr>\n",
              "      <th>75%</th>\n",
              "      <td>49.000000</td>\n",
              "      <td>1708.000000</td>\n",
              "      <td>496.000000</td>\n",
              "      <td>3.000000</td>\n",
              "      <td>1.000000</td>\n",
              "      <td>0.000000</td>\n",
              "      <td>1.000000</td>\n",
              "      <td>0.000000</td>\n",
              "      <td>1.000000</td>\n",
              "      <td>0.001919</td>\n",
              "      <td>0.000000</td>\n",
              "      <td>0.000000</td>\n",
              "      <td>0.000000</td>\n",
              "      <td>0.000000</td>\n",
              "      <td>0.000000</td>\n",
              "      <td>0.000000</td>\n",
              "      <td>1.000000</td>\n",
              "      <td>0.000000</td>\n",
              "      <td>1.000000</td>\n",
              "      <td>1.000000</td>\n",
              "      <td>0.000000</td>\n",
              "      <td>1.000000</td>\n",
              "      <td>1.000000</td>\n",
              "      <td>0.000000</td>\n",
              "      <td>0.000000</td>\n",
              "      <td>0.000000</td>\n",
              "      <td>1.000000</td>\n",
              "    </tr>\n",
              "    <tr>\n",
              "      <th>max</th>\n",
              "      <td>95.000000</td>\n",
              "      <td>81204.000000</td>\n",
              "      <td>3881.000000</td>\n",
              "      <td>63.000000</td>\n",
              "      <td>58.000000</td>\n",
              "      <td>1.000000</td>\n",
              "      <td>1.000000</td>\n",
              "      <td>1.000000</td>\n",
              "      <td>1.000000</td>\n",
              "      <td>1.000000</td>\n",
              "      <td>1.000000</td>\n",
              "      <td>1.000000</td>\n",
              "      <td>1.000000</td>\n",
              "      <td>1.000000</td>\n",
              "      <td>1.000000</td>\n",
              "      <td>1.000000</td>\n",
              "      <td>1.000000</td>\n",
              "      <td>1.000000</td>\n",
              "      <td>1.000000</td>\n",
              "      <td>1.000000</td>\n",
              "      <td>1.000000</td>\n",
              "      <td>1.000000</td>\n",
              "      <td>1.000000</td>\n",
              "      <td>1.000000</td>\n",
              "      <td>1.000000</td>\n",
              "      <td>1.000000</td>\n",
              "      <td>1.000000</td>\n",
              "    </tr>\n",
              "  </tbody>\n",
              "</table>\n",
              "</div>"
            ],
            "text/plain": [
              "                age       balance  ...  poutcome_success  poutcome_unknown\n",
              "count  11162.000000  11162.000000  ...      11162.000000      11162.000000\n",
              "mean      41.231948   1528.538524  ...          0.095951          0.794033\n",
              "std       11.913369   3225.413326  ...          0.294537          0.404424\n",
              "min       18.000000  -6847.000000  ...          0.000000          0.000000\n",
              "25%       32.000000    122.000000  ...          0.000000          1.000000\n",
              "50%       39.000000    550.000000  ...          0.000000          1.000000\n",
              "75%       49.000000   1708.000000  ...          0.000000          1.000000\n",
              "max       95.000000  81204.000000  ...          1.000000          1.000000\n",
              "\n",
              "[8 rows x 27 columns]"
            ]
          },
          "metadata": {
            "tags": []
          },
          "execution_count": 53
        }
      ]
    },
    {
      "cell_type": "markdown",
      "metadata": {
        "id": "pIP9NsatqBM0",
        "colab_type": "text"
      },
      "source": [
        "#### 11. Observations on whole population"
      ]
    },
    {
      "cell_type": "code",
      "metadata": {
        "_cell_guid": "e49e7895-a6ac-4b92-9536-f341621d4604",
        "_uuid": "3ace943aed1952f64db8239a3e3a5ebdb39dfdc3",
        "id": "4YdaUmhYmFCz",
        "colab_type": "code",
        "outputId": "6276f751-b909-427b-c45c-52a1ddd5d243",
        "colab": {
          "base_uri": "https://localhost:8080/",
          "height": 283
        }
      },
      "source": [
        "# Scatterplot showing age and balance\n",
        "df_bank_with_dummies.plot(kind='scatter', x='age', y='balance', color=\"purple\");\n",
        "\n",
        "# Across all ages, majority of people have savings of less than 20000."
      ],
      "execution_count": 54,
      "outputs": [
        {
          "output_type": "display_data",
          "data": {
            "image/png": "[encoded data removed]",
            "text/plain": [
              "<Figure size 432x288 with 1 Axes>"
            ]
          },
          "metadata": {
            "tags": []
          }
        }
      ]
    },
    {
      "cell_type": "code",
      "metadata": {
        "_cell_guid": "4aec6766-7948-4e5d-ad01-3d09cef30708",
        "_uuid": "58071dc03f232e6fd860638e434390b1002e2299",
        "id": "mMRQDQ9imFC1",
        "colab_type": "code",
        "outputId": "58a0c1c3-5403-4f4c-a4cb-6ef920c8b8da",
        "colab": {
          "base_uri": "https://localhost:8080/",
          "height": 268
        }
      },
      "source": [
        "df_bank_with_dummies.plot(kind='hist', x='poutcome_success', y='duration', color=\"purple\");"
      ],
      "execution_count": 55,
      "outputs": [
        {
          "output_type": "display_data",
          "data": {
            "image/png": "[encoded data removed]",
            "text/plain": [
              "<Figure size 432x288 with 1 Axes>"
            ]
          },
          "metadata": {
            "tags": []
          }
        }
      ]
    },
    {
      "cell_type": "markdown",
      "metadata": {
        "id": "Mg1Ag-OsqmaZ",
        "colab_type": "text"
      },
      "source": [
        "#### 12. Analysis on people who sign up for a term deposite"
      ]
    },
    {
      "cell_type": "code",
      "metadata": {
        "_cell_guid": "52d4b887-1b35-434d-adf2-243edd1b3347",
        "_uuid": "0be3fa7ed1542d993bb5c8bc36b36d6ed7ca8092",
        "id": "DlUQPbqamFC4",
        "colab_type": "code",
        "outputId": "13084259-930d-44e0-a863-9182c7ea81fb",
        "colab": {
          "base_uri": "https://localhost:8080/",
          "height": 324
        }
      },
      "source": [
        "# People who sign up to a term deposite\n",
        "df_bank_with_dummies[df_bank_data.deposit_cat == 1].describe()"
      ],
      "execution_count": 57,
      "outputs": [
        {
          "output_type": "execute_result",
          "data": {
            "text/html": [
              "<div>\n",
              "<style scoped>\n",
              "    .dataframe tbody tr th:only-of-type {\n",
              "        vertical-align: middle;\n",
              "    }\n",
              "\n",
              "    .dataframe tbody tr th {\n",
              "        vertical-align: top;\n",
              "    }\n",
              "\n",
              "    .dataframe thead th {\n",
              "        text-align: right;\n",
              "    }\n",
              "</style>\n",
              "<table border=\"1\" class=\"dataframe\">\n",
              "  <thead>\n",
              "    <tr style=\"text-align: right;\">\n",
              "      <th></th>\n",
              "      <th>age</th>\n",
              "      <th>balance</th>\n",
              "      <th>duration</th>\n",
              "      <th>campaign</th>\n",
              "      <th>previous</th>\n",
              "      <th>default_cat</th>\n",
              "      <th>housing_cat</th>\n",
              "      <th>loan_cat</th>\n",
              "      <th>deposit_cat</th>\n",
              "      <th>recent_pdays</th>\n",
              "      <th>job_blue-collar</th>\n",
              "      <th>job_entrepreneur</th>\n",
              "      <th>job_other</th>\n",
              "      <th>job_pink-collar</th>\n",
              "      <th>job_self-employed</th>\n",
              "      <th>job_technician</th>\n",
              "      <th>job_white-collar</th>\n",
              "      <th>marital_divorced</th>\n",
              "      <th>marital_married</th>\n",
              "      <th>marital_single</th>\n",
              "      <th>education_primary</th>\n",
              "      <th>education_secondary</th>\n",
              "      <th>education_tertiary</th>\n",
              "      <th>education_unknown</th>\n",
              "      <th>poutcome_failure</th>\n",
              "      <th>poutcome_success</th>\n",
              "      <th>poutcome_unknown</th>\n",
              "    </tr>\n",
              "  </thead>\n",
              "  <tbody>\n",
              "    <tr>\n",
              "      <th>count</th>\n",
              "      <td>5289.000000</td>\n",
              "      <td>5289.000000</td>\n",
              "      <td>5289.000000</td>\n",
              "      <td>5289.000000</td>\n",
              "      <td>5289.000000</td>\n",
              "      <td>5289.000000</td>\n",
              "      <td>5289.000000</td>\n",
              "      <td>5289.000000</td>\n",
              "      <td>5289.0</td>\n",
              "      <td>5289.000000</td>\n",
              "      <td>5289.000000</td>\n",
              "      <td>5289.000000</td>\n",
              "      <td>5289.000000</td>\n",
              "      <td>5289.000000</td>\n",
              "      <td>5289.000000</td>\n",
              "      <td>5289.000000</td>\n",
              "      <td>5289.000000</td>\n",
              "      <td>5289.000000</td>\n",
              "      <td>5289.000000</td>\n",
              "      <td>5289.000000</td>\n",
              "      <td>5289.000000</td>\n",
              "      <td>5289.000000</td>\n",
              "      <td>5289.000000</td>\n",
              "      <td>5289.000000</td>\n",
              "      <td>5289.000000</td>\n",
              "      <td>5289.000000</td>\n",
              "      <td>5289.000000</td>\n",
              "    </tr>\n",
              "    <tr>\n",
              "      <th>mean</th>\n",
              "      <td>41.670070</td>\n",
              "      <td>1804.267915</td>\n",
              "      <td>537.294574</td>\n",
              "      <td>2.141047</td>\n",
              "      <td>1.170354</td>\n",
              "      <td>0.009832</td>\n",
              "      <td>0.365854</td>\n",
              "      <td>0.091511</td>\n",
              "      <td>1.0</td>\n",
              "      <td>0.004238</td>\n",
              "      <td>0.133863</td>\n",
              "      <td>0.023256</td>\n",
              "      <td>0.193042</td>\n",
              "      <td>0.090376</td>\n",
              "      <td>0.035356</td>\n",
              "      <td>0.158820</td>\n",
              "      <td>0.365286</td>\n",
              "      <td>0.117603</td>\n",
              "      <td>0.520892</td>\n",
              "      <td>0.361505</td>\n",
              "      <td>0.111741</td>\n",
              "      <td>0.463226</td>\n",
              "      <td>0.377387</td>\n",
              "      <td>0.047646</td>\n",
              "      <td>0.116846</td>\n",
              "      <td>0.184912</td>\n",
              "      <td>0.698242</td>\n",
              "    </tr>\n",
              "    <tr>\n",
              "      <th>std</th>\n",
              "      <td>13.497781</td>\n",
              "      <td>3501.104777</td>\n",
              "      <td>392.525262</td>\n",
              "      <td>1.921826</td>\n",
              "      <td>2.553272</td>\n",
              "      <td>0.098676</td>\n",
              "      <td>0.481714</td>\n",
              "      <td>0.288361</td>\n",
              "      <td>0.0</td>\n",
              "      <td>0.035686</td>\n",
              "      <td>0.340537</td>\n",
              "      <td>0.150729</td>\n",
              "      <td>0.394723</td>\n",
              "      <td>0.286747</td>\n",
              "      <td>0.184696</td>\n",
              "      <td>0.365543</td>\n",
              "      <td>0.481556</td>\n",
              "      <td>0.322167</td>\n",
              "      <td>0.499611</td>\n",
              "      <td>0.480482</td>\n",
              "      <td>0.315078</td>\n",
              "      <td>0.498693</td>\n",
              "      <td>0.484779</td>\n",
              "      <td>0.213036</td>\n",
              "      <td>0.321267</td>\n",
              "      <td>0.388263</td>\n",
              "      <td>0.459064</td>\n",
              "    </tr>\n",
              "    <tr>\n",
              "      <th>min</th>\n",
              "      <td>18.000000</td>\n",
              "      <td>-3058.000000</td>\n",
              "      <td>8.000000</td>\n",
              "      <td>1.000000</td>\n",
              "      <td>0.000000</td>\n",
              "      <td>0.000000</td>\n",
              "      <td>0.000000</td>\n",
              "      <td>0.000000</td>\n",
              "      <td>1.0</td>\n",
              "      <td>0.000100</td>\n",
              "      <td>0.000000</td>\n",
              "      <td>0.000000</td>\n",
              "      <td>0.000000</td>\n",
              "      <td>0.000000</td>\n",
              "      <td>0.000000</td>\n",
              "      <td>0.000000</td>\n",
              "      <td>0.000000</td>\n",
              "      <td>0.000000</td>\n",
              "      <td>0.000000</td>\n",
              "      <td>0.000000</td>\n",
              "      <td>0.000000</td>\n",
              "      <td>0.000000</td>\n",
              "      <td>0.000000</td>\n",
              "      <td>0.000000</td>\n",
              "      <td>0.000000</td>\n",
              "      <td>0.000000</td>\n",
              "      <td>0.000000</td>\n",
              "    </tr>\n",
              "    <tr>\n",
              "      <th>25%</th>\n",
              "      <td>31.000000</td>\n",
              "      <td>210.000000</td>\n",
              "      <td>244.000000</td>\n",
              "      <td>1.000000</td>\n",
              "      <td>0.000000</td>\n",
              "      <td>0.000000</td>\n",
              "      <td>0.000000</td>\n",
              "      <td>0.000000</td>\n",
              "      <td>1.0</td>\n",
              "      <td>0.000100</td>\n",
              "      <td>0.000000</td>\n",
              "      <td>0.000000</td>\n",
              "      <td>0.000000</td>\n",
              "      <td>0.000000</td>\n",
              "      <td>0.000000</td>\n",
              "      <td>0.000000</td>\n",
              "      <td>0.000000</td>\n",
              "      <td>0.000000</td>\n",
              "      <td>0.000000</td>\n",
              "      <td>0.000000</td>\n",
              "      <td>0.000000</td>\n",
              "      <td>0.000000</td>\n",
              "      <td>0.000000</td>\n",
              "      <td>0.000000</td>\n",
              "      <td>0.000000</td>\n",
              "      <td>0.000000</td>\n",
              "      <td>0.000000</td>\n",
              "    </tr>\n",
              "    <tr>\n",
              "      <th>50%</th>\n",
              "      <td>38.000000</td>\n",
              "      <td>733.000000</td>\n",
              "      <td>426.000000</td>\n",
              "      <td>2.000000</td>\n",
              "      <td>0.000000</td>\n",
              "      <td>0.000000</td>\n",
              "      <td>0.000000</td>\n",
              "      <td>0.000000</td>\n",
              "      <td>1.0</td>\n",
              "      <td>0.000100</td>\n",
              "      <td>0.000000</td>\n",
              "      <td>0.000000</td>\n",
              "      <td>0.000000</td>\n",
              "      <td>0.000000</td>\n",
              "      <td>0.000000</td>\n",
              "      <td>0.000000</td>\n",
              "      <td>0.000000</td>\n",
              "      <td>0.000000</td>\n",
              "      <td>1.000000</td>\n",
              "      <td>0.000000</td>\n",
              "      <td>0.000000</td>\n",
              "      <td>0.000000</td>\n",
              "      <td>0.000000</td>\n",
              "      <td>0.000000</td>\n",
              "      <td>0.000000</td>\n",
              "      <td>0.000000</td>\n",
              "      <td>1.000000</td>\n",
              "    </tr>\n",
              "    <tr>\n",
              "      <th>75%</th>\n",
              "      <td>50.000000</td>\n",
              "      <td>2159.000000</td>\n",
              "      <td>725.000000</td>\n",
              "      <td>3.000000</td>\n",
              "      <td>1.000000</td>\n",
              "      <td>0.000000</td>\n",
              "      <td>1.000000</td>\n",
              "      <td>0.000000</td>\n",
              "      <td>1.0</td>\n",
              "      <td>0.005128</td>\n",
              "      <td>0.000000</td>\n",
              "      <td>0.000000</td>\n",
              "      <td>0.000000</td>\n",
              "      <td>0.000000</td>\n",
              "      <td>0.000000</td>\n",
              "      <td>0.000000</td>\n",
              "      <td>1.000000</td>\n",
              "      <td>0.000000</td>\n",
              "      <td>1.000000</td>\n",
              "      <td>1.000000</td>\n",
              "      <td>0.000000</td>\n",
              "      <td>1.000000</td>\n",
              "      <td>1.000000</td>\n",
              "      <td>0.000000</td>\n",
              "      <td>0.000000</td>\n",
              "      <td>0.000000</td>\n",
              "      <td>1.000000</td>\n",
              "    </tr>\n",
              "    <tr>\n",
              "      <th>max</th>\n",
              "      <td>95.000000</td>\n",
              "      <td>81204.000000</td>\n",
              "      <td>3881.000000</td>\n",
              "      <td>32.000000</td>\n",
              "      <td>58.000000</td>\n",
              "      <td>1.000000</td>\n",
              "      <td>1.000000</td>\n",
              "      <td>1.000000</td>\n",
              "      <td>1.0</td>\n",
              "      <td>1.000000</td>\n",
              "      <td>1.000000</td>\n",
              "      <td>1.000000</td>\n",
              "      <td>1.000000</td>\n",
              "      <td>1.000000</td>\n",
              "      <td>1.000000</td>\n",
              "      <td>1.000000</td>\n",
              "      <td>1.000000</td>\n",
              "      <td>1.000000</td>\n",
              "      <td>1.000000</td>\n",
              "      <td>1.000000</td>\n",
              "      <td>1.000000</td>\n",
              "      <td>1.000000</td>\n",
              "      <td>1.000000</td>\n",
              "      <td>1.000000</td>\n",
              "      <td>1.000000</td>\n",
              "      <td>1.000000</td>\n",
              "      <td>1.000000</td>\n",
              "    </tr>\n",
              "  </tbody>\n",
              "</table>\n",
              "</div>"
            ],
            "text/plain": [
              "               age       balance  ...  poutcome_success  poutcome_unknown\n",
              "count  5289.000000   5289.000000  ...       5289.000000       5289.000000\n",
              "mean     41.670070   1804.267915  ...          0.184912          0.698242\n",
              "std      13.497781   3501.104777  ...          0.388263          0.459064\n",
              "min      18.000000  -3058.000000  ...          0.000000          0.000000\n",
              "25%      31.000000    210.000000  ...          0.000000          0.000000\n",
              "50%      38.000000    733.000000  ...          0.000000          1.000000\n",
              "75%      50.000000   2159.000000  ...          0.000000          1.000000\n",
              "max      95.000000  81204.000000  ...          1.000000          1.000000\n",
              "\n",
              "[8 rows x 27 columns]"
            ]
          },
          "metadata": {
            "tags": []
          },
          "execution_count": 57
        }
      ]
    },
    {
      "cell_type": "code",
      "metadata": {
        "_cell_guid": "25c8616f-805c-4abf-b792-4b2e8f39cfcf",
        "_uuid": "3d999f6b3775dcc7b25993fcd6ccad1838d8a239",
        "id": "mdjYYYJ6mFC7",
        "colab_type": "code",
        "outputId": "f35bac17-85c2-4842-c6dd-a9cca6c8e956",
        "colab": {
          "base_uri": "https://localhost:8080/",
          "height": 33
        }
      },
      "source": [
        "# People signed up to a term deposite having a Personal Loan (loan_cat) and Housing Loan (housing_cat)\n",
        "len(df_bank_with_dummies[(df_bank_with_dummies.deposit_cat == 1) & (df_bank_with_dummies.loan_cat) & (df_bank_with_dummies.housing_cat)])"
      ],
      "execution_count": 58,
      "outputs": [
        {
          "output_type": "execute_result",
          "data": {
            "text/plain": [
              "265"
            ]
          },
          "metadata": {
            "tags": []
          },
          "execution_count": 58
        }
      ]
    },
    {
      "cell_type": "code",
      "metadata": {
        "_cell_guid": "ecb235b0-9f6b-4a35-9a71-efd7525b4836",
        "_uuid": "33866e95d069281a68c5f0bcfaa272603e665390",
        "id": "3gRnrfoCmFC-",
        "colab_type": "code",
        "outputId": "01122708-1665-463a-bfff-5965331bb4f9",
        "colab": {
          "base_uri": "https://localhost:8080/",
          "height": 33
        }
      },
      "source": [
        "# People signed up to a term deposite with a Credit Default \n",
        "len(df_bank_with_dummies[(df_bank_with_dummies.deposit_cat == 1) & (df_bank_with_dummies.default_cat ==1)])"
      ],
      "execution_count": 59,
      "outputs": [
        {
          "output_type": "execute_result",
          "data": {
            "text/plain": [
              "52"
            ]
          },
          "metadata": {
            "tags": []
          },
          "execution_count": 59
        }
      ]
    },
    {
      "cell_type": "code",
      "metadata": {
        "_cell_guid": "fae049f5-fa22-4db2-9e65-2b0088ed6c2c",
        "_uuid": "037a420ecb420ad6b97029219d36d4f9147d52a6",
        "id": "fK0OiwCLmFDA",
        "colab_type": "code",
        "outputId": "b161a583-6b3e-43f9-c5ab-4fcb94f5b32d",
        "colab": {
          "base_uri": "https://localhost:8080/",
          "height": 408
        }
      },
      "source": [
        "# Bar chart of Job VS Deposite\n",
        "plt.figure(figsize = (10,6))\n",
        "sns.barplot(x='job', y = 'deposit_cat', data = df_bank_data, palette=\"twilight\", )\n"
      ],
      "execution_count": 60,
      "outputs": [
        {
          "output_type": "execute_result",
          "data": {
            "text/plain": [
              "<matplotlib.axes._subplots.AxesSubplot at 0x7fb2d48fc1d0>"
            ]
          },
          "metadata": {
            "tags": []
          },
          "execution_count": 60
        },
        {
          "output_type": "display_data",
          "data": {
            "image/png": "[encoded data removed]",
            "text/plain": [
              "<Figure size 720x432 with 1 Axes>"
            ]
          },
          "metadata": {
            "tags": []
          }
        }
      ]
    },
    {
      "cell_type": "code",
      "metadata": {
        "_cell_guid": "1a35a8e5-3df3-470c-9bf1-71a476f587e6",
        "_uuid": "7f5cb673253553269fcb783d941d7b37499b9a3e",
        "id": "chs8DoTcmFDD",
        "colab_type": "code",
        "outputId": "d742c2f9-2044-43be-c439-f16d2ab94a57",
        "colab": {
          "base_uri": "https://localhost:8080/",
          "height": 408
        }
      },
      "source": [
        "# Bar chart of \"previous outcome\" VS \"call duration\"\n",
        "\n",
        "plt.figure(figsize = (10,6))\n",
        "sns.barplot(x='poutcome', y = 'duration', data = df_bank_data, palette=\"twilight\")"
      ],
      "execution_count": 62,
      "outputs": [
        {
          "output_type": "execute_result",
          "data": {
            "text/plain": [
              "<matplotlib.axes._subplots.AxesSubplot at 0x7fb2d49a9d68>"
            ]
          },
          "metadata": {
            "tags": []
          },
          "execution_count": 62
        },
        {
          "output_type": "display_data",
          "data": {
            "image/png": "[encoded data removed]",
            "text/plain": [
              "<Figure size 720x432 with 1 Axes>"
            ]
          },
          "metadata": {
            "tags": []
          }
        }
      ]
    },
    {
      "cell_type": "markdown",
      "metadata": {
        "id": "5J2vLy8Krnbx",
        "colab_type": "text"
      },
      "source": [
        "## Classification"
      ]
    },
    {
      "cell_type": "code",
      "metadata": {
        "id": "KYgCoGqJxCNt",
        "colab_type": "code",
        "colab": {}
      },
      "source": [
        "# Make a copy\n",
        "df_bank_class = df_bank_with_dummies.copy()"
      ],
      "execution_count": 0,
      "outputs": []
    },
    {
      "cell_type": "code",
      "metadata": {
        "id": "gTY6iO8vxVe9",
        "colab_type": "code",
        "outputId": "b54dcad3-c0a6-427a-ac7d-54d9d6a8fe97",
        "colab": {
          "base_uri": "https://localhost:8080/",
          "height": 894
        }
      },
      "source": [
        "# Correltion Matrix\n",
        "corr = df_bank_class.corr()\n",
        "corr"
      ],
      "execution_count": 64,
      "outputs": [
        {
          "output_type": "execute_result",
          "data": {
            "text/html": [
              "<div>\n",
              "<style scoped>\n",
              "    .dataframe tbody tr th:only-of-type {\n",
              "        vertical-align: middle;\n",
              "    }\n",
              "\n",
              "    .dataframe tbody tr th {\n",
              "        vertical-align: top;\n",
              "    }\n",
              "\n",
              "    .dataframe thead th {\n",
              "        text-align: right;\n",
              "    }\n",
              "</style>\n",
              "<table border=\"1\" class=\"dataframe\">\n",
              "  <thead>\n",
              "    <tr style=\"text-align: right;\">\n",
              "      <th></th>\n",
              "      <th>age</th>\n",
              "      <th>balance</th>\n",
              "      <th>duration</th>\n",
              "      <th>campaign</th>\n",
              "      <th>previous</th>\n",
              "      <th>default_cat</th>\n",
              "      <th>housing_cat</th>\n",
              "      <th>loan_cat</th>\n",
              "      <th>deposit_cat</th>\n",
              "      <th>recent_pdays</th>\n",
              "      <th>job_blue-collar</th>\n",
              "      <th>job_entrepreneur</th>\n",
              "      <th>job_other</th>\n",
              "      <th>job_pink-collar</th>\n",
              "      <th>job_self-employed</th>\n",
              "      <th>job_technician</th>\n",
              "      <th>job_white-collar</th>\n",
              "      <th>marital_divorced</th>\n",
              "      <th>marital_married</th>\n",
              "      <th>marital_single</th>\n",
              "      <th>education_primary</th>\n",
              "      <th>education_secondary</th>\n",
              "      <th>education_tertiary</th>\n",
              "      <th>education_unknown</th>\n",
              "      <th>poutcome_failure</th>\n",
              "      <th>poutcome_success</th>\n",
              "      <th>poutcome_unknown</th>\n",
              "    </tr>\n",
              "  </thead>\n",
              "  <tbody>\n",
              "    <tr>\n",
              "      <th>age</th>\n",
              "      <td>1.000000</td>\n",
              "      <td>0.112300</td>\n",
              "      <td>0.000189</td>\n",
              "      <td>-0.005278</td>\n",
              "      <td>0.020169</td>\n",
              "      <td>-0.011425</td>\n",
              "      <td>-0.168700</td>\n",
              "      <td>-0.031418</td>\n",
              "      <td>0.034901</td>\n",
              "      <td>0.019102</td>\n",
              "      <td>-0.066567</td>\n",
              "      <td>0.024176</td>\n",
              "      <td>0.296418</td>\n",
              "      <td>-0.027942</td>\n",
              "      <td>-0.023163</td>\n",
              "      <td>-0.082716</td>\n",
              "      <td>-0.080122</td>\n",
              "      <td>0.186349</td>\n",
              "      <td>0.318436</td>\n",
              "      <td>-0.467799</td>\n",
              "      <td>0.231150</td>\n",
              "      <td>-0.094400</td>\n",
              "      <td>-0.101372</td>\n",
              "      <td>0.077761</td>\n",
              "      <td>-0.008071</td>\n",
              "      <td>0.062114</td>\n",
              "      <td>-0.038992</td>\n",
              "    </tr>\n",
              "    <tr>\n",
              "      <th>balance</th>\n",
              "      <td>0.112300</td>\n",
              "      <td>1.000000</td>\n",
              "      <td>0.022436</td>\n",
              "      <td>-0.013894</td>\n",
              "      <td>0.030805</td>\n",
              "      <td>-0.060954</td>\n",
              "      <td>-0.077092</td>\n",
              "      <td>-0.084589</td>\n",
              "      <td>0.081129</td>\n",
              "      <td>-0.004379</td>\n",
              "      <td>-0.046220</td>\n",
              "      <td>0.005039</td>\n",
              "      <td>0.050744</td>\n",
              "      <td>-0.041063</td>\n",
              "      <td>0.020264</td>\n",
              "      <td>0.003802</td>\n",
              "      <td>0.013780</td>\n",
              "      <td>-0.017586</td>\n",
              "      <td>0.025431</td>\n",
              "      <td>-0.014994</td>\n",
              "      <td>-0.000673</td>\n",
              "      <td>-0.070609</td>\n",
              "      <td>0.069128</td>\n",
              "      <td>0.014596</td>\n",
              "      <td>0.001695</td>\n",
              "      <td>0.045603</td>\n",
              "      <td>-0.034524</td>\n",
              "    </tr>\n",
              "    <tr>\n",
              "      <th>duration</th>\n",
              "      <td>0.000189</td>\n",
              "      <td>0.022436</td>\n",
              "      <td>1.000000</td>\n",
              "      <td>-0.041557</td>\n",
              "      <td>-0.026716</td>\n",
              "      <td>-0.009760</td>\n",
              "      <td>0.035051</td>\n",
              "      <td>-0.001914</td>\n",
              "      <td>0.451919</td>\n",
              "      <td>-0.014868</td>\n",
              "      <td>0.029986</td>\n",
              "      <td>-0.000908</td>\n",
              "      <td>0.010680</td>\n",
              "      <td>0.005345</td>\n",
              "      <td>0.013506</td>\n",
              "      <td>-0.010440</td>\n",
              "      <td>-0.031980</td>\n",
              "      <td>0.021364</td>\n",
              "      <td>-0.036179</td>\n",
              "      <td>0.023847</td>\n",
              "      <td>0.013405</td>\n",
              "      <td>0.003820</td>\n",
              "      <td>-0.006813</td>\n",
              "      <td>-0.015887</td>\n",
              "      <td>-0.033966</td>\n",
              "      <td>-0.022578</td>\n",
              "      <td>0.042725</td>\n",
              "    </tr>\n",
              "    <tr>\n",
              "      <th>campaign</th>\n",
              "      <td>-0.005278</td>\n",
              "      <td>-0.013894</td>\n",
              "      <td>-0.041557</td>\n",
              "      <td>1.000000</td>\n",
              "      <td>-0.049699</td>\n",
              "      <td>0.030975</td>\n",
              "      <td>0.006660</td>\n",
              "      <td>0.034722</td>\n",
              "      <td>-0.128081</td>\n",
              "      <td>-0.026296</td>\n",
              "      <td>0.005522</td>\n",
              "      <td>0.013883</td>\n",
              "      <td>-0.050212</td>\n",
              "      <td>0.011958</td>\n",
              "      <td>0.001776</td>\n",
              "      <td>0.021738</td>\n",
              "      <td>0.001944</td>\n",
              "      <td>-0.006828</td>\n",
              "      <td>0.047722</td>\n",
              "      <td>-0.046165</td>\n",
              "      <td>0.019915</td>\n",
              "      <td>-0.013834</td>\n",
              "      <td>-0.005427</td>\n",
              "      <td>0.012976</td>\n",
              "      <td>-0.080188</td>\n",
              "      <td>-0.091807</td>\n",
              "      <td>0.128907</td>\n",
              "    </tr>\n",
              "    <tr>\n",
              "      <th>previous</th>\n",
              "      <td>0.020169</td>\n",
              "      <td>0.030805</td>\n",
              "      <td>-0.026716</td>\n",
              "      <td>-0.049699</td>\n",
              "      <td>1.000000</td>\n",
              "      <td>-0.035273</td>\n",
              "      <td>-0.000840</td>\n",
              "      <td>-0.022668</td>\n",
              "      <td>0.139867</td>\n",
              "      <td>0.122076</td>\n",
              "      <td>-0.039939</td>\n",
              "      <td>-0.022470</td>\n",
              "      <td>0.031191</td>\n",
              "      <td>-0.028623</td>\n",
              "      <td>-0.002338</td>\n",
              "      <td>0.002035</td>\n",
              "      <td>0.034929</td>\n",
              "      <td>-0.026566</td>\n",
              "      <td>-0.005176</td>\n",
              "      <td>0.023817</td>\n",
              "      <td>-0.024852</td>\n",
              "      <td>-0.004620</td>\n",
              "      <td>0.028146</td>\n",
              "      <td>-0.011898</td>\n",
              "      <td>0.335870</td>\n",
              "      <td>0.325477</td>\n",
              "      <td>-0.496921</td>\n",
              "    </tr>\n",
              "    <tr>\n",
              "      <th>default_cat</th>\n",
              "      <td>-0.011425</td>\n",
              "      <td>-0.060954</td>\n",
              "      <td>-0.009760</td>\n",
              "      <td>0.030975</td>\n",
              "      <td>-0.035273</td>\n",
              "      <td>1.000000</td>\n",
              "      <td>0.011076</td>\n",
              "      <td>0.076434</td>\n",
              "      <td>-0.040680</td>\n",
              "      <td>-0.011290</td>\n",
              "      <td>0.022779</td>\n",
              "      <td>0.022060</td>\n",
              "      <td>-0.018130</td>\n",
              "      <td>-0.007173</td>\n",
              "      <td>0.007493</td>\n",
              "      <td>0.003109</td>\n",
              "      <td>-0.013425</td>\n",
              "      <td>0.019633</td>\n",
              "      <td>-0.006819</td>\n",
              "      <td>-0.006255</td>\n",
              "      <td>0.013858</td>\n",
              "      <td>-0.000618</td>\n",
              "      <td>-0.011768</td>\n",
              "      <td>0.005421</td>\n",
              "      <td>-0.024650</td>\n",
              "      <td>-0.040272</td>\n",
              "      <td>0.048403</td>\n",
              "    </tr>\n",
              "    <tr>\n",
              "      <th>housing_cat</th>\n",
              "      <td>-0.168700</td>\n",
              "      <td>-0.077092</td>\n",
              "      <td>0.035051</td>\n",
              "      <td>0.006660</td>\n",
              "      <td>-0.000840</td>\n",
              "      <td>0.011076</td>\n",
              "      <td>1.000000</td>\n",
              "      <td>0.076761</td>\n",
              "      <td>-0.203888</td>\n",
              "      <td>-0.029350</td>\n",
              "      <td>0.189848</td>\n",
              "      <td>0.011492</td>\n",
              "      <td>-0.233309</td>\n",
              "      <td>0.043884</td>\n",
              "      <td>-0.016903</td>\n",
              "      <td>0.006551</td>\n",
              "      <td>-0.012111</td>\n",
              "      <td>0.007430</td>\n",
              "      <td>0.036305</td>\n",
              "      <td>-0.043817</td>\n",
              "      <td>0.017002</td>\n",
              "      <td>0.118514</td>\n",
              "      <td>-0.114955</td>\n",
              "      <td>-0.053191</td>\n",
              "      <td>0.087741</td>\n",
              "      <td>-0.136299</td>\n",
              "      <td>0.031375</td>\n",
              "    </tr>\n",
              "    <tr>\n",
              "      <th>loan_cat</th>\n",
              "      <td>-0.031418</td>\n",
              "      <td>-0.084589</td>\n",
              "      <td>-0.001914</td>\n",
              "      <td>0.034722</td>\n",
              "      <td>-0.022668</td>\n",
              "      <td>0.076434</td>\n",
              "      <td>0.076761</td>\n",
              "      <td>1.000000</td>\n",
              "      <td>-0.110580</td>\n",
              "      <td>-0.012697</td>\n",
              "      <td>0.057956</td>\n",
              "      <td>0.042631</td>\n",
              "      <td>-0.096196</td>\n",
              "      <td>0.014969</td>\n",
              "      <td>0.004299</td>\n",
              "      <td>0.006864</td>\n",
              "      <td>-0.007871</td>\n",
              "      <td>0.026463</td>\n",
              "      <td>0.044148</td>\n",
              "      <td>-0.065288</td>\n",
              "      <td>0.006854</td>\n",
              "      <td>0.079583</td>\n",
              "      <td>-0.067513</td>\n",
              "      <td>-0.050249</td>\n",
              "      <td>0.006264</td>\n",
              "      <td>-0.080370</td>\n",
              "      <td>0.053686</td>\n",
              "    </tr>\n",
              "    <tr>\n",
              "      <th>deposit_cat</th>\n",
              "      <td>0.034901</td>\n",
              "      <td>0.081129</td>\n",
              "      <td>0.451919</td>\n",
              "      <td>-0.128081</td>\n",
              "      <td>0.139867</td>\n",
              "      <td>-0.040680</td>\n",
              "      <td>-0.203888</td>\n",
              "      <td>-0.110580</td>\n",
              "      <td>1.000000</td>\n",
              "      <td>0.034457</td>\n",
              "      <td>-0.100840</td>\n",
              "      <td>-0.034443</td>\n",
              "      <td>0.144408</td>\n",
              "      <td>-0.051717</td>\n",
              "      <td>-0.004707</td>\n",
              "      <td>-0.011557</td>\n",
              "      <td>0.031621</td>\n",
              "      <td>0.005228</td>\n",
              "      <td>-0.092157</td>\n",
              "      <td>0.094632</td>\n",
              "      <td>-0.063002</td>\n",
              "      <td>-0.051952</td>\n",
              "      <td>0.094598</td>\n",
              "      <td>0.014355</td>\n",
              "      <td>0.020714</td>\n",
              "      <td>0.286642</td>\n",
              "      <td>-0.224785</td>\n",
              "    </tr>\n",
              "    <tr>\n",
              "      <th>recent_pdays</th>\n",
              "      <td>0.019102</td>\n",
              "      <td>-0.004379</td>\n",
              "      <td>-0.014868</td>\n",
              "      <td>-0.026296</td>\n",
              "      <td>0.122076</td>\n",
              "      <td>-0.011290</td>\n",
              "      <td>-0.029350</td>\n",
              "      <td>-0.012697</td>\n",
              "      <td>0.034457</td>\n",
              "      <td>1.000000</td>\n",
              "      <td>-0.018514</td>\n",
              "      <td>0.006251</td>\n",
              "      <td>0.024356</td>\n",
              "      <td>-0.001183</td>\n",
              "      <td>-0.008226</td>\n",
              "      <td>-0.007412</td>\n",
              "      <td>0.004516</td>\n",
              "      <td>-0.020253</td>\n",
              "      <td>0.009583</td>\n",
              "      <td>0.003736</td>\n",
              "      <td>-0.007034</td>\n",
              "      <td>-0.017129</td>\n",
              "      <td>0.017346</td>\n",
              "      <td>0.013590</td>\n",
              "      <td>0.051422</td>\n",
              "      <td>0.119598</td>\n",
              "      <td>-0.126890</td>\n",
              "    </tr>\n",
              "    <tr>\n",
              "      <th>job_blue-collar</th>\n",
              "      <td>-0.066567</td>\n",
              "      <td>-0.046220</td>\n",
              "      <td>0.029986</td>\n",
              "      <td>0.005522</td>\n",
              "      <td>-0.039939</td>\n",
              "      <td>0.022779</td>\n",
              "      <td>0.189848</td>\n",
              "      <td>0.057956</td>\n",
              "      <td>-0.100840</td>\n",
              "      <td>-0.018514</td>\n",
              "      <td>1.000000</td>\n",
              "      <td>-0.079905</td>\n",
              "      <td>-0.185447</td>\n",
              "      <td>-0.159162</td>\n",
              "      <td>-0.089107</td>\n",
              "      <td>-0.202896</td>\n",
              "      <td>-0.336538</td>\n",
              "      <td>-0.056240</td>\n",
              "      <td>0.109188</td>\n",
              "      <td>-0.077645</td>\n",
              "      <td>0.299737</td>\n",
              "      <td>0.076687</td>\n",
              "      <td>-0.298548</td>\n",
              "      <td>-0.000640</td>\n",
              "      <td>-0.018022</td>\n",
              "      <td>-0.077422</td>\n",
              "      <td>0.070330</td>\n",
              "    </tr>\n",
              "    <tr>\n",
              "      <th>job_entrepreneur</th>\n",
              "      <td>0.024176</td>\n",
              "      <td>0.005039</td>\n",
              "      <td>-0.000908</td>\n",
              "      <td>0.013883</td>\n",
              "      <td>-0.022470</td>\n",
              "      <td>0.022060</td>\n",
              "      <td>0.011492</td>\n",
              "      <td>0.042631</td>\n",
              "      <td>-0.034443</td>\n",
              "      <td>0.006251</td>\n",
              "      <td>-0.079905</td>\n",
              "      <td>1.000000</td>\n",
              "      <td>-0.070264</td>\n",
              "      <td>-0.060305</td>\n",
              "      <td>-0.033762</td>\n",
              "      <td>-0.076875</td>\n",
              "      <td>-0.127511</td>\n",
              "      <td>0.006638</td>\n",
              "      <td>0.050746</td>\n",
              "      <td>-0.058665</td>\n",
              "      <td>-0.004788</td>\n",
              "      <td>-0.021132</td>\n",
              "      <td>0.026612</td>\n",
              "      <td>-0.001555</td>\n",
              "      <td>-0.001840</td>\n",
              "      <td>-0.035072</td>\n",
              "      <td>0.026966</td>\n",
              "    </tr>\n",
              "    <tr>\n",
              "      <th>job_other</th>\n",
              "      <td>0.296418</td>\n",
              "      <td>0.050744</td>\n",
              "      <td>0.010680</td>\n",
              "      <td>-0.050212</td>\n",
              "      <td>0.031191</td>\n",
              "      <td>-0.018130</td>\n",
              "      <td>-0.233309</td>\n",
              "      <td>-0.096196</td>\n",
              "      <td>0.144408</td>\n",
              "      <td>0.024356</td>\n",
              "      <td>-0.185447</td>\n",
              "      <td>-0.070264</td>\n",
              "      <td>1.000000</td>\n",
              "      <td>-0.139958</td>\n",
              "      <td>-0.078356</td>\n",
              "      <td>-0.178415</td>\n",
              "      <td>-0.295933</td>\n",
              "      <td>0.032824</td>\n",
              "      <td>-0.030982</td>\n",
              "      <td>0.010413</td>\n",
              "      <td>0.114003</td>\n",
              "      <td>-0.020532</td>\n",
              "      <td>-0.110383</td>\n",
              "      <td>0.112986</td>\n",
              "      <td>-0.010865</td>\n",
              "      <td>0.099733</td>\n",
              "      <td>-0.064228</td>\n",
              "    </tr>\n",
              "    <tr>\n",
              "      <th>job_pink-collar</th>\n",
              "      <td>-0.027942</td>\n",
              "      <td>-0.041063</td>\n",
              "      <td>0.005345</td>\n",
              "      <td>0.011958</td>\n",
              "      <td>-0.028623</td>\n",
              "      <td>-0.007173</td>\n",
              "      <td>0.043884</td>\n",
              "      <td>0.014969</td>\n",
              "      <td>-0.051717</td>\n",
              "      <td>-0.001183</td>\n",
              "      <td>-0.159162</td>\n",
              "      <td>-0.060305</td>\n",
              "      <td>-0.139958</td>\n",
              "      <td>1.000000</td>\n",
              "      <td>-0.067250</td>\n",
              "      <td>-0.153127</td>\n",
              "      <td>-0.253988</td>\n",
              "      <td>0.025640</td>\n",
              "      <td>0.007558</td>\n",
              "      <td>-0.025718</td>\n",
              "      <td>0.056150</td>\n",
              "      <td>0.137129</td>\n",
              "      <td>-0.184418</td>\n",
              "      <td>-0.004629</td>\n",
              "      <td>-0.010816</td>\n",
              "      <td>-0.030331</td>\n",
              "      <td>0.030459</td>\n",
              "    </tr>\n",
              "    <tr>\n",
              "      <th>job_self-employed</th>\n",
              "      <td>-0.023163</td>\n",
              "      <td>0.020264</td>\n",
              "      <td>0.013506</td>\n",
              "      <td>0.001776</td>\n",
              "      <td>-0.002338</td>\n",
              "      <td>0.007493</td>\n",
              "      <td>-0.016903</td>\n",
              "      <td>0.004299</td>\n",
              "      <td>-0.004707</td>\n",
              "      <td>-0.008226</td>\n",
              "      <td>-0.089107</td>\n",
              "      <td>-0.033762</td>\n",
              "      <td>-0.078356</td>\n",
              "      <td>-0.067250</td>\n",
              "      <td>1.000000</td>\n",
              "      <td>-0.085728</td>\n",
              "      <td>-0.142196</td>\n",
              "      <td>-0.011849</td>\n",
              "      <td>-0.008164</td>\n",
              "      <td>0.016864</td>\n",
              "      <td>-0.037121</td>\n",
              "      <td>-0.060080</td>\n",
              "      <td>0.097929</td>\n",
              "      <td>-0.016336</td>\n",
              "      <td>-0.010039</td>\n",
              "      <td>-0.001399</td>\n",
              "      <td>0.008786</td>\n",
              "    </tr>\n",
              "    <tr>\n",
              "      <th>job_technician</th>\n",
              "      <td>-0.082716</td>\n",
              "      <td>0.003802</td>\n",
              "      <td>-0.010440</td>\n",
              "      <td>0.021738</td>\n",
              "      <td>0.002035</td>\n",
              "      <td>0.003109</td>\n",
              "      <td>0.006551</td>\n",
              "      <td>0.006864</td>\n",
              "      <td>-0.011557</td>\n",
              "      <td>-0.007412</td>\n",
              "      <td>-0.202896</td>\n",
              "      <td>-0.076875</td>\n",
              "      <td>-0.178415</td>\n",
              "      <td>-0.153127</td>\n",
              "      <td>-0.085728</td>\n",
              "      <td>1.000000</td>\n",
              "      <td>-0.323778</td>\n",
              "      <td>-0.005434</td>\n",
              "      <td>-0.052492</td>\n",
              "      <td>0.059696</td>\n",
              "      <td>-0.144948</td>\n",
              "      <td>0.152542</td>\n",
              "      <td>-0.041988</td>\n",
              "      <td>-0.034276</td>\n",
              "      <td>0.005763</td>\n",
              "      <td>-0.014744</td>\n",
              "      <td>0.006279</td>\n",
              "    </tr>\n",
              "    <tr>\n",
              "      <th>job_white-collar</th>\n",
              "      <td>-0.080122</td>\n",
              "      <td>0.013780</td>\n",
              "      <td>-0.031980</td>\n",
              "      <td>0.001944</td>\n",
              "      <td>0.034929</td>\n",
              "      <td>-0.013425</td>\n",
              "      <td>-0.012111</td>\n",
              "      <td>-0.007871</td>\n",
              "      <td>0.031621</td>\n",
              "      <td>0.004516</td>\n",
              "      <td>-0.336538</td>\n",
              "      <td>-0.127511</td>\n",
              "      <td>-0.295933</td>\n",
              "      <td>-0.253988</td>\n",
              "      <td>-0.142196</td>\n",
              "      <td>-0.323778</td>\n",
              "      <td>1.000000</td>\n",
              "      <td>0.010701</td>\n",
              "      <td>-0.043270</td>\n",
              "      <td>0.038752</td>\n",
              "      <td>-0.229245</td>\n",
              "      <td>-0.222261</td>\n",
              "      <td>0.422261</td>\n",
              "      <td>-0.045233</td>\n",
              "      <td>0.029387</td>\n",
              "      <td>0.033044</td>\n",
              "      <td>-0.046804</td>\n",
              "    </tr>\n",
              "    <tr>\n",
              "      <th>marital_divorced</th>\n",
              "      <td>0.186349</td>\n",
              "      <td>-0.017586</td>\n",
              "      <td>0.021364</td>\n",
              "      <td>-0.006828</td>\n",
              "      <td>-0.026566</td>\n",
              "      <td>0.019633</td>\n",
              "      <td>0.007430</td>\n",
              "      <td>0.026463</td>\n",
              "      <td>0.005228</td>\n",
              "      <td>-0.020253</td>\n",
              "      <td>-0.056240</td>\n",
              "      <td>0.006638</td>\n",
              "      <td>0.032824</td>\n",
              "      <td>0.025640</td>\n",
              "      <td>-0.011849</td>\n",
              "      <td>-0.005434</td>\n",
              "      <td>0.010701</td>\n",
              "      <td>1.000000</td>\n",
              "      <td>-0.415878</td>\n",
              "      <td>-0.245556</td>\n",
              "      <td>0.024821</td>\n",
              "      <td>0.009891</td>\n",
              "      <td>-0.024597</td>\n",
              "      <td>-0.008920</td>\n",
              "      <td>-0.026169</td>\n",
              "      <td>-0.018120</td>\n",
              "      <td>0.033445</td>\n",
              "    </tr>\n",
              "    <tr>\n",
              "      <th>marital_married</th>\n",
              "      <td>0.318436</td>\n",
              "      <td>0.025431</td>\n",
              "      <td>-0.036179</td>\n",
              "      <td>0.047722</td>\n",
              "      <td>-0.005176</td>\n",
              "      <td>-0.006819</td>\n",
              "      <td>0.036305</td>\n",
              "      <td>0.044148</td>\n",
              "      <td>-0.092157</td>\n",
              "      <td>0.009583</td>\n",
              "      <td>0.109188</td>\n",
              "      <td>0.050746</td>\n",
              "      <td>-0.030982</td>\n",
              "      <td>0.007558</td>\n",
              "      <td>-0.008164</td>\n",
              "      <td>-0.052492</td>\n",
              "      <td>-0.043270</td>\n",
              "      <td>-0.415878</td>\n",
              "      <td>1.000000</td>\n",
              "      <td>-0.779455</td>\n",
              "      <td>0.130232</td>\n",
              "      <td>0.001536</td>\n",
              "      <td>-0.098449</td>\n",
              "      <td>0.005451</td>\n",
              "      <td>0.007682</td>\n",
              "      <td>-0.010063</td>\n",
              "      <td>0.001384</td>\n",
              "    </tr>\n",
              "    <tr>\n",
              "      <th>marital_single</th>\n",
              "      <td>-0.467799</td>\n",
              "      <td>-0.014994</td>\n",
              "      <td>0.023847</td>\n",
              "      <td>-0.046165</td>\n",
              "      <td>0.023817</td>\n",
              "      <td>-0.006255</td>\n",
              "      <td>-0.043817</td>\n",
              "      <td>-0.065288</td>\n",
              "      <td>0.094632</td>\n",
              "      <td>0.003736</td>\n",
              "      <td>-0.077645</td>\n",
              "      <td>-0.058665</td>\n",
              "      <td>0.010413</td>\n",
              "      <td>-0.025718</td>\n",
              "      <td>0.016864</td>\n",
              "      <td>0.059696</td>\n",
              "      <td>0.038752</td>\n",
              "      <td>-0.245556</td>\n",
              "      <td>-0.779455</td>\n",
              "      <td>1.000000</td>\n",
              "      <td>-0.155917</td>\n",
              "      <td>-0.008450</td>\n",
              "      <td>0.121884</td>\n",
              "      <td>0.000334</td>\n",
              "      <td>0.009838</td>\n",
              "      <td>0.023208</td>\n",
              "      <td>-0.024514</td>\n",
              "    </tr>\n",
              "    <tr>\n",
              "      <th>education_primary</th>\n",
              "      <td>0.231150</td>\n",
              "      <td>-0.000673</td>\n",
              "      <td>0.013405</td>\n",
              "      <td>0.019915</td>\n",
              "      <td>-0.024852</td>\n",
              "      <td>0.013858</td>\n",
              "      <td>0.017002</td>\n",
              "      <td>0.006854</td>\n",
              "      <td>-0.063002</td>\n",
              "      <td>-0.007034</td>\n",
              "      <td>0.299737</td>\n",
              "      <td>-0.004788</td>\n",
              "      <td>0.114003</td>\n",
              "      <td>0.056150</td>\n",
              "      <td>-0.037121</td>\n",
              "      <td>-0.144948</td>\n",
              "      <td>-0.229245</td>\n",
              "      <td>0.024821</td>\n",
              "      <td>0.130232</td>\n",
              "      <td>-0.155917</td>\n",
              "      <td>1.000000</td>\n",
              "      <td>-0.386670</td>\n",
              "      <td>-0.276834</td>\n",
              "      <td>-0.085057</td>\n",
              "      <td>-0.026044</td>\n",
              "      <td>-0.049879</td>\n",
              "      <td>0.056477</td>\n",
              "    </tr>\n",
              "    <tr>\n",
              "      <th>education_secondary</th>\n",
              "      <td>-0.094400</td>\n",
              "      <td>-0.070609</td>\n",
              "      <td>0.003820</td>\n",
              "      <td>-0.013834</td>\n",
              "      <td>-0.004620</td>\n",
              "      <td>-0.000618</td>\n",
              "      <td>0.118514</td>\n",
              "      <td>0.079583</td>\n",
              "      <td>-0.051952</td>\n",
              "      <td>-0.017129</td>\n",
              "      <td>0.076687</td>\n",
              "      <td>-0.021132</td>\n",
              "      <td>-0.020532</td>\n",
              "      <td>0.137129</td>\n",
              "      <td>-0.060080</td>\n",
              "      <td>0.152542</td>\n",
              "      <td>-0.222261</td>\n",
              "      <td>0.009891</td>\n",
              "      <td>0.001536</td>\n",
              "      <td>-0.008450</td>\n",
              "      <td>-0.386670</td>\n",
              "      <td>1.000000</td>\n",
              "      <td>-0.689501</td>\n",
              "      <td>-0.211849</td>\n",
              "      <td>0.010625</td>\n",
              "      <td>-0.029466</td>\n",
              "      <td>0.013238</td>\n",
              "    </tr>\n",
              "    <tr>\n",
              "      <th>education_tertiary</th>\n",
              "      <td>-0.101372</td>\n",
              "      <td>0.069128</td>\n",
              "      <td>-0.006813</td>\n",
              "      <td>-0.005427</td>\n",
              "      <td>0.028146</td>\n",
              "      <td>-0.011768</td>\n",
              "      <td>-0.114955</td>\n",
              "      <td>-0.067513</td>\n",
              "      <td>0.094598</td>\n",
              "      <td>0.017346</td>\n",
              "      <td>-0.298548</td>\n",
              "      <td>0.026612</td>\n",
              "      <td>-0.110383</td>\n",
              "      <td>-0.184418</td>\n",
              "      <td>0.097929</td>\n",
              "      <td>-0.041988</td>\n",
              "      <td>0.422261</td>\n",
              "      <td>-0.024597</td>\n",
              "      <td>-0.098449</td>\n",
              "      <td>0.121884</td>\n",
              "      <td>-0.276834</td>\n",
              "      <td>-0.689501</td>\n",
              "      <td>1.000000</td>\n",
              "      <td>-0.151672</td>\n",
              "      <td>0.012265</td>\n",
              "      <td>0.059518</td>\n",
              "      <td>-0.052836</td>\n",
              "    </tr>\n",
              "    <tr>\n",
              "      <th>education_unknown</th>\n",
              "      <td>0.077761</td>\n",
              "      <td>0.014596</td>\n",
              "      <td>-0.015887</td>\n",
              "      <td>0.012976</td>\n",
              "      <td>-0.011898</td>\n",
              "      <td>0.005421</td>\n",
              "      <td>-0.053191</td>\n",
              "      <td>-0.050249</td>\n",
              "      <td>0.014355</td>\n",
              "      <td>0.013590</td>\n",
              "      <td>-0.000640</td>\n",
              "      <td>-0.001555</td>\n",
              "      <td>0.112986</td>\n",
              "      <td>-0.004629</td>\n",
              "      <td>-0.016336</td>\n",
              "      <td>-0.034276</td>\n",
              "      <td>-0.045233</td>\n",
              "      <td>-0.008920</td>\n",
              "      <td>0.005451</td>\n",
              "      <td>0.000334</td>\n",
              "      <td>-0.085057</td>\n",
              "      <td>-0.211849</td>\n",
              "      <td>-0.151672</td>\n",
              "      <td>1.000000</td>\n",
              "      <td>-0.010658</td>\n",
              "      <td>0.018158</td>\n",
              "      <td>-0.004978</td>\n",
              "    </tr>\n",
              "    <tr>\n",
              "      <th>poutcome_failure</th>\n",
              "      <td>-0.008071</td>\n",
              "      <td>0.001695</td>\n",
              "      <td>-0.033966</td>\n",
              "      <td>-0.080188</td>\n",
              "      <td>0.335870</td>\n",
              "      <td>-0.024650</td>\n",
              "      <td>0.087741</td>\n",
              "      <td>0.006264</td>\n",
              "      <td>0.020714</td>\n",
              "      <td>0.051422</td>\n",
              "      <td>-0.018022</td>\n",
              "      <td>-0.001840</td>\n",
              "      <td>-0.010865</td>\n",
              "      <td>-0.010816</td>\n",
              "      <td>-0.010039</td>\n",
              "      <td>0.005763</td>\n",
              "      <td>0.029387</td>\n",
              "      <td>-0.026169</td>\n",
              "      <td>0.007682</td>\n",
              "      <td>0.009838</td>\n",
              "      <td>-0.026044</td>\n",
              "      <td>0.010625</td>\n",
              "      <td>0.012265</td>\n",
              "      <td>-0.010658</td>\n",
              "      <td>1.000000</td>\n",
              "      <td>-0.114542</td>\n",
              "      <td>-0.690332</td>\n",
              "    </tr>\n",
              "    <tr>\n",
              "      <th>poutcome_success</th>\n",
              "      <td>0.062114</td>\n",
              "      <td>0.045603</td>\n",
              "      <td>-0.022578</td>\n",
              "      <td>-0.091807</td>\n",
              "      <td>0.325477</td>\n",
              "      <td>-0.040272</td>\n",
              "      <td>-0.136299</td>\n",
              "      <td>-0.080370</td>\n",
              "      <td>0.286642</td>\n",
              "      <td>0.119598</td>\n",
              "      <td>-0.077422</td>\n",
              "      <td>-0.035072</td>\n",
              "      <td>0.099733</td>\n",
              "      <td>-0.030331</td>\n",
              "      <td>-0.001399</td>\n",
              "      <td>-0.014744</td>\n",
              "      <td>0.033044</td>\n",
              "      <td>-0.018120</td>\n",
              "      <td>-0.010063</td>\n",
              "      <td>0.023208</td>\n",
              "      <td>-0.049879</td>\n",
              "      <td>-0.029466</td>\n",
              "      <td>0.059518</td>\n",
              "      <td>0.018158</td>\n",
              "      <td>-0.114542</td>\n",
              "      <td>1.000000</td>\n",
              "      <td>-0.639659</td>\n",
              "    </tr>\n",
              "    <tr>\n",
              "      <th>poutcome_unknown</th>\n",
              "      <td>-0.038992</td>\n",
              "      <td>-0.034524</td>\n",
              "      <td>0.042725</td>\n",
              "      <td>0.128907</td>\n",
              "      <td>-0.496921</td>\n",
              "      <td>0.048403</td>\n",
              "      <td>0.031375</td>\n",
              "      <td>0.053686</td>\n",
              "      <td>-0.224785</td>\n",
              "      <td>-0.126890</td>\n",
              "      <td>0.070330</td>\n",
              "      <td>0.026966</td>\n",
              "      <td>-0.064228</td>\n",
              "      <td>0.030459</td>\n",
              "      <td>0.008786</td>\n",
              "      <td>0.006279</td>\n",
              "      <td>-0.046804</td>\n",
              "      <td>0.033445</td>\n",
              "      <td>0.001384</td>\n",
              "      <td>-0.024514</td>\n",
              "      <td>0.056477</td>\n",
              "      <td>0.013238</td>\n",
              "      <td>-0.052836</td>\n",
              "      <td>-0.004978</td>\n",
              "      <td>-0.690332</td>\n",
              "      <td>-0.639659</td>\n",
              "      <td>1.000000</td>\n",
              "    </tr>\n",
              "  </tbody>\n",
              "</table>\n",
              "</div>"
            ],
            "text/plain": [
              "                          age   balance  ...  poutcome_success  poutcome_unknown\n",
              "age                  1.000000  0.112300  ...          0.062114         -0.038992\n",
              "balance              0.112300  1.000000  ...          0.045603         -0.034524\n",
              "duration             0.000189  0.022436  ...         -0.022578          0.042725\n",
              "campaign            -0.005278 -0.013894  ...         -0.091807          0.128907\n",
              "previous             0.020169  0.030805  ...          0.325477         -0.496921\n",
              "default_cat         -0.011425 -0.060954  ...         -0.040272          0.048403\n",
              "housing_cat         -0.168700 -0.077092  ...         -0.136299          0.031375\n",
              "loan_cat            -0.031418 -0.084589  ...         -0.080370          0.053686\n",
              "deposit_cat          0.034901  0.081129  ...          0.286642         -0.224785\n",
              "recent_pdays         0.019102 -0.004379  ...          0.119598         -0.126890\n",
              "job_blue-collar     -0.066567 -0.046220  ...         -0.077422          0.070330\n",
              "job_entrepreneur     0.024176  0.005039  ...         -0.035072          0.026966\n",
              "job_other            0.296418  0.050744  ...          0.099733         -0.064228\n",
              "job_pink-collar     -0.027942 -0.041063  ...         -0.030331          0.030459\n",
              "job_self-employed   -0.023163  0.020264  ...         -0.001399          0.008786\n",
              "job_technician      -0.082716  0.003802  ...         -0.014744          0.006279\n",
              "job_white-collar    -0.080122  0.013780  ...          0.033044         -0.046804\n",
              "marital_divorced     0.186349 -0.017586  ...         -0.018120          0.033445\n",
              "marital_married      0.318436  0.025431  ...         -0.010063          0.001384\n",
              "marital_single      -0.467799 -0.014994  ...          0.023208         -0.024514\n",
              "education_primary    0.231150 -0.000673  ...         -0.049879          0.056477\n",
              "education_secondary -0.094400 -0.070609  ...         -0.029466          0.013238\n",
              "education_tertiary  -0.101372  0.069128  ...          0.059518         -0.052836\n",
              "education_unknown    0.077761  0.014596  ...          0.018158         -0.004978\n",
              "poutcome_failure    -0.008071  0.001695  ...         -0.114542         -0.690332\n",
              "poutcome_success     0.062114  0.045603  ...          1.000000         -0.639659\n",
              "poutcome_unknown    -0.038992 -0.034524  ...         -0.639659          1.000000\n",
              "\n",
              "[27 rows x 27 columns]"
            ]
          },
          "metadata": {
            "tags": []
          },
          "execution_count": 64
        }
      ]
    },
    {
      "cell_type": "code",
      "metadata": {
        "id": "op1LxCbExkgJ",
        "colab_type": "code",
        "outputId": "974932a9-5c9b-4faf-e4fd-f756cba07e9f",
        "colab": {
          "base_uri": "https://localhost:8080/",
          "height": 623
        }
      },
      "source": [
        "# Heatmap\n",
        "plt.figure(figsize = (10,10))\n",
        "cmap = sns.diverging_palette(220, 10, as_cmap=True)\n",
        "cmap= \"twilight_shifted\"\n",
        "sns.heatmap(corr, xticklabels=corr.columns.values, yticklabels=corr.columns.values, cmap=cmap, vmax=.3, center=0, square=True, linewidths=.5, cbar_kws={\"shrink\": .82})\n",
        "plt.title('Heatmap of Correlation Matrix')"
      ],
      "execution_count": 65,
      "outputs": [
        {
          "output_type": "execute_result",
          "data": {
            "text/plain": [
              "Text(0.5, 1.0, 'Heatmap of Correlation Matrix')"
            ]
          },
          "metadata": {
            "tags": []
          },
          "execution_count": 65
        },
        {
          "output_type": "display_data",
          "data": {
            "image/png": "[encoded data removed]",
            "text/plain": [
              "<Figure size 720x720 with 2 Axes>"
            ]
          },
          "metadata": {
            "tags": []
          }
        }
      ]
    },
    {
      "cell_type": "code",
      "metadata": {
        "id": "pkyZpWfQ0OvF",
        "colab_type": "code",
        "outputId": "3e362d58-bd2f-4494-ff27-f5f1c096a283",
        "colab": {
          "base_uri": "https://localhost:8080/",
          "height": 827
        }
      },
      "source": [
        "# Extract the deposite_cat column (the dependent variable)\n",
        "corr_deposite = pd.DataFrame(corr['deposit_cat'].drop('deposit_cat'))\n",
        "corr_deposite.sort_values(by = 'deposit_cat', ascending = False)"
      ],
      "execution_count": 66,
      "outputs": [
        {
          "output_type": "execute_result",
          "data": {
            "text/html": [
              "<div>\n",
              "<style scoped>\n",
              "    .dataframe tbody tr th:only-of-type {\n",
              "        vertical-align: middle;\n",
              "    }\n",
              "\n",
              "    .dataframe tbody tr th {\n",
              "        vertical-align: top;\n",
              "    }\n",
              "\n",
              "    .dataframe thead th {\n",
              "        text-align: right;\n",
              "    }\n",
              "</style>\n",
              "<table border=\"1\" class=\"dataframe\">\n",
              "  <thead>\n",
              "    <tr style=\"text-align: right;\">\n",
              "      <th></th>\n",
              "      <th>deposit_cat</th>\n",
              "    </tr>\n",
              "  </thead>\n",
              "  <tbody>\n",
              "    <tr>\n",
              "      <th>duration</th>\n",
              "      <td>0.451919</td>\n",
              "    </tr>\n",
              "    <tr>\n",
              "      <th>poutcome_success</th>\n",
              "      <td>0.286642</td>\n",
              "    </tr>\n",
              "    <tr>\n",
              "      <th>job_other</th>\n",
              "      <td>0.144408</td>\n",
              "    </tr>\n",
              "    <tr>\n",
              "      <th>previous</th>\n",
              "      <td>0.139867</td>\n",
              "    </tr>\n",
              "    <tr>\n",
              "      <th>marital_single</th>\n",
              "      <td>0.094632</td>\n",
              "    </tr>\n",
              "    <tr>\n",
              "      <th>education_tertiary</th>\n",
              "      <td>0.094598</td>\n",
              "    </tr>\n",
              "    <tr>\n",
              "      <th>balance</th>\n",
              "      <td>0.081129</td>\n",
              "    </tr>\n",
              "    <tr>\n",
              "      <th>age</th>\n",
              "      <td>0.034901</td>\n",
              "    </tr>\n",
              "    <tr>\n",
              "      <th>recent_pdays</th>\n",
              "      <td>0.034457</td>\n",
              "    </tr>\n",
              "    <tr>\n",
              "      <th>job_white-collar</th>\n",
              "      <td>0.031621</td>\n",
              "    </tr>\n",
              "    <tr>\n",
              "      <th>poutcome_failure</th>\n",
              "      <td>0.020714</td>\n",
              "    </tr>\n",
              "    <tr>\n",
              "      <th>education_unknown</th>\n",
              "      <td>0.014355</td>\n",
              "    </tr>\n",
              "    <tr>\n",
              "      <th>marital_divorced</th>\n",
              "      <td>0.005228</td>\n",
              "    </tr>\n",
              "    <tr>\n",
              "      <th>job_self-employed</th>\n",
              "      <td>-0.004707</td>\n",
              "    </tr>\n",
              "    <tr>\n",
              "      <th>job_technician</th>\n",
              "      <td>-0.011557</td>\n",
              "    </tr>\n",
              "    <tr>\n",
              "      <th>job_entrepreneur</th>\n",
              "      <td>-0.034443</td>\n",
              "    </tr>\n",
              "    <tr>\n",
              "      <th>default_cat</th>\n",
              "      <td>-0.040680</td>\n",
              "    </tr>\n",
              "    <tr>\n",
              "      <th>job_pink-collar</th>\n",
              "      <td>-0.051717</td>\n",
              "    </tr>\n",
              "    <tr>\n",
              "      <th>education_secondary</th>\n",
              "      <td>-0.051952</td>\n",
              "    </tr>\n",
              "    <tr>\n",
              "      <th>education_primary</th>\n",
              "      <td>-0.063002</td>\n",
              "    </tr>\n",
              "    <tr>\n",
              "      <th>marital_married</th>\n",
              "      <td>-0.092157</td>\n",
              "    </tr>\n",
              "    <tr>\n",
              "      <th>job_blue-collar</th>\n",
              "      <td>-0.100840</td>\n",
              "    </tr>\n",
              "    <tr>\n",
              "      <th>loan_cat</th>\n",
              "      <td>-0.110580</td>\n",
              "    </tr>\n",
              "    <tr>\n",
              "      <th>campaign</th>\n",
              "      <td>-0.128081</td>\n",
              "    </tr>\n",
              "    <tr>\n",
              "      <th>housing_cat</th>\n",
              "      <td>-0.203888</td>\n",
              "    </tr>\n",
              "    <tr>\n",
              "      <th>poutcome_unknown</th>\n",
              "      <td>-0.224785</td>\n",
              "    </tr>\n",
              "  </tbody>\n",
              "</table>\n",
              "</div>"
            ],
            "text/plain": [
              "                     deposit_cat\n",
              "duration                0.451919\n",
              "poutcome_success        0.286642\n",
              "job_other               0.144408\n",
              "previous                0.139867\n",
              "marital_single          0.094632\n",
              "education_tertiary      0.094598\n",
              "balance                 0.081129\n",
              "age                     0.034901\n",
              "recent_pdays            0.034457\n",
              "job_white-collar        0.031621\n",
              "poutcome_failure        0.020714\n",
              "education_unknown       0.014355\n",
              "marital_divorced        0.005228\n",
              "job_self-employed      -0.004707\n",
              "job_technician         -0.011557\n",
              "job_entrepreneur       -0.034443\n",
              "default_cat            -0.040680\n",
              "job_pink-collar        -0.051717\n",
              "education_secondary    -0.051952\n",
              "education_primary      -0.063002\n",
              "marital_married        -0.092157\n",
              "job_blue-collar        -0.100840\n",
              "loan_cat               -0.110580\n",
              "campaign               -0.128081\n",
              "housing_cat            -0.203888\n",
              "poutcome_unknown       -0.224785"
            ]
          },
          "metadata": {
            "tags": []
          },
          "execution_count": 66
        }
      ]
    },
    {
      "cell_type": "markdown",
      "metadata": {
        "id": "oEFGKFFnYqok",
        "colab_type": "text"
      },
      "source": [
        "## Build the Data Model"
      ]
    },
    {
      "cell_type": "code",
      "metadata": {
        "id": "QcUh_KJyYub1",
        "colab_type": "code",
        "colab": {}
      },
      "source": [
        "# Train-Test Split: 20% Test Data\n",
        "data_drop_deposite = df_bank_class.drop('deposit_cat', 1)\n",
        "label = df_bank_class.deposit_cat\n",
        "data_train, data_test, label_train, label_test = train_test_split(data_drop_deposite, label, test_size = 0.2, random_state = 50)"
      ],
      "execution_count": 0,
      "outputs": []
    },
    {
      "cell_type": "code",
      "metadata": {
        "id": "NuVNFeqndRE9",
        "colab_type": "code",
        "colab": {
          "base_uri": "https://localhost:8080/",
          "height": 50
        },
        "outputId": "90165544-17ed-4a0f-aef2-0c4c18d99098"
      },
      "source": [
        "# Decision Tree with depth = 2\n",
        "dt2 = tree.DecisionTreeClassifier(random_state=1, max_depth=2)\n",
        "dt2.fit(data_train, label_train)\n",
        "dt2_score_train = dt2.score(data_train, label_train)\n",
        "print(\"Training score: \",dt2_score_train)\n",
        "dt2_score_test = dt2.score(data_test, label_test)\n",
        "print(\"Testing score: \",dt2_score_test)"
      ],
      "execution_count": 79,
      "outputs": [
        {
          "output_type": "stream",
          "text": [
            "Training score:  0.7285250307985217\n",
            "Testing score:  0.7268248992386923\n"
          ],
          "name": "stdout"
        }
      ]
    },
    {
      "cell_type": "code",
      "metadata": {
        "_cell_guid": "14b771bd-b87e-4ac4-b3ec-64da8bbb7b68",
        "_uuid": "c828f56ae83bf3eac076c3642ad26e51f660d643",
        "collapsed": true,
        "id": "OA6MLTY9mFDY",
        "colab_type": "code",
        "outputId": "c239cb8c-7412-46cc-f7fb-a4048e635f41",
        "colab": {
          "base_uri": "https://localhost:8080/",
          "height": 50
        }
      },
      "source": [
        "# Decision Tree with depth = 3\n",
        "dt3 = tree.DecisionTreeClassifier(random_state=1, max_depth=3)\n",
        "dt3.fit(data_train, label_train)\n",
        "dt3_score_train = dt3.score(data_train, label_train)\n",
        "print(\"Training score: \",dt3_score_train)\n",
        "dt3_score_test = dt3.score(data_test, label_test)\n",
        "print(\"Testing score: \",dt3_score_test)"
      ],
      "execution_count": 73,
      "outputs": [
        {
          "output_type": "stream",
          "text": [
            "Training score:  0.770411020271027\n",
            "Testing score:  0.7572772055530677\n"
          ],
          "name": "stdout"
        }
      ]
    },
    {
      "cell_type": "code",
      "metadata": {
        "_cell_guid": "60190973-9780-4b6a-9762-7e43d442db6b",
        "_uuid": "f45e7da9e4052b837a3c363f03de439d16cca6d0",
        "collapsed": true,
        "id": "wdFtxbEjmFDa",
        "colab_type": "code",
        "outputId": "2f4bb57b-cdbf-41a1-b162-f937e84b5418",
        "colab": {
          "base_uri": "https://localhost:8080/",
          "height": 50
        }
      },
      "source": [
        "# Decision Tree with depth = 4\n",
        "dt4 = tree.DecisionTreeClassifier(random_state=1, max_depth=4)\n",
        "dt4.fit(data_train, label_train)\n",
        "dt4_score_train = dt4.score(data_train, label_train)\n",
        "print(\"Training score: \",dt4_score_train)\n",
        "dt4_score_test = dt4.score(data_test, label_test)\n",
        "print(\"Testing score: \",dt4_score_test)"
      ],
      "execution_count": 74,
      "outputs": [
        {
          "output_type": "stream",
          "text": [
            "Training score:  0.7885541494008288\n",
            "Testing score:  0.774294670846395\n"
          ],
          "name": "stdout"
        }
      ]
    },
    {
      "cell_type": "code",
      "metadata": {
        "id": "1COIHsegedhJ",
        "colab_type": "code",
        "colab": {
          "base_uri": "https://localhost:8080/",
          "height": 50
        },
        "outputId": "d84d547a-ec48-4506-950e-daeda07262bf"
      },
      "source": [
        "# Decision Tree with depth = 5\n",
        "dt5 = tree.DecisionTreeClassifier(random_state=1, max_depth=5)\n",
        "dt5.fit(data_train, label_train)\n",
        "dt5_score_train = dt5.score(data_train, label_train)\n",
        "print(\"Training score: \",dt5_score_train)\n",
        "dt5_score_test = dt4.score(data_test, label_test)\n",
        "print(\"Testing score: \",dt5_score_test)"
      ],
      "execution_count": 78,
      "outputs": [
        {
          "output_type": "stream",
          "text": [
            "Training score:  0.7976257139657297\n",
            "Testing score:  0.774294670846395\n"
          ],
          "name": "stdout"
        }
      ]
    },
    {
      "cell_type": "code",
      "metadata": {
        "_cell_guid": "0f61abaa-9d1e-4fa7-83e7-23f11bdf90e8",
        "_uuid": "a3b51e1daf328cc5157234c3e4bf0be5174ce62f",
        "collapsed": true,
        "id": "pftBlJHbmFDc",
        "colab_type": "code",
        "outputId": "387a336d-6b6b-4b9b-a819-7ede62cf2b0b",
        "colab": {
          "base_uri": "https://localhost:8080/",
          "height": 50
        }
      },
      "source": [
        "# Decision Tree with depth = 6\n",
        "dt6 = tree.DecisionTreeClassifier(random_state=1, max_depth=6)\n",
        "dt6.fit(data_train, label_train)\n",
        "dt6_score_train = dt6.score(data_train, label_train)\n",
        "print(\"Training score: \",dt6_score_train)\n",
        "dt6_score_test = dt6.score(data_test, label_test)\n",
        "print(\"Testing score: \",dt6_score_test)"
      ],
      "execution_count": 75,
      "outputs": [
        {
          "output_type": "stream",
          "text": [
            "Training score:  0.8080412140217269\n",
            "Testing score:  0.7796686072548141\n"
          ],
          "name": "stdout"
        }
      ]
    },
    {
      "cell_type": "code",
      "metadata": {
        "_cell_guid": "32a4d8a7-b285-47c2-988c-8aa6a66933e2",
        "_uuid": "cabee45b6dd75bd0aac571320e300c5d2c94c045",
        "collapsed": true,
        "id": "wyDieePYmFDe",
        "colab_type": "code",
        "outputId": "ba00f1b1-8625-4a7c-fc3f-fb98475b2f20",
        "colab": {
          "base_uri": "https://localhost:8080/",
          "height": 50
        }
      },
      "source": [
        "# Decision tree: To the full depth\n",
        "dt1 = tree.DecisionTreeClassifier()\n",
        "dt1.fit(data_train, label_train)\n",
        "dt1_score_train = dt1.score(data_train, label_train)\n",
        "print(\"Training score: \", dt1_score_train)\n",
        "dt1_score_test = dt1.score(data_test, label_test)\n",
        "print(\"Testing score: \", dt1_score_test)"
      ],
      "execution_count": 76,
      "outputs": [
        {
          "output_type": "stream",
          "text": [
            "Training score:  1.0\n",
            "Testing score:  0.7313031795790417\n"
          ],
          "name": "stdout"
        }
      ]
    },
    {
      "cell_type": "markdown",
      "metadata": {
        "id": "zz_kYjGZe02i",
        "colab_type": "text"
      },
      "source": [
        "### Compare Training and Testing Scores for various Tree Depths used"
      ]
    },
    {
      "cell_type": "code",
      "metadata": {
        "id": "_rnNHdt5fKoz",
        "colab_type": "code",
        "colab": {
          "base_uri": "https://localhost:8080/",
          "height": 150
        },
        "outputId": "fcf666bd-447b-4357-b0de-06c08ce483b0"
      },
      "source": [
        "print('{:10} {:20} {:20}'.format('depth', 'Training score','Testing score'))\n",
        "print('{:10} {:20} {:20}'.format('-----', '--------------','-------------'))\n",
        "print('{:1} {:>25} {:>20}'.format(2, dt2_score_train, dt2_score_test))\n",
        "print('{:1} {:>25} {:>20}'.format(3, dt3_score_train, dt3_score_test))\n",
        "print('{:1} {:>25} {:>20}'.format(4, dt4_score_train, dt4_score_test))\n",
        "print('{:1} {:>25} {:>20}'.format(5, dt5_score_train, dt4_score_test))\n",
        "print('{:1} {:>25} {:>20}'.format(6, dt6_score_train, dt6_score_test))\n",
        "print('{:1} {:>23} {:>20}'.format(\"max\", dt1_score_train, dt1_score_test))"
      ],
      "execution_count": 80,
      "outputs": [
        {
          "output_type": "stream",
          "text": [
            "depth      Training score       Testing score       \n",
            "-----      --------------       -------------       \n",
            "2        0.7285250307985217   0.7268248992386923\n",
            "3         0.770411020271027   0.7572772055530677\n",
            "4        0.7885541494008288    0.774294670846395\n",
            "5        0.7976257139657297    0.774294670846395\n",
            "6        0.8080412140217269   0.7796686072548141\n",
            "max                     1.0   0.7313031795790417\n"
          ],
          "name": "stdout"
        }
      ]
    },
    {
      "cell_type": "markdown",
      "metadata": {
        "id": "ynqgxGscfcGj",
        "colab_type": "text"
      },
      "source": [
        "#### It could be seen that, higher the depth, training score increases and matches perfects with the Training Dataset.\n",
        "#### However higher the depth the Tree goes, it overfit to the training Dataset. So it's no use keep increasing the Tree Depth. \n",
        "#### According to above observations, Tree with a Depth of 2 seems more reasonable as both training and Test Scores are reasonably high."
      ]
    },
    {
      "cell_type": "code",
      "metadata": {
        "id": "OTYZ4efgg2z2",
        "colab_type": "code",
        "colab": {}
      },
      "source": [
        "# Let's generate the Decision Tree for depth = 2\n",
        "# Create a Feature Vector\n",
        "features = df_bank_class.columns.tolist()\n",
        "\n",
        "# Uncomment below to generate the digraph Tree.\n",
        "# tree.export_graphviz(dt2, out_file='tree_depth_2.dot', feature_names=features)"
      ],
      "execution_count": 0,
      "outputs": []
    },
    {
      "cell_type": "code",
      "metadata": {
        "id": "UH3dfuWIhZ8O",
        "colab_type": "code",
        "colab": {
          "base_uri": "https://localhost:8080/",
          "height": 435
        },
        "outputId": "2163e499-b7b6-45d2-8887-42a7b7b6e0dc"
      },
      "source": [
        "from IPython.display import Image as PImage\n",
        "from subprocess import check_call\n",
        "from PIL import Image, ImageDraw, ImageFont\n",
        "\n",
        "with open(\"tree2.dot\", 'w') as f:\n",
        "  f = tree.export_graphviz(dt2, out_file = f, max_depth = 2, impurity = True, #featurenames = features,\n",
        "    feature_names = list(df_bank_class.drop(['deposit_cat'], axis = 1)),\n",
        "    class_names = ['Not Deposit', 'Deposit'],\n",
        "    rounded = True, filled = True)\n",
        "\n",
        "check_call(['dot', '-Tpng', 'tree2.dot', '-o', 'tree2.png'])\n",
        "\n",
        "img = Image.open(\"tree2.png\")\n",
        "draw = ImageDraw.Draw(img)\n",
        "img.save('sample-out2.png')\n",
        "PImage(\"sample-out2.png\")"
      ],
      "execution_count": 96,
      "outputs": [
        {
          "output_type": "execute_result",
          "data": {
            "image/png": "[encoded data removed]",
            "text/plain": [
              "<IPython.core.display.Image object>"
            ]
          },
          "metadata": {
            "tags": []
          },
          "execution_count": 96
        }
      ]
    },
    {
      "cell_type": "markdown",
      "metadata": {
        "id": "J5jzGZhZj3yn",
        "colab_type": "text"
      },
      "source": [
        "### Based on the Decision Tree results, it could be seen that higher the \"duration\", Bank is able to sign up more people to term deposites."
      ]
    },
    {
      "cell_type": "code",
      "metadata": {
        "_cell_guid": "eafef089-0ec3-4915-8db1-783a06c77eec",
        "_uuid": "ba242f2e1caef4966ebe0f0e7eec41dcc7daebc0",
        "collapsed": true,
        "id": "G9TMXCPAmFDq",
        "colab_type": "code",
        "outputId": "8b482395-16e8-49c1-8d9c-e603bc627707",
        "colab": {
          "base_uri": "https://localhost:8080/",
          "height": 33
        }
      },
      "source": [
        "# Two classes: 0 = not signed up,  1 = signed up\n",
        "dt2.classes_"
      ],
      "execution_count": 97,
      "outputs": [
        {
          "output_type": "execute_result",
          "data": {
            "text/plain": [
              "array([0, 1])"
            ]
          },
          "metadata": {
            "tags": []
          },
          "execution_count": 97
        }
      ]
    },
    {
      "cell_type": "code",
      "metadata": {
        "_cell_guid": "2a4d1e56-ec88-471b-b530-57f9c420e447",
        "_uuid": "e047c485745e224de5e9a76f656dca9f54760a86",
        "collapsed": true,
        "id": "nYYhl79smFDt",
        "colab_type": "code",
        "outputId": "dfe29029-4b20-4446-8ecd-9106e9651bb7",
        "colab": {
          "base_uri": "https://localhost:8080/",
          "height": 450
        }
      },
      "source": [
        "# Create a Feature Vector\n",
        "features = data_drop_deposite.columns.tolist()\n",
        "\n",
        "features"
      ],
      "execution_count": 98,
      "outputs": [
        {
          "output_type": "execute_result",
          "data": {
            "text/plain": [
              "['age',\n",
              " 'balance',\n",
              " 'duration',\n",
              " 'campaign',\n",
              " 'previous',\n",
              " 'default_cat',\n",
              " 'housing_cat',\n",
              " 'loan_cat',\n",
              " 'recent_pdays',\n",
              " 'job_blue-collar',\n",
              " 'job_entrepreneur',\n",
              " 'job_other',\n",
              " 'job_pink-collar',\n",
              " 'job_self-employed',\n",
              " 'job_technician',\n",
              " 'job_white-collar',\n",
              " 'marital_divorced',\n",
              " 'marital_married',\n",
              " 'marital_single',\n",
              " 'education_primary',\n",
              " 'education_secondary',\n",
              " 'education_tertiary',\n",
              " 'education_unknown',\n",
              " 'poutcome_failure',\n",
              " 'poutcome_success',\n",
              " 'poutcome_unknown']"
            ]
          },
          "metadata": {
            "tags": []
          },
          "execution_count": 98
        }
      ]
    },
    {
      "cell_type": "code",
      "metadata": {
        "_cell_guid": "a40199c8-690b-4361-bdcc-f7dd76946250",
        "_uuid": "6cd0de90f9a563e11e42683f81d82b5c91c6d93c",
        "collapsed": true,
        "id": "R_FwvW9lmFDv",
        "colab_type": "code",
        "outputId": "9953ea20-4b60-4d4b-98bf-4cd6a24f9333",
        "colab": {
          "base_uri": "https://localhost:8080/",
          "height": 450
        }
      },
      "source": [
        "# Investigate most important Features with depth =2\n",
        "\n",
        "dt2 = tree.DecisionTreeClassifier(random_state=1, max_depth=2)\n",
        "\n",
        "# Fit the decision tree classifier\n",
        "dt2.fit(data_train, label_train)\n",
        "\n",
        "fi = dt2.feature_importances_\n",
        "\n",
        "l = len(features)\n",
        "for i in range(0,len(features)):\n",
        "    print('{:.<20} {:3}'.format(features[i],fi[i]))"
      ],
      "execution_count": 99,
      "outputs": [
        {
          "output_type": "stream",
          "text": [
            "age................. 0.0\n",
            "balance............. 0.0\n",
            "duration............ 0.849306123902405\n",
            "campaign............ 0.0\n",
            "previous............ 0.0\n",
            "default_cat......... 0.0\n",
            "housing_cat......... 0.0\n",
            "loan_cat............ 0.0\n",
            "recent_pdays........ 0.0\n",
            "job_blue-collar..... 0.0\n",
            "job_entrepreneur.... 0.0\n",
            "job_other........... 0.0\n",
            "job_pink-collar..... 0.0\n",
            "job_self-employed... 0.0\n",
            "job_technician...... 0.0\n",
            "job_white-collar.... 0.0\n",
            "marital_divorced.... 0.0\n",
            "marital_married..... 0.0\n",
            "marital_single...... 0.0\n",
            "education_primary... 0.0\n",
            "education_secondary. 0.0\n",
            "education_tertiary.. 0.0\n",
            "education_unknown... 0.0\n",
            "poutcome_failure.... 0.0\n",
            "poutcome_success.... 0.15069387609759496\n",
            "poutcome_unknown.... 0.0\n"
          ],
          "name": "stdout"
        }
      ]
    },
    {
      "cell_type": "markdown",
      "metadata": {
        "id": "zwF7ncHVklSu",
        "colab_type": "text"
      },
      "source": [
        "## Predictions"
      ]
    },
    {
      "cell_type": "code",
      "metadata": {
        "_cell_guid": "7d43908a-0eef-4719-90a2-96e486ee3743",
        "_uuid": "34edc756644878ec7c1cdbe10310485dc9b386a7",
        "collapsed": true,
        "id": "vBAkdtc_mFDy",
        "colab_type": "code",
        "outputId": "856ed9d1-35c2-44ab-bf17-d9d64f9f4416",
        "colab": {
          "base_uri": "https://localhost:8080/",
          "height": 66
        }
      },
      "source": [
        "# According to Feature importance results, most importtant Feature is the \"Duration\"\n",
        "# Let's calculte statistics on Duration\n",
        "print(\"Mean duration   : \", data_drop_deposite.duration.mean())\n",
        "print(\"Maximun duration: \", data_drop_deposite.duration.max())\n",
        "print(\"Minimum duration: \", data_drop_deposite.duration.min())"
      ],
      "execution_count": 100,
      "outputs": [
        {
          "output_type": "stream",
          "text": [
            "Mean duration   :  371.99381831213043\n",
            "Maximun duration:  3881\n",
            "Minimum duration:  2\n"
          ],
          "name": "stdout"
        }
      ]
    },
    {
      "cell_type": "code",
      "metadata": {
        "_cell_guid": "44c20639-552b-4941-98ca-492aaaf987e3",
        "_uuid": "f90cc3423d1135a1f0fb8f4850088935de2cc7d3",
        "collapsed": true,
        "id": "H0KQamVymFD6",
        "colab_type": "code",
        "outputId": "692d576a-52d4-458a-b406-70d160024c0d",
        "colab": {
          "base_uri": "https://localhost:8080/",
          "height": 50
        }
      },
      "source": [
        "# Predict: Successful deposite with a call duration = 371 sec\n",
        "\n",
        "print(dt2.predict_proba(np.array([0, 0, 371, 0, 0, 0,0,0,0,0,0,0,0,0,0,0,0,0,0,0,0,0,0,0,1,0]).reshape(1, -1)))\n",
        "print(dt2.predict(np.array([0, 0, 371, 0, 0, 0,0,0,0,0,0,0,0,0,0,0,0,0,0,0,0,0,0,0,1,0]).reshape(1, -1)))\n",
        "# column 0: probability for class 0 (not signed for term deposite) & column 1: probability for class 1\n",
        "# Probability of Successful deposite = 0.51484432"
      ],
      "execution_count": 101,
      "outputs": [
        {
          "output_type": "stream",
          "text": [
            "[[0.48515568 0.51484432]]\n",
            "[1]\n"
          ],
          "name": "stdout"
        }
      ]
    },
    {
      "cell_type": "code",
      "metadata": {
        "_cell_guid": "45ce9752-9a0e-49ae-8ae6-62f39e984fc1",
        "_uuid": "01b7620cb265ebae4ec3289e20b49405324d25f0",
        "collapsed": true,
        "id": "OMKI1lEamFD8",
        "colab_type": "code",
        "outputId": "d700ce4b-6057-4881-c91e-50c0e7c70f8a",
        "colab": {
          "base_uri": "https://localhost:8080/",
          "height": 50
        }
      },
      "source": [
        "# Predict: Successful deposite with a maximun call duration = 3881 sec\n",
        "\n",
        "print(dt2.predict_proba(np.array([0, 0, 3881, 0, 0, 0,0,0,0,0,0,0,0,0,0,0,0,0,0,0,0,0,0,0,1,0]).reshape(1, -1)))\n",
        "print(dt2.predict(np.array([0, 0, 3881, 0, 0, 0,0,0,0,0,0,0,0,0,0,0,0,0,0,0,0,0,0,0,1,0]).reshape(1, -1)))"
      ],
      "execution_count": 102,
      "outputs": [
        {
          "output_type": "stream",
          "text": [
            "[[0.19295499 0.80704501]]\n",
            "[1]\n"
          ],
          "name": "stdout"
        }
      ]
    },
    {
      "cell_type": "code",
      "metadata": {
        "_cell_guid": "49cc5af7-e45e-465e-8496-f6e64ddffa06",
        "_uuid": "0f0d54a2141b6a7906a93fbc0cf73b2cfe1dfecc",
        "collapsed": true,
        "id": "ufrVVfXKmFD9",
        "colab_type": "code",
        "outputId": "a7334a0b-6696-40f7-97ac-42af01f4694e",
        "colab": {
          "base_uri": "https://localhost:8080/",
          "height": 466
        }
      },
      "source": [
        "# Get a row with poutcome_success = 1\n",
        "#bank_with_dummies[(bank_with_dummies.poutcome_success == 1)]\n",
        "data_drop_deposite.iloc[985]"
      ],
      "execution_count": 103,
      "outputs": [
        {
          "output_type": "execute_result",
          "data": {
            "text/plain": [
              "age                      46.000000\n",
              "balance                3354.000000\n",
              "duration                522.000000\n",
              "campaign                  1.000000\n",
              "previous                  1.000000\n",
              "default_cat               0.000000\n",
              "housing_cat               1.000000\n",
              "loan_cat                  0.000000\n",
              "recent_pdays              0.005747\n",
              "job_blue-collar           0.000000\n",
              "job_entrepreneur          0.000000\n",
              "job_other                 1.000000\n",
              "job_pink-collar           0.000000\n",
              "job_self-employed         0.000000\n",
              "job_technician            0.000000\n",
              "job_white-collar          0.000000\n",
              "marital_divorced          1.000000\n",
              "marital_married           0.000000\n",
              "marital_single            0.000000\n",
              "education_primary         0.000000\n",
              "education_secondary       1.000000\n",
              "education_tertiary        0.000000\n",
              "education_unknown         0.000000\n",
              "poutcome_failure          0.000000\n",
              "poutcome_success          1.000000\n",
              "poutcome_unknown          0.000000\n",
              "Name: 985, dtype: float64"
            ]
          },
          "metadata": {
            "tags": []
          },
          "execution_count": 103
        }
      ]
    },
    {
      "cell_type": "code",
      "metadata": {
        "_cell_guid": "2e1045dd-ab80-4ebd-8daa-9b51c217f1cc",
        "_uuid": "735a8e7498209fd60fd7ece2d610e0cd12793715",
        "collapsed": true,
        "id": "6I3PSqWTmFD_",
        "colab_type": "code",
        "outputId": "109bd612-9a4a-4c1f-b1ee-3b3dc36c464d",
        "colab": {
          "base_uri": "https://localhost:8080/",
          "height": 33
        }
      },
      "source": [
        "# Predict: Probability for above\n",
        "\n",
        "print(dt2.predict_proba(np.array([46,3354,522,1,1,0,1,0,0.005747,0,0,1,0,0,0,0,1,0,0,0,1,0,0,0,1,0]).reshape(1, -1)))\n",
        "#print(ctree.predict(np.array([46,3354,522,1,1,0,1,0,0.005747,0,0,1,0,0,0,0,1,0,0,0,1,0,0,0,1,0]).reshape(1, -1)))"
      ],
      "execution_count": 104,
      "outputs": [
        {
          "output_type": "stream",
          "text": [
            "[[0.19295499 0.80704501]]\n"
          ],
          "name": "stdout"
        }
      ]
    },
    {
      "cell_type": "code",
      "metadata": {
        "_cell_guid": "1a0663b5-bb57-4bee-83cb-3713cd1bfd49",
        "_uuid": "7b6c6107fab5f61fedc06523adb4457b7521001d",
        "collapsed": true,
        "scrolled": true,
        "id": "3ohWzDe4mFEB",
        "colab_type": "code",
        "outputId": "351b354a-58ed-4839-b5d0-2fa55b359c8d",
        "colab": {
          "base_uri": "https://localhost:8080/",
          "height": 116
        }
      },
      "source": [
        "# Make predictions on the test set\n",
        "preds = dt2.predict(data_test)\n",
        "\n",
        "# Calculate accuracy\n",
        "print(\"\\nAccuracy score: \\n{}\".format(metrics.accuracy_score(label_test, preds)))\n",
        "\n",
        "# Make predictions on the test set using predict_proba\n",
        "probs = dt2.predict_proba(data_test)[:,1]\n",
        "\n",
        "# Calculate the AUC metric\n",
        "print(\"\\nArea Under Curve: \\n{}\".format(metrics.roc_auc_score(label_test, probs)))"
      ],
      "execution_count": 105,
      "outputs": [
        {
          "output_type": "stream",
          "text": [
            "\n",
            "Accuracy score: \n",
            "0.7268248992386923\n",
            "\n",
            "Area Under Curve: \n",
            "0.7880265888143609\n"
          ],
          "name": "stdout"
        }
      ]
    },
    {
      "cell_type": "code",
      "metadata": {
        "id": "1jJv9XgCk_At",
        "colab_type": "code",
        "colab": {}
      },
      "source": [
        "######################################################################################################################################################################"
      ],
      "execution_count": 0,
      "outputs": []
    }
  ]
}